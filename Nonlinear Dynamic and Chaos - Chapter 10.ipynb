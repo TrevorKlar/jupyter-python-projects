{
 "cells": [
  {
   "cell_type": "markdown",
   "metadata": {},
   "source": [
    "# Chapter 10.  One-Dimensional Maps\n",
    "## 10.0 Introduction\n",
    "Recall the [Lorenz Attractor](https://upload.wikimedia.org/wikipedia/commons/1/13/A_Trajectory_Through_Phase_Space_in_a_Lorenz_Attractor.gif), \n",
    "![](https://upload.wikimedia.org/wikipedia/commons/1/13/A_Trajectory_Through_Phase_Space_in_a_Lorenz_Attractor.gif)\n"
   ]
  },
  {
   "cell_type": "markdown",
   "metadata": {},
   "source": [
    "- There seem to be two \"repelling\" points; that is, radius of orbit seems to increase.\n",
    "- When the trajectory crosses the midline, it switches to orbit the other side."
   ]
  },
  {
   "cell_type": "markdown",
   "metadata": {},
   "source": [
    "We've thought a little about this already, when we studied Poincaré maps. This whole chapter is about maps, i.e.\n",
    "\n",
    "$$x_{n+1}=f(x_n)$$\n",
    "\n"
   ]
  },
  {
   "cell_type": "markdown",
   "metadata": {},
   "source": [
    "where each sucessive term in a sequence is obtained by iterating the same function over and over. "
   ]
  },
  {
   "cell_type": "markdown",
   "metadata": {},
   "source": [
    "Maps are useful in different ways:\n",
    "1. As tools for analyzing differential equations. \n",
    "2. As models of natural phenomenon\n",
    "3. As simple examples of chaos. \n",
    "\n",
    "So while an iterated map isn't always an exact model of some natural phenomenon, they're still a *really great* place to start when we want to learn about chaos. \n",
    "\n",
    "\n"
   ]
  },
  {
   "cell_type": "markdown",
   "metadata": {},
   "source": [
    " "
   ]
  },
  {
   "cell_type": "markdown",
   "metadata": {},
   "source": [
    "## 10.1 Fixed Points and Cobwebs\n",
    "\n",
    "Let's start with some basic definitions."
   ]
  },
  {
   "cell_type": "markdown",
   "metadata": {},
   "source": [
    "**Map:** Refers to a function $f$, or the difference equation \n",
    "$$x_{n+1}=f(x_n)$$\n",
    "(we'll use the same word for both)."
   ]
  },
  {
   "cell_type": "markdown",
   "metadata": {},
   "source": [
    "**Fixed Point:** Exactly what it sounds like. $x^*$ is a *fixed point* if \n",
    "$$f(x^*)=x^*,$$\n",
    "which is to say that the orbit remains at $x^*$ for all future iterations. "
   ]
  },
  {
   "cell_type": "markdown",
   "metadata": {},
   "source": [
    "So this leads to the next obvious question: How can we tell if a fixed point is stable or unstable? Let's consider what happens to a nearby point $x^*+\\eta_n$, where $\\eta_n$ is the deviation from $x^*$ after $n$ iterations of $f$. \n",
    "\n",
    "To do this, we start with $f(x^*+\\eta_n)$ and use the Taylor Expansion of $f$ near $x^*$:\n",
    "\n",
    "$$f(x^*+\\eta_n) = f(x^*)+f'(x^*)\\eta_n+O(\\eta_n^2)$$\n",
    "\n",
    "Now let's simplify. Suppose we can ignore the $O(\\eta_n^2)$ terms. We know $x^*$ is a fixed point, so we can simplify this to \n",
    "\n",
    "$$f(x^*+\\eta_n) = x^*+f'(x^*)\\eta_n$$\n",
    "\n",
    "Also, another way to say $f(x^*+\\eta_n)$ is $x^*+\\eta_{n+1}$, so \n",
    "$$x^*+\\eta_{n+1} = x^*+f'(x^*)\\eta_n$$\n",
    "Thus, \n",
    "$$\\eta_{n+1} = f'(x^*)\\eta_n.$$"
   ]
  },
  {
   "cell_type": "markdown",
   "metadata": {},
   "source": [
    "So if $\\left|\\,f'(x^*)\\right|<1$, then $x^*$ is *stable*, and if $\\left|\\,f'(x^*)\\right|>1$, then $x^*$ is *unstable*. \n",
    "\n",
    "*Notice*, this is slightly different than what we're used to. We're not checking if $f'(x^*)$ is positive or negative, we're checking if it is absolutely larger than 1. "
   ]
  },
  {
   "cell_type": "markdown",
   "metadata": {},
   "source": [
    "**Cobweb:** $f(x)$ graphed together with $y=x$, and we bounce from the curve to the line, to graphically iterate the function. "
   ]
  },
  {
   "cell_type": "markdown",
   "metadata": {},
   "source": [
    "## 10.2 Numerics\n",
    "Let's explore this with the function of the day, \n",
    "$$x_{n+1}=rx_n(1-x_n)$$\n",
    "\n",
    "Let's pick some values for $r$ and try interating to see what happens.\n",
    "- $r=.5$ It goes to 0 pretty quickly. Not hugely interesting. \n",
    "\n",
    "- $r=2.8$ Here, $x$ approaches a fixed value. \n",
    "![Figure 10.2.2](https://image.ibb.co/hbmx2H/fig_10_2_2.png)\n",
    "\n",
    "- $r=3.3$. Now, it oscillates between *two* fixed values. Strange. \n",
    "![Figure 10.2.3](https://image.ibb.co/ha0eGc/fig_10_2_3a2.png)\n",
    "\n",
    "- $r=3.5$ Oscillating between **four** fixed values. Whoah!\n",
    "![Figure 10.2.4](https://image.ibb.co/jdgmwc/fig_10_2_3.png)"
   ]
  },
  {
   "cell_type": "markdown",
   "metadata": {},
   "source": [
    "What happens when $r$ takes on different values?\n",
    "- $\\frac{1}{2}$\n",
    "- 1\n",
    "- 2\n",
    "- 3\n",
    "- 3.5\n",
    "- 3.56\n",
    "- 3.9\n",
    "\n",
    "[desmos](https://www.desmos.com/calculator/mrl9ueaum3)"
   ]
  },
  {
   "cell_type": "markdown",
   "metadata": {},
   "source": [
    "So what we're seeing is that as $r$ increases past a certain point, what was once a **stable** point, suddenly becomes **unstable**, and two more stable points are born! Let's see a plot of how the fixed points change as we vary $r$: \n",
    "![](https://upload.wikimedia.org/wikipedia/commons/7/7d/LogisticMap_BifurcationDiagram.png)"
   ]
  },
  {
   "cell_type": "markdown",
   "metadata": {},
   "source": [
    "## 10.3 Logistical Map: Analysis\n",
    "\n",
    "**Example:** Find all fixed points of $$x_{n+1}=rx_n(1-x_n)$$ and determine their stability. Assume $0\\leq x\\leq 1$ and $0\\leq r\\leq 4$. \n",
    "\n",
    "**Solution:**\n",
    "\n",
    "Fixed points will satisfy\n",
    "$$x^*=f(x^*)=rx^*(1-x^*),$$\n",
    "so $x^*=1$ or $x^*=1-\\frac{1}{r}$. Since we're only considering $0\\leq x\\leq 1$, $x^*=1-\\frac{1}{r}$ only makes sense as long as $r\\geq1$.\n",
    "\n",
    "Now we need to classify our fixed points. Let's calculate $f'(x^*)$.\n",
    "$$f'(x^*)=r-2rx^*$$\n",
    "$f'(0)=r$, so 0 is stable if $r<1$, and unstable if $r>1$.\n",
    "\n",
    "$f'(1-\\frac{1}{r})=2-r$, so 0 is stable if $1<r<3$, and unstable if $r>3$.\n",
    "\n",
    "---\n",
    "Here's what we're seeing: as $r$ increases beyond 1, there is a *transcritical bifurcation* at $0$, and the fixed point becomes unstable, spawning another stable fixed point. As $r$ further increases beyond $3$, there is a *flip bifurcation* at $(1-\\frac{1}{r})$, and the fixed point becomes unstable, giving birth to 2 stable fixed points. \n",
    "\n",
    "**Flip Bifurcation:** A flip bifurcation in an interated map happens when varying the parameter causes the critical slope to be $f'(x^*)=-1$. Flip bifurcations often go hand-in-hand with period doubling, as we see in this map. "
   ]
  }
 ],
 "metadata": {
  "anaconda-cloud": {},
  "kernelspec": {
   "display_name": "Python [default]",
   "language": "python",
   "name": "python2"
  },
  "language_info": {
   "codemirror_mode": {
    "name": "ipython",
    "version": 2
   },
   "file_extension": ".py",
   "mimetype": "text/x-python",
   "name": "python",
   "nbconvert_exporter": "python",
   "pygments_lexer": "ipython2",
   "version": "2.7.12"
  }
 },
 "nbformat": 4,
 "nbformat_minor": 1
}
