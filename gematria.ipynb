{
 "cells": [
  {
   "cell_type": "code",
   "execution_count": 7,
   "metadata": {
    "collapsed": false
   },
   "outputs": [],
   "source": [
    "def irange(start, stop, step=1):            # This is an inclusive range function, so that I don't have to remember\n",
    "    if step == 1:                           # that range() leaves out the last value. \n",
    "        return range(start, stop+1)         #\n",
    "    elif step < 0:                          #\n",
    "        return range(start, stop-1, step)   #\n",
    "    else:                                   #\n",
    "        return range(start, stop+1, step)   #\n",
    "\n",
    "def indeces(somelist):              #returns a list of numbers from 0 to len(somelist), so I can easily iterate with\n",
    "    return range(len(somelist))     #  reference to the index of each element in the list\n",
    "\n",
    "def numlen(somenumber):\n",
    "    return len(str(somenumber))     #returns the number of characters in a number, for formatting purposes\n",
    "\n",
    "def nicestring(stringinput):\n",
    "    stringinput=stringinput.lower() #puts the string in all lowercase\n",
    "    stringinput=stringinput.strip() #removes whitespace from the string\n",
    "    stringinput=stringinput.translate(None, string.punctuation) #removes all punctuation from the string\n",
    "    return stringinput\n",
    "\n",
    "import matplotlib.pyplot as plt          # this is the\n",
    "                                         # plot library\n",
    "    \n",
    "import numpy as np                       # not strictly necessary\n",
    "                                         # but useful\n",
    "import csv\n",
    "    \n",
    "from IPython.display import Latex\n",
    "from operator import itemgetter\n",
    "    \n",
    "#import scipy, scipy.special, scipy.stats\n",
    "    \n",
    "#%matplotlib inline                       \n",
    "                                         # displays plots in the notebook\n",
    "                                         # instead of popup windows\n",
    "import math"
   ]
  },
  {
   "cell_type": "code",
   "execution_count": 8,
   "metadata": {
    "collapsed": true
   },
   "outputs": [],
   "source": [
    "def gematria(word):\n",
    "    gem=0\n",
    "    for i in range(len(word)):\n",
    "        letter=ord(word[i].lower())\n",
    "        if 97<=letter<=105:             #a-i\n",
    "            gem+=(letter-96)    \n",
    "        if 106<=letter<=114:             #j-r\n",
    "            gem+=(letter-96-9)*10    \n",
    "        if 115<=letter<=122:             #s-z\n",
    "            gem+=(letter-96-18)*100    \n",
    "    return gem"
   ]
  },
  {
   "cell_type": "code",
   "execution_count": 9,
   "metadata": {
    "collapsed": false
   },
   "outputs": [
    {
     "name": "stdout",
     "output_type": "stream",
     "text": [
      "[['Aaron'], ['Aaronic Priesthood'], ['Ab'], ['Abaddon'], ['Abarim'], ['Abba'], ['Abed-nego'], ['Abel'], ['Abiathar'], ['Abib'], ['Abigail'], ['Abihu'], ['Abilene'], ['Abimelech'], ['Abinadab'], ['Abner'], ['Abomination'], ['Abomination of desolation'], ['Abraham'], ['Abraham; covenant of'], ['Abraham\\xe2\\x80\\x99s Bosom'], ['Absalom'], ['Accho'], ['Accursed'], ['Aceldama'], ['Achaia'], ['Achan'], ['Achish'], ['Acts of the Apostles'], ['Adam']]\n"
     ]
    }
   ],
   "source": [
    "#Convert wordlist.TXT to CSV\n",
    "with open(\"Documents/bible_dictionary_words.txt\") as f: \n",
    "    reader = csv.reader(f)\n",
    "    wordlist = list(reader)\n",
    "    \n",
    "with open(\"Documents/bible_dictionary_gematria.csv\", 'w') as f: \n",
    "    f.write('')\n",
    "    \n",
    "with open(\"Documents/bible_dictionary_gematria.csv\", 'a') as f: \n",
    "    for i in indeces(wordlist):\n",
    "        f.write(str(gematria(wordlist[i][0]))+','+wordlist[i][0]+'\\n')\n",
    "    \n",
    "print wordlist[:30]"
   ]
  },
  {
   "cell_type": "code",
   "execution_count": 10,
   "metadata": {
    "collapsed": true
   },
   "outputs": [],
   "source": [
    "#OPENS THE CSV AND SORT BY FIRST COLUMN, THEN SECOND COLUMN\n",
    "\n",
    "with open(\"Documents/bible_dictionary_gematria.csv\") as f: \n",
    "    reader = csv.reader(f)\n",
    "    wordlist = list(reader)\n",
    "for i in indeces(wordlist):\n",
    "    wordlist[i][0]=int(wordlist[i][0])\n",
    "wordlist=sorted(wordlist, key=itemgetter(1))\n",
    "wordlist=sorted(wordlist, key=itemgetter(0))\n",
    "\n",
    "with open(\"Documents/bible_dictionary_gematria.csv\", 'w') as f: \n",
    "    f.write('')\n",
    "    \n",
    "with open(\"Documents/bible_dictionary_gematria.csv\", 'a') as f: \n",
    "    for i in indeces(wordlist):\n",
    "        if wordlist[i][1]<>wordlist[i-1][1]:\n",
    "            f.write(str(wordlist[i][0])+','+wordlist[i][1]+'\\n')\n"
   ]
  },
  {
   "cell_type": "code",
   "execution_count": 26,
   "metadata": {
    "collapsed": false
   },
   "outputs": [],
   "source": [
    "#Process CSV to LaTeX\n",
    "with open(\"Documents/bible_dictionary_gematria.csv\") as f: \n",
    "    reader = csv.reader(f)\n",
    "    wordlist = list(reader)\n",
    "\n",
    "def matchingwords(i):\n",
    "    result=str(wordlist[i][1])\n",
    "    if (not i==len(wordlist)-1) and (wordlist[i][0]==wordlist[i+1][0]): result=str(result)+\", \"+str(matchingwords(i+1))\n",
    "    return result\n",
    "\n",
    "#print \"number, wordlist\"\n",
    "with open(\"Documents/bible_dictionary_long_gematria.tex\", 'w') as f:\n",
    "    f.write('')\n",
    "\n",
    "with open(\"Documents/bible_dictionary_long_gematria.tex\", 'a') as f:\n",
    "    f.write('\\\\noindent \\n')\n",
    "    f.write('\\\\textbf{Long}'+' \\quad '+'\\\\textbf{words} \\\\\\\\ \\n')\n",
    "    for i in indeces(wordlist):\n",
    "        if wordlist[i][0]==wordlist[i-1][0]:\n",
    "            continue\n",
    "        f.write(str(wordlist[i][0])+' \\quad '+matchingwords(i)+'\\\\\\\\ \\n')\n"
   ]
  },
  {
   "cell_type": "code",
   "execution_count": 12,
   "metadata": {
    "collapsed": true
   },
   "outputs": [],
   "source": [
    "def shortgem(gem):\n",
    "    if gem <1:\n",
    "        print 'error: gem = '+str(gem)\n",
    "    elif gem >9:\n",
    "        gemstring=str(gem)\n",
    "        gem = 0\n",
    "        for j in indeces(gemstring):\n",
    "            gem += int(gemstring[j])\n",
    "        return shortgem(gem)\n",
    "    elif 1<=gem<=9:\n",
    "        return gem\n",
    "    else:\n",
    "        print \"unknown error\""
   ]
  },
  {
   "cell_type": "code",
   "execution_count": 20,
   "metadata": {
    "collapsed": false
   },
   "outputs": [
    {
     "name": "stdout",
     "output_type": "stream",
     "text": [
      "[['Aaron', '4', '202'], ['Aaronic Priesthood', '1', '820'], ['Ab', '3', '3']]\n",
      "\n"
     ]
    }
   ],
   "source": [
    "#short gematria\n",
    "short_wordlist=[]\n",
    "for i in indeces(wordlist):\n",
    "    short_wordlist.append([])\n",
    "    short_wordlist[i].append(wordlist[i][1])\n",
    "    short_wordlist[i].append(str(shortgem(int(wordlist[i][0]))))\n",
    "    short_wordlist[i].append(wordlist[i][0])\n",
    "\n",
    "short_wordlist=sorted(short_wordlist, key=itemgetter(0))\n",
    "\n",
    "print short_wordlist[:3]\n",
    "print \n",
    "\n",
    "with open(\"Documents/bible_dictionary_short_gematria.tex\", 'w') as f:\n",
    "    f.write('')\n",
    "\n",
    "with open(\"Documents/bible_dictionary_short_gematria.tex\", 'a') as f:\n",
    "    f.write(\"\\\\noindent\"+'\\n')\n",
    "    f.write(\"\\\\textbf{Word}  \\\\hfill \\\\textbf{short} \\\\quad \\\\textbf{long}\\\\\\\\\"+\"\\n\")\n",
    "    #f.write('Agag & 7 & 16\\\\\\\\'+'\\n')\n",
    "    for i in indeces(short_wordlist):\n",
    "        f.write(str(short_wordlist[i][0])+' \\\\hfill '+str(short_wordlist[i][1])+' \\\\quad ')\n",
    "        if int(short_wordlist[i][2])<1000: f.write('\\\\phantom{0}')\n",
    "        if int(short_wordlist[i][2])<100: f.write('\\\\phantom{0}')\n",
    "        if int(short_wordlist[i][2])<10: f.write('\\\\phantom{0}')\n",
    "        f.write(str(short_wordlist[i][2])+'\\\\\\\\'+'\\n')\n",
    "    #f.write('\\\\end{tabular}'+'\\n')\n",
    "       "
   ]
  },
  {
   "cell_type": "code",
   "execution_count": 19,
   "metadata": {
    "collapsed": false
   },
   "outputs": [
    {
     "data": {
      "text/plain": [
       "102"
      ]
     },
     "execution_count": 19,
     "metadata": {},
     "output_type": "execute_result"
    }
   ],
   "source": [
    "int(short_wordlist[12][2])"
   ]
  },
  {
   "cell_type": "code",
   "execution_count": null,
   "metadata": {
    "collapsed": true
   },
   "outputs": [],
   "source": []
  }
 ],
 "metadata": {
  "anaconda-cloud": {},
  "kernelspec": {
   "display_name": "Python [default]",
   "language": "python",
   "name": "python2"
  },
  "language_info": {
   "codemirror_mode": {
    "name": "ipython",
    "version": 2
   },
   "file_extension": ".py",
   "mimetype": "text/x-python",
   "name": "python",
   "nbconvert_exporter": "python",
   "pygments_lexer": "ipython2",
   "version": "2.7.12"
  }
 },
 "nbformat": 4,
 "nbformat_minor": 1
}
