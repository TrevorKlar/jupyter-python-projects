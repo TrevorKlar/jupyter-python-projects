{
 "cells": [
  {
   "cell_type": "code",
   "execution_count": 75,
   "metadata": {
    "collapsed": true
   },
   "outputs": [],
   "source": [
    "def irange(start, stop, step=1):            # This is an inclusive range function, so that I don't have to remember\n",
    "    if step == 1:                           # that range() leaves out the last value. \n",
    "        return range(start, stop+1)         #\n",
    "    elif step < 0:                          #\n",
    "        return range(start, stop-1, step)   #\n",
    "    else:                                   #\n",
    "        return range(start, stop+1, step)   #\n",
    "\n",
    "def indeces(somelist):                   #returns a list of numbers from 0 to len(somelist), so I can easily iterate\n",
    "    return range(len(somelist))          # with reference to the index of each element in the list\n"
   ]
  },
  {
   "cell_type": "code",
   "execution_count": 31,
   "metadata": {
    "collapsed": false
   },
   "outputs": [],
   "source": [
    "import matplotlib.pyplot as plt          # this is the\n",
    "                                         # plot library\n",
    "    \n",
    "import numpy as np                       # not strictly necessary\n",
    "                                         # but useful\n",
    "    \n",
    "import scipy.special                     # imported for use with intergration in problem 7\n",
    "                                         #\n",
    "import scipy                             #\n",
    "    \n",
    "%matplotlib inline                       \n",
    "                                         # displays plots in the notebook\n",
    "                                         # instead of popup windows\n",
    "import math\n",
    "\n",
    "class point(): \n",
    "    def __init__(self, xcoord, ycoord):  #this defines the basic attributes of a point- its coordinates. \n",
    "        self.x=xcoord\n",
    "        self.y=ycoord\n",
    "    def __repr__(self): #tells how to print() a point\n",
    "        return str((self.x,self.y))\n",
    "    def __add__(self, other): #adds corresponding coordinates\n",
    "        return point(self.x+other.x, self.y+other.y)\n",
    "    def __sub__(self, other): #subtracts corresponding coordinates\n",
    "        return point(self.x-other.x, self.y-other.y)\n",
    "    def __mul__(self, other): #defines scalar multiplication\n",
    "        if isinstance(other, point):\n",
    "            return self.x*other.x+self.y*other.y\n",
    "        else:\n",
    "            return point(float(self.x)*other, float(self.y)*other)\n",
    "    def __rmul__(self, other): #identical definition as above\n",
    "        if isinstance(other, point):\n",
    "            return self.x*other.x+self.y*other.y\n",
    "        else:\n",
    "            return point(float(self.x)*other, float(self.y)*other)\n",
    "    def __eq__(self, other): #returns True if coordinates are equal\n",
    "        if not isinstance(other, point):\n",
    "            return False\n",
    "        if self.x==other.x and self.y==other.y: return True\n",
    "        else: return False\n",
    "    def __ne__(self, other): #returns False if coordinates are equal\n",
    "        return not self==other\n",
    "    def dot(self, other):\n",
    "        return self.x*other.x+self.y*other.y\n",
    "    def length(self):\n",
    "        return math.sqrt(self.dot(self))\n",
    "    def verticalReflect(self,y): #vertical reflection, returns a point on the opposite side of a horizontal line\n",
    "        new_y = self.y+2*(y-self.y)\n",
    "        return point(self.x,new_y)\n",
    "    def horizontalReflect(self,x): #vertical reflection, returns a point on the opposite side of a horizontal line\n",
    "        new_x = self.x+2*(x-self.x)\n",
    "        return point(new_x, self.y)\n",
    "    def translate(self, x, y): #adds a vector (via the parameters, x and y) to a point's coordinates\n",
    "        return point(self.x+x, self.y+y)\n",
    "    def display(self, label=\"\", labeloffset=.05, c=\"red\", fontsize=12): #plots the point\n",
    "        plt.scatter(self.x, self.y, marker=\"o\", c=c);\n",
    "        plt.annotate(s=label, xy=(self.x+labeloffset, self.y+labeloffset), fontsize=fontsize);\n",
    "        plt.axes().set_aspect(\"equal\");\n",
    "        return plt.axis();\n",
    "    \n",
    "#this class has methods which are analogous to the methods for the point() class. In fact, many of the definitions\n",
    "# here use those functions.  \n",
    "class triangle():\n",
    "    def __init__(self, vertex_1, vertex_2, vertex_3):\n",
    "        if not isinstance(vertex_1, point) or not isinstance(vertex_2, point) or not isinstance(vertex_3, point):\n",
    "            print \"Error, verteces must be points\"\n",
    "            return None\n",
    "        self.v1 = vertex_1; self.v2 = vertex_2; self.v3 = vertex_3\n",
    "    def __repr__(self):\n",
    "        return str(self.v1)+\", \"+str(self.v2)+\", \"+str(self.v3)\n",
    "    def translate(self,x,y):\n",
    "        return triangle(self.v1.translate(x,y), self.v2.translate(x,y), self.v3.translate(x,y))\n",
    "    def horizontalReflect(self,x):\n",
    "        return triangle(self.v1.horizontalReflect(x), self.v2.horizontalReflect(x), self.v3.horizontalReflect(x))\n",
    "    def verticalReflect(self,y):\n",
    "        return triangle(self.v1.verticalReflect(y), self.v2.verticalReflect(y), self.v3.verticalReflect(y))\n",
    "    def display(self, vertices=\"True\", label=\"\", labeloffset=-.1, m=\"o\", c=\"red\", fontsize=12, ls=\"--\"):\n",
    "        if vertices == True:\n",
    "            #plots the vertices\n",
    "            x = [self.v1.x, self.v2.x, self.v3.x]\n",
    "            y = [self.v1.y, self.v2.y, self.v3.y]\n",
    "            plt.scatter(x, y, marker=m, c=c)\n",
    "        #plots all 3 edges\n",
    "        plt.plot([self.v1.x, self.v2.x, self.v3.x, self.v1.x],             \n",
    "                 [self.v1.y, self.v2.y, self.v3.y, self.v1.y], ls=ls, c=c) \n",
    "        if label != \"\":\n",
    "            #sets the label location to be the centroid of the triangle\n",
    "            labelx = np.mean([self.v1.x, self.v2.x, self.v3.x])\n",
    "            labely = np.mean([self.v1.y, self.v2.y, self.v3.y])\n",
    "            #annotates the triangle label\n",
    "            plt.annotate(s=label, xy=(labelx+labeloffset,labely+labeloffset), fontsize=fontsize)\n",
    "            plt.axes().set_aspect(\"equal\");\n",
    "        \n",
    "        "
   ]
  },
  {
   "cell_type": "code",
   "execution_count": 51,
   "metadata": {
    "collapsed": false
   },
   "outputs": [
    {
     "data": {
      "image/png": "[encoded data removed]",
      "text/plain": [
       "<matplotlib.figure.Figure at 0x7fc721ff0290>"
      ]
     },
     "metadata": {},
     "output_type": "display_data"
    }
   ],
   "source": [
    "A=point(-1,0); B=point(1,0); C=point(0,np.sqrt(3))\n",
    "\n",
    "T_0=triangle(A, B, C)\n",
    "T_0.display()"
   ]
  },
  {
   "cell_type": "code",
   "execution_count": 52,
   "metadata": {
    "collapsed": false
   },
   "outputs": [],
   "source": [
    "import math\n",
    "\n",
    "#def dotproduct(v1, v2):\n",
    "    #return sum((a*b) for a, b in zip(v1, v2))\n",
    "\n",
    "def length(v, u=\"\"):\n",
    "    if u==\"\":\n",
    "        return math.sqrt(v*v)\n",
    "    else:\n",
    "        v=v-u\n",
    "        return math.sqrt(v*v)\n",
    "\n",
    "def angle(v1, v2):\n",
    "    return math.acos(v1*v2) / (length(v1) * length(v2))"
   ]
  },
  {
   "cell_type": "code",
   "execution_count": 59,
   "metadata": {
    "collapsed": false
   },
   "outputs": [],
   "source": [
    "def proj(p,a, b=\"\"): #projection of point u in segment v\n",
    "    if b=='':\n",
    "        u=p\n",
    "        v=a\n",
    "    else:\n",
    "        u=p-a\n",
    "        v=b-a\n",
    "    \n",
    "    return a+((u*v)/(v*v))*v\n",
    "\n",
    "#(vu.dot(v)/length(v)**2)*v+v1"
   ]
  },
  {
   "cell_type": "code",
   "execution_count": 79,
   "metadata": {
    "collapsed": false
   },
   "outputs": [],
   "source": [
    "def talts(A,B,C):\n",
    "    plt.plot([A.x, B.x, C.x, A.x],[A.y, B.y, C.y, A.y], c='black')\n",
    "    #A.display()\n",
    "    #B.display()\n",
    "    #C.display()\n",
    "    P=[]\n",
    "    plt.axes().set_aspect(\"equal\")\n",
    "\n",
    "    P.append(proj(B, C,A))\n",
    "    #P[0].display()\n",
    "    plt.plot([B.x,P[0].x], [B.y,P[0].y], color='black')\n",
    "\n",
    "    P.append(proj(P[0], B,A))\n",
    "    #P[1].display()\n",
    "    plt.plot([P[0].x,P[1].x], [P[0].y,P[1].y], color='black')\n",
    "\n",
    "    P.append(proj(P[1], P[0],A))\n",
    "    #P[2].display()\n",
    "    plt.plot([P[1].x,P[2].x], [P[1].y,P[2].y], color='black')\n",
    "\n",
    "    for n in irange(3,13):\n",
    "        P.append(proj(P[n-1], P[n-2],A))\n",
    "        #P[n].display()\n",
    "        plt.plot([P[n-1].x,P[n].x], [P[n-1].y,P[n].y], color='black')\n"
   ]
  },
  {
   "cell_type": "code",
   "execution_count": 80,
   "metadata": {
    "collapsed": false
   },
   "outputs": [
    {
     "data": {
      "image/png": "[encoded data removed]",
      "text/plain": [
       "<matplotlib.figure.Figure at 0x7fc7227f9650>"
      ]
     },
     "metadata": {},
     "output_type": "display_data"
    }
   ],
   "source": [
    "talts(A,B,C)"
   ]
  },
  {
   "cell_type": "code",
   "execution_count": null,
   "metadata": {
    "collapsed": true
   },
   "outputs": [],
   "source": []
  }
 ],
 "metadata": {
  "anaconda-cloud": {},
  "kernelspec": {
   "display_name": "Python [default]",
   "language": "python",
   "name": "python2"
  },
  "language_info": {
   "codemirror_mode": {
    "name": "ipython",
    "version": 2
   },
   "file_extension": ".py",
   "mimetype": "text/x-python",
   "name": "python",
   "nbconvert_exporter": "python",
   "pygments_lexer": "ipython2",
   "version": "2.7.12"
  }
 },
 "nbformat": 4,
 "nbformat_minor": 1
}
