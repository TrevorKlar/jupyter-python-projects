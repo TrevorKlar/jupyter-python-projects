{
 "cells": [
  {
   "cell_type": "markdown",
   "metadata": {},
   "source": [
    "# Math 382\n",
    "\n",
    "## Homework 6\n",
    "### Trevor Klar\n",
    "### April 4, 2017"
   ]
  },
  {
   "cell_type": "code",
   "execution_count": 1,
   "metadata": {
    "collapsed": false
   },
   "outputs": [],
   "source": [
    "import matplotlib.pyplot as plt          # this is the\n",
    "                                         # plot library\n",
    "    \n",
    "import numpy as np                       # not strictly necessary\n",
    "                                         # but useful\n",
    "    \n",
    "import scipy.special                     # imported for use with intergration in problem 7\n",
    "                                         #\n",
    "import scipy                             #\n",
    "    \n",
    "%matplotlib inline                       \n",
    "                                         # displays plots in the notebook\n",
    "                                         # instead of popup windows\n",
    "import math\n",
    "\n",
    "class point(): \n",
    "    def __init__(self, xcoord, ycoord):  #this defines the basic attributes of a point- its coordinates. \n",
    "        self.x=xcoord\n",
    "        self.y=ycoord\n",
    "    def __repr__(self): #tells how to print() a point\n",
    "        return str((self.x,self.y))\n",
    "    def __add__(self, other): #adds corresponding coordinates\n",
    "        return point(self.x+other.x, self.y+other.y)\n",
    "    def __sub__(self, other): #subtracts corresponding coordinates\n",
    "        return point(self.x-other.x, self.y-other.y)\n",
    "    def __mul__(self, other): #defines scalar multiplication\n",
    "        return point(float(self.x)*other, float(self.y)*other)\n",
    "    def __rmul__(self, other): #identical definition as above\n",
    "        return point(float(self.x)*other, float(self.y)*other)\n",
    "    def __eq__(self, other): #returns True if coordinates are equal\n",
    "        if self.x==other.x and self.y==other.y: return True\n",
    "        else: return False\n",
    "    def __ne__(self, other): #returns False if coordinates are equal\n",
    "        return not self==other\n",
    "    def verticalReflect(self,y): #vertical reflection, returns a point on the opposite side of a horizontal line\n",
    "        new_y = self.y+2*(y-self.y)\n",
    "        return point(self.x,new_y)\n",
    "    def horizontalReflect(self,x): #vertical reflection, returns a point on the opposite side of a horizontal line\n",
    "        new_x = self.x+2*(x-self.x)\n",
    "        return point(new_x, self.y)\n",
    "    def translate(self, x, y): #adds a vector (via the parameters, x and y) to a point's coordinates\n",
    "        return point(self.x+x, self.y+y)\n",
    "    def display(self, label=\"\", labeloffset=.05, c=\"red\", fontsize=12): #plots the point\n",
    "        plt.scatter(self.x, self.y, marker=\"o\", c=c);\n",
    "        plt.annotate(s=label, xy=(self.x+labeloffset, self.y+labeloffset), fontsize=fontsize);\n",
    "        plt.axes().set_aspect(\"equal\");\n",
    "        return plt.axis();"
   ]
  },
  {
   "cell_type": "markdown",
   "metadata": {},
   "source": [
    "## 1)"
   ]
  },
  {
   "cell_type": "markdown",
   "metadata": {},
   "source": [
    "#### a) An init method that creates a point with attributes x and y."
   ]
  },
  {
   "cell_type": "code",
   "execution_count": 2,
   "metadata": {
    "collapsed": false
   },
   "outputs": [
    {
     "name": "stdout",
     "output_type": "stream",
     "text": [
      "xvalue = -3\n",
      "yvalue = 5\n"
     ]
    }
   ],
   "source": [
    "P=point(-3,5)\n",
    "xvalue = P.x; yvalue = P.y\n",
    "print \"xvalue = \"+str(xvalue)\n",
    "print \"yvalue = \"+str(yvalue)"
   ]
  },
  {
   "cell_type": "markdown",
   "metadata": {},
   "source": [
    "#### b) An repr method that returns the ordered pair as a string representing a list of two floats"
   ]
  },
  {
   "cell_type": "code",
   "execution_count": 3,
   "metadata": {
    "collapsed": false
   },
   "outputs": [
    {
     "name": "stdout",
     "output_type": "stream",
     "text": [
      "(3.1, -12.5)\n"
     ]
    }
   ],
   "source": [
    "testpoint = point(3.1,-12.5)\n",
    "print testpoint"
   ]
  },
  {
   "cell_type": "markdown",
   "metadata": {},
   "source": [
    "#### c) Point addition and subtraction"
   ]
  },
  {
   "cell_type": "code",
   "execution_count": 4,
   "metadata": {
    "collapsed": false
   },
   "outputs": [
    {
     "name": "stdout",
     "output_type": "stream",
     "text": [
      "(4, 6) (-2, -2)\n"
     ]
    }
   ],
   "source": [
    "A=point(1,2); B=point(3,4); C=point(1.2,3.4)\n",
    "print A+B,A-B"
   ]
  },
  {
   "cell_type": "markdown",
   "metadata": {},
   "source": [
    "#### d) Scalar multiplication from both the right and the left"
   ]
  },
  {
   "cell_type": "code",
   "execution_count": 5,
   "metadata": {
    "collapsed": false
   },
   "outputs": [
    {
     "name": "stdout",
     "output_type": "stream",
     "text": [
      "(3.0, 6.0) (15.0, 20.0) (0.0, 0.0)\n"
     ]
    }
   ],
   "source": [
    "print 3*A, B*5, (1/2)*C"
   ]
  },
  {
   "cell_type": "markdown",
   "metadata": {},
   "source": [
    "#### e) Testing for point equality."
   ]
  },
  {
   "cell_type": "code",
   "execution_count": 6,
   "metadata": {
    "collapsed": false
   },
   "outputs": [
    {
     "name": "stdout",
     "output_type": "stream",
     "text": [
      "False\n",
      "True\n",
      "True\n"
     ]
    }
   ],
   "source": [
    "print A == B\n",
    "print A == A\n",
    "print A != B"
   ]
  },
  {
   "cell_type": "markdown",
   "metadata": {},
   "source": [
    "#### f)  Q=P.verticalReflect(y) returns a point Q that is the vertical reflection of P across the horizontal line at y."
   ]
  },
  {
   "cell_type": "code",
   "execution_count": 7,
   "metadata": {
    "collapsed": false
   },
   "outputs": [
    {
     "name": "stdout",
     "output_type": "stream",
     "text": [
      "(3, -3)\n"
     ]
    }
   ],
   "source": [
    "P = point(3,-7)\n",
    "Q = P.verticalReflect(-5)\n",
    "print Q"
   ]
  },
  {
   "cell_type": "markdown",
   "metadata": {},
   "source": [
    "#### g) R=P.horizontalReflect(x) returns a point R that is the horizontal reflection of P across the vertical line at x."
   ]
  },
  {
   "cell_type": "code",
   "execution_count": 8,
   "metadata": {
    "collapsed": false
   },
   "outputs": [
    {
     "name": "stdout",
     "output_type": "stream",
     "text": [
      "(5, -7)\n"
     ]
    }
   ],
   "source": [
    "P = point(3,-7)\n",
    "R = P.horizontalReflect(4)\n",
    "print R"
   ]
  },
  {
   "cell_type": "markdown",
   "metadata": {},
   "source": [
    "#### h) S=P.translate(x,y) that returns a point S that translates the point P a distance x in the x directionand a distance y in the y direction."
   ]
  },
  {
   "cell_type": "code",
   "execution_count": 9,
   "metadata": {
    "collapsed": false
   },
   "outputs": [
    {
     "name": "stdout",
     "output_type": "stream",
     "text": [
      "(2, -8)\n"
     ]
    }
   ],
   "source": [
    "P = point(3,-7)\n",
    "S = P.translate(-1,-1)\n",
    "print S"
   ]
  },
  {
   "cell_type": "markdown",
   "metadata": {},
   "source": [
    "#### i) P.display(options) to display a point in a picture using pyplot."
   ]
  },
  {
   "cell_type": "code",
   "execution_count": 10,
   "metadata": {
    "collapsed": false
   },
   "outputs": [
    {
     "name": "stdout",
     "output_type": "stream",
     "text": [
      "(0.5, 2)\n"
     ]
    },
    {
     "data": {
      "image/png": "[encoded data removed]",
      "text/plain": [
       "<matplotlib.figure.Figure at 0x7fc9c5a4be10>"
      ]
     },
     "metadata": {},
     "output_type": "display_data"
    }
   ],
   "source": [
    "P=point(1,2)\n",
    "P.display(label=\"P\", labeloffset=0.1)\n",
    "Q=P.verticalReflect(y=2.5)\n",
    "Q.display(c=\"blue\", label=\"Q\",labeloffset=0.1)\n",
    "plt.axhline(y=2.5,c=\"k\",ls=\"--\")\n",
    "R=P.horizontalReflect(x=0.75)\n",
    "R.display(c=\"black\",labeloffset=-0.2, label=\"R\")\n",
    "plt.axvline(x=.75,c=\"k\",ls=\"--\")\n",
    "plt.xlim(0,3)\n",
    "plt.ylim(1,4);\n",
    "print R"
   ]
  },
  {
   "cell_type": "markdown",
   "metadata": {},
   "source": [
    "## 2)"
   ]
  },
  {
   "cell_type": "code",
   "execution_count": 11,
   "metadata": {
    "collapsed": false
   },
   "outputs": [],
   "source": [
    "#this class has methods which are analogous to the methods for the point() class. In fact, many of the definitions\n",
    "# here use those functions.  \n",
    "class triangle():\n",
    "    def __init__(self, vertex_1, vertex_2, vertex_3):\n",
    "        if not isinstance(vertex_1, point) or not isinstance(vertex_2, point) or not isinstance(vertex_3, point):\n",
    "            print \"Error, verteces must be points\"\n",
    "            return None\n",
    "        self.v1 = vertex_1; self.v2 = vertex_2; self.v3 = vertex_3\n",
    "    def __repr__(self):\n",
    "        return str(self.v1)+\", \"+str(self.v2)+\", \"+str(self.v3)\n",
    "    def translate(self,x,y):\n",
    "        return triangle(self.v1.translate(x,y), self.v2.translate(x,y), self.v3.translate(x,y))\n",
    "    def horizontalReflect(self,x):\n",
    "        return triangle(self.v1.horizontalReflect(x), self.v2.horizontalReflect(x), self.v3.horizontalReflect(x))\n",
    "    def verticalReflect(self,y):\n",
    "        return triangle(self.v1.verticalReflect(y), self.v2.verticalReflect(y), self.v3.verticalReflect(y))\n",
    "    def display(self, vertices=\"True\", label=\"\", labeloffset=-.1, m=\"o\", c=\"red\", fontsize=12, ls=\"--\"):\n",
    "        if vertices == True:\n",
    "            #plots the vertices\n",
    "            x = [self.v1.x, self.v2.x, self.v3.x]\n",
    "            y = [self.v1.y, self.v2.y, self.v3.y]\n",
    "            plt.scatter(x, y, marker=m, c=c)\n",
    "        #plots all 3 edges\n",
    "        plt.plot([self.v1.x, self.v2.x, self.v3.x, self.v1.x],             \n",
    "                 [self.v1.y, self.v2.y, self.v3.y, self.v1.y], ls=ls, c=c) \n",
    "        if label != \"\":\n",
    "            #sets the label location to be the centroid of the triangle\n",
    "            labelx = np.mean([self.v1.x, self.v2.x, self.v3.x])\n",
    "            labely = np.mean([self.v1.y, self.v2.y, self.v3.y])\n",
    "            #annotates the triangle label\n",
    "            plt.annotate(s=label, xy=(labelx+labeloffset,labely+labeloffset), fontsize=fontsize)\n",
    "            plt.axes().set_aspect(\"equal\");\n",
    "        \n",
    "        "
   ]
  },
  {
   "cell_type": "code",
   "execution_count": 12,
   "metadata": {
    "collapsed": false
   },
   "outputs": [
    {
     "name": "stdout",
     "output_type": "stream",
     "text": [
      "(3, 5), (5, 3), (7, 4)\n",
      "(4, 6), (6, 4), (8, 5)\n"
     ]
    }
   ],
   "source": [
    "A=point(3,5); B=point(5,3);\n",
    "C=point(7,4)\n",
    "T=triangle(A,B,C)\n",
    "print T\n",
    "print T.translate(1,1)"
   ]
  },
  {
   "cell_type": "code",
   "execution_count": 13,
   "metadata": {
    "collapsed": false
   },
   "outputs": [
    {
     "data": {
      "image/png": "[encoded data removed]",
      "text/plain": [
       "<matplotlib.figure.Figure at 0x7fc9c374ba90>"
      ]
     },
     "metadata": {},
     "output_type": "display_data"
    }
   ],
   "source": [
    "T.display()"
   ]
  },
  {
   "cell_type": "code",
   "execution_count": 14,
   "metadata": {
    "collapsed": false
   },
   "outputs": [
    {
     "data": {
      "image/png": "[encoded data removed]",
      "text/plain": [
       "<matplotlib.figure.Figure at 0x7fc9c31140d0>"
      ]
     },
     "metadata": {},
     "output_type": "display_data"
    }
   ],
   "source": [
    "A=point(3,5); B=point(5,3);\n",
    "C=point(7,4)\n",
    "T=triangle(A,B,C)\n",
    "T.display(c=\"green\", vertices=True,m=\"s\", ls=\"-\",label=\"T\")\n",
    "TP=T.translate(2,1.5)\n",
    "TP.display(c=\"orange\",vertices=True, label=\"TP\")\n",
    "T3=TP.verticalReflect(7.3)\n",
    "T3.display(c=\"red\", ls=\"--\",label=\"T3\")\n",
    "plt.axhline(y=7.3,ls=\"--\",c=\"k\")\n",
    "T4=T3.horizontalReflect(5.2)\n",
    "plt.axvline(x=5.2,c=\"k\",ls=\":\")\n",
    "T4.display(c=\"purple\", ls=\":\",label=\"T4\")\n",
    "plt.axis([0,10,2,12])\n",
    "plt.grid()"
   ]
  },
  {
   "cell_type": "code",
   "execution_count": 19,
   "metadata": {
    "collapsed": false
   },
   "outputs": [],
   "source": [
    "T_0=triangle(point(-1,0), point(1,0), point(0,np.sqrt(3)/2))"
   ]
  },
  {
   "cell_type": "code",
   "execution_count": 20,
   "metadata": {
    "collapsed": false
   },
   "outputs": [
    {
     "data": {
      "image/png": "[encoded data removed]",
      "text/plain": [
       "<matplotlib.figure.Figure at 0x7fc9c2f30810>"
      ]
     },
     "metadata": {},
     "output_type": "display_data"
    }
   ],
   "source": [
    "T_0.display()"
   ]
  },
  {
   "cell_type": "code",
   "execution_count": null,
   "metadata": {
    "collapsed": true
   },
   "outputs": [],
   "source": []
  }
 ],
 "metadata": {
  "anaconda-cloud": {},
  "kernelspec": {
   "display_name": "Python [default]",
   "language": "python",
   "name": "python2"
  },
  "language_info": {
   "codemirror_mode": {
    "name": "ipython",
    "version": 2
   },
   "file_extension": ".py",
   "mimetype": "text/x-python",
   "name": "python",
   "nbconvert_exporter": "python",
   "pygments_lexer": "ipython2",
   "version": "2.7.12"
  }
 },
 "nbformat": 4,
 "nbformat_minor": 1
}
