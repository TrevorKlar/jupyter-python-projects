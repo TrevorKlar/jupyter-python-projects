{
 "cells": [
  {
   "cell_type": "code",
   "execution_count": 1,
   "metadata": {
    "collapsed": true
   },
   "outputs": [],
   "source": [
    "def irange(start, stop, step=1):            # This is an inclusive range function, so that I don't have to remember\n",
    "    if step == 1:                           # that range() leaves out the last value. \n",
    "        return range(start, stop+1)         #\n",
    "    elif step < 0:                          #\n",
    "        return range(start, stop-1, step)   #\n",
    "    else:                                   #\n",
    "        return range(start, stop+1, step)   #\n",
    "\n",
    "def indeces(somelist):                   #returns a list of numbers from 0 to len(somelist), so I can easily iterate\n",
    "    return range(len(somelist))          # with reference to the index of each element in the list\n",
    "\n",
    "def linapprox(xlist, ylist, x):\n",
    "    #estimates the value of a function using linear approximation, given a discreet mapping of x-values to y-values.\n",
    "    for x_n in xlist:\n",
    "        if x_n - x < 0:\n",
    "            continue\n",
    "        if x_n - x == 0:\n",
    "            #print 'match:', x, 'is in list.'\n",
    "            return ylist[xlist.index(x_n)]\n",
    "        if x_n - x > 0:\n",
    "            n = xlist.index(x_n)\n",
    "            #print 'approximation:', x, 'is between', xlist[n-1],'and', xlist[n], '.'\n",
    "            break\n",
    "    try:\n",
    "        x1, x2 = xlist[n-1], xlist[n]\n",
    "        y1, y2 = ylist[n-1], ylist[n]\n",
    "        return float((x-x1)*(y2-y1))/(x2-x1) + y1\n",
    "    except:\n",
    "        print 'ERROR: input', x, ' invalid. is it in the range ('+str(min(xlist))+','+str(max(xlist))+')?'\n",
    "\n",
    "import matplotlib.pyplot as plt          # this is the\n",
    "                                         # plot library\n",
    "    \n",
    "import numpy as np                       # not strictly necessary\n",
    "                                         # but useful\n",
    "    \n",
    "import scipy, scipy.special, scipy.stats\n",
    "    \n",
    "%matplotlib inline                       \n",
    "                                         # displays plots in the notebook\n",
    "                                         # instead of popup windows\n",
    "import math\n",
    "\n",
    "import random"
   ]
  },
  {
   "cell_type": "code",
   "execution_count": null,
   "metadata": {
    "collapsed": true
   },
   "outputs": [],
   "source": [
    "def blahblah():\n",
    "    with open('data.txt') as f: #opens the 'data.txt' file and reads the x and y values into 'xdata' and 'ydata'. \n",
    "        data = f.readlines()\n",
    "        for n in indeces(data):\n",
    "            data[n] = data[n].strip()\n",
    "            data[n] = data[n].split(',')\n",
    "            for i in indeces(data[n]):\n",
    "                data[n][i] = float(data[n][i])\n",
    "\n",
    "    xdata, ydata = zip(*data)"
   ]
  },
  {
   "cell_type": "code",
   "execution_count": 2,
   "metadata": {
    "collapsed": true
   },
   "outputs": [],
   "source": [
    "with open('journal data.csv') as f:\n",
    "    data = f.readlines()\n",
    "    "
   ]
  },
  {
   "cell_type": "code",
   "execution_count": 3,
   "metadata": {
    "collapsed": false
   },
   "outputs": [
    {
     "data": {
      "text/plain": [
       "['11/26/16,11/27/16,11/28/16,11/29/16,11/30/16,12/01/16,12/02/16,12/03/16,12/04/16,12/05/16,12/06/16,12/07/16,12/08/16,12/09/16,12/10/16,12/11/16,12/12/16,12/13/16,12/14/16,12/15/16,12/16/16,12/17/16,12/18/16,12/19/16,12/20/16,12/21/16,12/22/16,12/23/16,12/24/16,12/25/16,12/26/16,12/27/16,12/28/16,12/29/16,12/30/16,12/31/16,01/01/17,01/02/17,01/03/17,01/04/17,01/05/17,01/06/17,01/07/17,01/08/17,01/09/17,01/10/17,01/11/17,01/12/17,01/13/17,01/14/17,01/15/17,01/16/17,01/17/17,01/18/17,01/19/17,01/20/17,01/21/17,01/22/17,01/23/17,01/24/17,01/25/17,01/26/17,01/27/17,01/28/17,01/29/17,01/30/17,01/31/17,02/01/17,02/02/17,02/03/17,02/04/17,02/05/17,02/06/17,02/07/17,02/08/17,02/09/17,02/10/17,02/11/17,02/12/17,02/13/17,02/14/17,02/15/17,02/16/17,02/17/17,02/18/17,02/19/17,02/20/17,02/21/17,02/22/17,02/23/17,02/24/17,02/25/17,02/26/17,02/27/17,02/28/17,03/01/17,03/02/17,03/03/17,03/04/17,03/05/17,03/06/17,03/07/17,03/08/17,03/09/17,03/10/17,03/11/17,03/12/17,03/13/17,03/14/17,03/15/17,03/16/17,03/17/17,03/18/17,03/19/17,03/20/17,03/21/17,03/22/17,03/23/17,03/24/17,03/25/17,03/26/17,03/27/17,03/28/17,03/29/17,03/30/17,03/31/17,04/01/17,04/02/17,04/03/17,04/04/17,04/05/17,04/06/17,04/07/17,04/08/17,04/09/17,04/10/17,04/11/17,04/12/17,04/13/17,04/14/17,04/15/17,04/16/17,04/17/17,04/18/17,04/19/17,04/20/17,04/21/17,04/22/17,04/23/17,04/24/17,04/25/17,04/26/17,04/27/17,04/28/17,04/29/17,04/30/17,05/01/17,05/02/17,05/03/17,05/04/17,05/05/17,05/06/17,05/07/17,05/08/17,05/09/17,05/10/17,05/11/17,05/12/17,05/13/17,05/14/17,05/15/17,05/16/17,05/17/17,05/18/17,05/19/17,05/20/17,05/21/17,05/22/17,05/23/17,05/24/17,05/25/17,05/26/17,05/27/17,05/28/17,05/29/17,05/30/17,05/31/17,06/01/17,06/02/17,06/03/17,06/04/17\\n']"
      ]
     },
     "execution_count": 3,
     "metadata": {},
     "output_type": "execute_result"
    }
   ],
   "source": [
    "data"
   ]
  },
  {
   "cell_type": "code",
   "execution_count": null,
   "metadata": {
    "collapsed": true
   },
   "outputs": [],
   "source": []
  }
 ],
 "metadata": {
  "anaconda-cloud": {},
  "kernelspec": {
   "display_name": "Python [default]",
   "language": "python",
   "name": "python2"
  },
  "language_info": {
   "codemirror_mode": {
    "name": "ipython",
    "version": 2
   },
   "file_extension": ".py",
   "mimetype": "text/x-python",
   "name": "python",
   "nbconvert_exporter": "python",
   "pygments_lexer": "ipython2",
   "version": "2.7.12"
  }
 },
 "nbformat": 4,
 "nbformat_minor": 1
}
