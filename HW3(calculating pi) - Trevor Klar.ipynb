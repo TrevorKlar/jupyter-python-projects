{
 "cells": [
  {
   "cell_type": "markdown",
   "metadata": {},
   "source": [
    "# Math 382\n",
    "\n",
    "## Homework 3\n",
    "### Trevor Klar\n",
    "### February 10, 2017"
   ]
  },
  {
   "cell_type": "markdown",
   "metadata": {},
   "source": [
    "# Part 1\n",
    "\n",
    "For reference, following is equation (1), the sequence which we are using to calculate $\\pi$.\n",
    "\n",
    "$$\\pi=4\\sum_{k=0}^{\\infty} \\frac{(-1)^k}{2k+1} = \\frac{4}{1} - \\frac{4}{3} + \\frac{4}{5} - \\ldots$$\n",
    "\n",
    "Since the terms in this alternating series are decreasing in absolute value, the series converges. To ensure that our partial sum is accurate to at least 12 significant figures, we just need to find a term whose value is less than $10^{-12}$ (Since the error of a partial sum is less than the absolute vale of the first neglected term). To find this term, we'll just solve the following inequality:\n",
    "\n",
    "$$\\frac{4}{x} \\lt 10^{-12}$$\n",
    "\n",
    "$$x \\gt 4 \\times 10^{12}$$\n",
    "\n",
    "Whew! That's a big number! We need our first neglected term to be $\\frac{4}{4 \\times 10^{12} + 1}$. Since the denominator, $4 \\times 10^{12} + 1$, is the $(2 \\times 10^6 + 1)$st odd number, we'll need to calculate over 2 million terms!!\n",
    "\n",
    "Let's use a better method instead:\n",
    "$$ \\pi = 16 \\tan^{-1}\\frac{1}{5} - 4\\tan^{-1}\\frac{1}{239}$$\n",
    "\n",
    "Using the Taylor Series, $\\tan^{-1}(x) = \\sum_{k=0}^{\\infty} \\frac{(-1)^k(x^{2k+1})}{2k+1}$, we can substitute and do some rearranging to obtain one sum for the entire above expression:\n",
    "\n",
    "$$ \\pi = \\sum_{k=0}^{\\infty} \\frac{(-1)^k[(16)(\\frac{1}{5})^{2k+1}-(4)(\\frac{1}{239})^{2k+1}]}{2k+1}$$\n",
    "\n",
    "Now, before we implement it in Python, let's make sure that we won't need to calculate millions of terms. \n",
    "\n",
    "To estimate the number of terms required, we need to find some $k$ such that \n",
    "\n",
    "$$\\left| \\frac{(-1)^k[(16)(\\frac{1}{5})^{2k+1}-(4)(\\frac{1}{239})^{2k+1}]}{2k+1} \\right| < 10^{-12}$$\n",
    "\n",
    "So, let's get algebrizing! (yes, I made that word up)\n",
    "\n",
    "$$\\left| \\frac{(-1)^k[(16)(\\frac{1}{5})^{2k+1}-(4)(\\frac{1}{239})^{2k+1}]}{2k+1} \\right| = \\frac{(16)(\\frac{1}{5})^{2k+1}-(4)(\\frac{1}{239})^{2k+1}}{2k+1} < \\frac{(16)(\\frac{1}{5})^{2k+1}}{2k+1}$$\n",
    "\n",
    "$$< (16)\\left(\\frac{1}{5}\\right)^{2k+1} < (16)\\left(\\frac{1}{4}\\right)^{2k+1} = (4)^2(4)^{-2k-1} = 4^{1-2k}$$\n",
    "\n",
    "We need $k$ such that $4^{1-2k} < 10^{-12}$, so we solve for $k$:\n",
    "\n",
    "$$4^{1-2k} < 10^{-12} $$\n",
    "\n",
    "$$1-2k < -12 \\log_4{10}$$\n",
    "\n",
    "$$-2k < -12 \\log_4{10} - 1$$\n",
    "\n",
    "$$k > 6 \\log_4{10} + \\dfrac{1}{2} \\approx 10.46$$\n",
    "\n",
    "and find that if $k \\geq 11$, the inequality holds. This is great news! We won't need more than 12 terms (counting the zeroth term) to find 12 digits of pi!\n",
    "\n",
    "Now, let's try the Python implementation:"
   ]
  },
  {
   "cell_type": "code",
   "execution_count": 8,
   "metadata": {
    "collapsed": false
   },
   "outputs": [],
   "source": [
    "def pi(digits=12):\n",
    "    #settings (change these if you want)\n",
    "    timeout = 100\n",
    "    quietmode = False\n",
    "    #initializations (don't mess with these)\n",
    "    epsilon = 10**(-digits)\n",
    "    k = 0\n",
    "    sum = 0\n",
    "    if not quietmode:\n",
    "        print \"PARTIAL SUM \\t\"+\"TERM\"\n",
    "    #actual calculation starts here\n",
    "    for k in range(timeout):\n",
    "        term = ((-1)**k*((16)*(1.0/5)**(2*k+1)-(4)*(1.0/239)**(2*k+1)))/(2*k+1)\n",
    "        if abs(term) - epsilon < 0:\n",
    "            if not quietmode:\n",
    "                print\n",
    "                print \"pi is approximately \"+str(sum)+\". (error: \"+str(term)+\" or less)\"\n",
    "                #print \"epsilon: \", epsilon\n",
    "            return sum\n",
    "        sum += term\n",
    "        if not quietmode:\n",
    "            print sum, '\\t', term\n",
    "    #this part will usually never run, it's here to guard against an infinite loop\n",
    "    print \"error: timeout\"\n",
    "    return\n",
    "    \n",
    "    "
   ]
  },
  {
   "cell_type": "code",
   "execution_count": 9,
   "metadata": {
    "collapsed": false
   },
   "outputs": [
    {
     "name": "stdout",
     "output_type": "stream",
     "text": [
      "PARTIAL SUM \tTERM\n",
      "3.18326359833 \t3.18326359833\n",
      "3.14059702933 \t-0.0426665690003\n",
      "3.14162102933 \t0.00102399999897\n",
      "3.14159177218 \t-2.92571428571e-05\n",
      "3.1415926824 \t9.10222222222e-07\n",
      "3.14159265262 \t-2.97890909091e-08\n",
      "3.14159265362 \t1.00824615385e-09\n",
      "3.14159265359 \t-3.49525333333e-11\n",
      "3.14159265359 \t1.23361882353e-12\n",
      "\n",
      "pi is approximately 3.14159265359. (error: -4.41505684211e-14 or less)\n"
     ]
    },
    {
     "data": {
      "text/plain": [
       "3.1415926535898366"
      ]
     },
     "execution_count": 9,
     "metadata": {},
     "output_type": "execute_result"
    }
   ],
   "source": [
    "pi()"
   ]
  },
  {
   "cell_type": "markdown",
   "metadata": {},
   "source": [
    "There we go! It took even less terms than we thought, only 8! (Which makes sense, since we did a lot of estimating in calculating how many terms it would take)"
   ]
  },
  {
   "cell_type": "markdown",
   "metadata": {},
   "source": [
    "# Part 2"
   ]
  },
  {
   "cell_type": "markdown",
   "metadata": {},
   "source": [
    "Here, we are dividing an interval $[a, b]$ into $n$ sub-intervals of equal length, with endpoints $a=x_0<x_1<x_2<\\ldots<x_n=b$. "
   ]
  },
  {
   "cell_type": "code",
   "execution_count": 10,
   "metadata": {
    "collapsed": false
   },
   "outputs": [],
   "source": [
    "def endpoints(a,b,n):\n",
    "    #settings\n",
    "    allow_integers = True\n",
    "    \n",
    "    #tests for invalid inputs\n",
    "    if a>b:\n",
    "        print \"error: invalid interval - a must be greater than b\"\n",
    "        return\n",
    "    if not n>0 or not isinstance(n, int):\n",
    "        print \"error: invalid number of intervals - n must be a positive integer\"\n",
    "    \n",
    "    #intializations\n",
    "    intrange = b-a\n",
    "    if intrange%n==0 and allow_integers:\n",
    "        delta = intrange/n\n",
    "    else:\n",
    "        delta = float(intrange)/n\n",
    "        a = float(a)\n",
    "        b = float(b)\n",
    "    i = 0\n",
    "    endpoints = [a]\n",
    "    \n",
    "    #here, the list is populated\n",
    "    while i <= n-2:\n",
    "        i += 1\n",
    "        endpoints.append(a+i*delta)\n",
    "    endpoints.append(b)\n",
    "    return endpoints\n",
    "        "
   ]
  },
  {
   "cell_type": "code",
   "execution_count": 11,
   "metadata": {
    "collapsed": false
   },
   "outputs": [
    {
     "data": {
      "text/plain": [
       "[0, 1, 2, 3, 4, 5, 6, 7, 8, 9, 10]"
      ]
     },
     "execution_count": 11,
     "metadata": {},
     "output_type": "execute_result"
    }
   ],
   "source": [
    "endpoints(0,10,10)"
   ]
  },
  {
   "cell_type": "code",
   "execution_count": 12,
   "metadata": {
    "collapsed": false
   },
   "outputs": [
    {
     "data": {
      "text/plain": [
       "[0.0,\n",
       " 1.1111111111111112,\n",
       " 2.2222222222222223,\n",
       " 3.3333333333333335,\n",
       " 4.444444444444445,\n",
       " 5.555555555555555,\n",
       " 6.666666666666667,\n",
       " 7.777777777777779,\n",
       " 8.88888888888889,\n",
       " 10.0]"
      ]
     },
     "execution_count": 12,
     "metadata": {},
     "output_type": "execute_result"
    }
   ],
   "source": [
    "endpoints(0,10,9)"
   ]
  },
  {
   "cell_type": "code",
   "execution_count": 13,
   "metadata": {
    "collapsed": false
   },
   "outputs": [
    {
     "data": {
      "text/plain": [
       "[3.0,\n",
       " 3.736842105263158,\n",
       " 4.473684210526316,\n",
       " 5.2105263157894735,\n",
       " 5.947368421052632,\n",
       " 6.684210526315789,\n",
       " 7.421052631578947,\n",
       " 8.157894736842106,\n",
       " 8.894736842105264,\n",
       " 9.631578947368421,\n",
       " 10.368421052631579,\n",
       " 11.105263157894736,\n",
       " 11.842105263157894,\n",
       " 12.578947368421051,\n",
       " 13.31578947368421,\n",
       " 14.052631578947368,\n",
       " 14.789473684210526,\n",
       " 15.526315789473683,\n",
       " 16.263157894736842,\n",
       " 17.0]"
      ]
     },
     "execution_count": 13,
     "metadata": {},
     "output_type": "execute_result"
    }
   ],
   "source": [
    "endpoints(3,17,19)"
   ]
  },
  {
   "cell_type": "code",
   "execution_count": 14,
   "metadata": {
    "collapsed": false
   },
   "outputs": [
    {
     "data": {
      "text/plain": [
       "[-4.72,\n",
       " -3.7449999999999997,\n",
       " -2.7699999999999996,\n",
       " -1.795,\n",
       " -0.8199999999999998,\n",
       " 0.15500000000000025,\n",
       " 1.13,\n",
       " 2.1050000000000004,\n",
       " 3.08,\n",
       " 4.055000000000001,\n",
       " 5.03,\n",
       " 6.005,\n",
       " 6.98]"
      ]
     },
     "execution_count": 14,
     "metadata": {},
     "output_type": "execute_result"
    }
   ],
   "source": [
    "endpoints(-4.72, 6.98, 12)"
   ]
  },
  {
   "cell_type": "markdown",
   "metadata": {},
   "source": [
    "# Part 3"
   ]
  },
  {
   "cell_type": "markdown",
   "metadata": {},
   "source": [
    "Here, we are implementing Simpson's Rule in python. Here's Simpson's Rule: For $n$ is even, and the interval $[a,b]$ having been divided into $n$ equal intervals so that $a=x_0$ and $b=x_n$, \n",
    "    $$\\int_a^b f(x) \\, dx \\approx \\frac{h}{3} \\left[ f(a) + 2 \\sum_{j=1}^{n/2-1} f(x_{2j}) + 4 \\sum_{j=1}^{n/2} f(x_{2j-1}) + f(b) \\right]$$"
   ]
  },
  {
   "cell_type": "code",
   "execution_count": 15,
   "metadata": {
    "collapsed": false
   },
   "outputs": [],
   "source": [
    "import math\n",
    "\n",
    "def irange(start, stop, step=1):            # This is an inclusive range function, so that I don't have to remember\n",
    "    if step == 1:                           # that range() leaves out the last value. \n",
    "        return range(start, stop+1)         #\n",
    "    elif step < 0:                          #\n",
    "        return range(start, stop-1, step)   #\n",
    "    else:                                   #\n",
    "        return range(start, stop+1, step)   #"
   ]
  },
  {
   "cell_type": "markdown",
   "metadata": {},
   "source": [
    "Here's my integral function:"
   ]
  },
  {
   "cell_type": "code",
   "execution_count": 25,
   "metadata": {
    "collapsed": false
   },
   "outputs": [],
   "source": [
    "def integrate_function(a=\"lower bound\",b=\"upper bound\",n=\"number of subdivisions\", function=\"function to integrate\"):\n",
    "    #settings\n",
    "    debugmode = False\n",
    "    \n",
    "    #initializations\n",
    "    h=float(b-a)/n\n",
    "    x_a=endpoints(a,b,n)\n",
    "    if debugmode:\n",
    "        print \"a =\", a\n",
    "        print \"b =\", b\n",
    "        print \"h =\", h\n",
    "        print \"endpoints:\", x_a   \n",
    "        \n",
    "    #calculation starts here. First calculates the sums, then plugs everything in.\n",
    "    sum1=0                                             \n",
    "    for j in irange(1,(n/2-1)):                        \n",
    "        sum1 += function(x_a[2*j])                      \n",
    "    sum1 *=2                                           \n",
    "    \n",
    "    sum2=0                                             \n",
    "    for j in irange(1,(n/2)):                          \n",
    "        sum2 += function(x_a[2*j-1])                    \n",
    "    sum2 *=4                                           \n",
    "    \n",
    "    integral = h/3*(function(a)+sum1+sum2+function(b))  \n",
    "    \n",
    "    return integral"
   ]
  },
  {
   "cell_type": "markdown",
   "metadata": {},
   "source": [
    "## a) $\\int_0^{\\pi/4} sin(x) \\, dx $"
   ]
  },
  {
   "cell_type": "code",
   "execution_count": 31,
   "metadata": {
    "collapsed": false
   },
   "outputs": [
    {
     "data": {
      "text/plain": [
       "0.29289328077401455"
      ]
     },
     "execution_count": 31,
     "metadata": {},
     "output_type": "execute_result"
    }
   ],
   "source": [
    "integrate_function(0, math.pi/4, 10, math.sin)"
   ]
  },
  {
   "cell_type": "code",
   "execution_count": 32,
   "metadata": {
    "collapsed": false
   },
   "outputs": [
    {
     "data": {
      "text/plain": [
       "0.2928932195778984"
      ]
     },
     "execution_count": 32,
     "metadata": {},
     "output_type": "execute_result"
    }
   ],
   "source": [
    "integrate_function(0, math.pi/4, 30, math.sin)"
   ]
  },
  {
   "cell_type": "code",
   "execution_count": 33,
   "metadata": {
    "collapsed": false
   },
   "outputs": [
    {
     "data": {
      "text/plain": [
       "0.29289321881964414"
      ]
     },
     "execution_count": 33,
     "metadata": {},
     "output_type": "execute_result"
    }
   ],
   "source": [
    "integrate_function(0, math.pi/4, 100, math.sin)"
   ]
  },
  {
   "cell_type": "markdown",
   "metadata": {},
   "source": [
    "Here, we'll calculate the integral by hand to check that the algorithm works:\n",
    "$\\int_0^{\\pi/4} sin(x) \\, dx = \\left[-\\cos{x}\\right]_0^{\\pi/4}$"
   ]
  },
  {
   "cell_type": "code",
   "execution_count": 34,
   "metadata": {
    "collapsed": false
   },
   "outputs": [
    {
     "data": {
      "text/plain": [
       "0.2928932188134524"
      ]
     },
     "execution_count": 34,
     "metadata": {},
     "output_type": "execute_result"
    }
   ],
   "source": [
    "a=0\n",
    "b=math.pi/4\n",
    "-math.cos(b)+math.cos(a)"
   ]
  },
  {
   "cell_type": "markdown",
   "metadata": {},
   "source": [
    "It works! And it's impressively accurate!"
   ]
  },
  {
   "cell_type": "markdown",
   "metadata": {},
   "source": [
    "## b) $\\int_0^{2\\pi} cos(x) \\, dx $"
   ]
  },
  {
   "cell_type": "code",
   "execution_count": 35,
   "metadata": {
    "collapsed": false
   },
   "outputs": [
    {
     "data": {
      "text/plain": [
       "-1.8601965322712702e-16"
      ]
     },
     "execution_count": 35,
     "metadata": {},
     "output_type": "execute_result"
    }
   ],
   "source": [
    "integrate_function(0, 2*math.pi ,10, math.cos)"
   ]
  },
  {
   "cell_type": "code",
   "execution_count": 37,
   "metadata": {
    "collapsed": false
   },
   "outputs": [
    {
     "data": {
      "text/plain": [
       "-5.270556841435266e-16"
      ]
     },
     "execution_count": 37,
     "metadata": {},
     "output_type": "execute_result"
    }
   ],
   "source": [
    "integrate_function(0, 2*math.pi, 30, math.cos)"
   ]
  },
  {
   "cell_type": "code",
   "execution_count": 38,
   "metadata": {
    "collapsed": false
   },
   "outputs": [
    {
     "data": {
      "text/plain": [
       "2.6507800584865604e-16"
      ]
     },
     "execution_count": 38,
     "metadata": {},
     "output_type": "execute_result"
    }
   ],
   "source": [
    "integrate_function(0, 2*math.pi, 100, math.cos)"
   ]
  },
  {
   "cell_type": "markdown",
   "metadata": {
    "collapsed": true
   },
   "source": [
    "Calculating by hand: $\\int_0^{2\\pi} cos(x) \\, dx = \\left[\\sin{x}\\right]_0^{2\\pi}$"
   ]
  },
  {
   "cell_type": "code",
   "execution_count": 39,
   "metadata": {
    "collapsed": false
   },
   "outputs": [
    {
     "data": {
      "text/plain": [
       "-2.4492935982947064e-16"
      ]
     },
     "execution_count": 39,
     "metadata": {},
     "output_type": "execute_result"
    }
   ],
   "source": [
    "a=0\n",
    "b=2*math.pi\n",
    "math.sin(b)-math.sin(a)"
   ]
  },
  {
   "cell_type": "markdown",
   "metadata": {},
   "source": [
    "Now that's actually really interesting! Since $\\sin(2\\pi)=0$, and $\\sin(0)=0$, we should be getting $0$. It's probably a symptom of $\\texttt{math.pi}$ being an approximation of $\\pi$."
   ]
  },
  {
   "cell_type": "markdown",
   "metadata": {},
   "source": [
    "## c) $\\int_2^5 (3x-4x^3+17) \\, dx $"
   ]
  },
  {
   "cell_type": "code",
   "execution_count": 45,
   "metadata": {
    "collapsed": false
   },
   "outputs": [],
   "source": [
    "def functionc(x):\n",
    "    return 3*x-4*x**3+17"
   ]
  },
  {
   "cell_type": "code",
   "execution_count": 46,
   "metadata": {
    "collapsed": false
   },
   "outputs": [
    {
     "data": {
      "text/plain": [
       "-526.4999999999999"
      ]
     },
     "execution_count": 46,
     "metadata": {},
     "output_type": "execute_result"
    }
   ],
   "source": [
    "integrate_function(2, 5, 10, functionc)"
   ]
  },
  {
   "cell_type": "code",
   "execution_count": 47,
   "metadata": {
    "collapsed": false
   },
   "outputs": [
    {
     "data": {
      "text/plain": [
       "-526.5000000000001"
      ]
     },
     "execution_count": 47,
     "metadata": {},
     "output_type": "execute_result"
    }
   ],
   "source": [
    "integrate_function(2, 5, 30, functionc)"
   ]
  },
  {
   "cell_type": "code",
   "execution_count": 48,
   "metadata": {
    "collapsed": false
   },
   "outputs": [
    {
     "data": {
      "text/plain": [
       "-526.5"
      ]
     },
     "execution_count": 48,
     "metadata": {},
     "output_type": "execute_result"
    }
   ],
   "source": [
    "integrate_function(2, 5, 100, functionc)"
   ]
  },
  {
   "cell_type": "markdown",
   "metadata": {},
   "source": [
    "Now, let's calculate the integral:\n",
    "$\\int_2^5 (3x-4x^3+17) \\, dx = \\left[ \\frac{3}{2} x^2 - x^4 +17x \\right]_2^5$"
   ]
  },
  {
   "cell_type": "code",
   "execution_count": 51,
   "metadata": {
    "collapsed": false
   },
   "outputs": [
    {
     "data": {
      "text/plain": [
       "-526.5"
      ]
     },
     "execution_count": 51,
     "metadata": {},
     "output_type": "execute_result"
    }
   ],
   "source": [
    "a=2\n",
    "b=5\n",
    "(1.5*b**2-b**4+17*b)-(1.5*a**2-a**4+17*a)"
   ]
  },
  {
   "cell_type": "markdown",
   "metadata": {},
   "source": [
    "## d) $\\int_0^{\\pi/2} e^{\\sin{x}}\\cos{x} \\, dx $"
   ]
  },
  {
   "cell_type": "code",
   "execution_count": 52,
   "metadata": {
    "collapsed": true
   },
   "outputs": [],
   "source": [
    "def functiond(x):\n",
    "    return math.e**math.sin(x)*math.cos(x)"
   ]
  },
  {
   "cell_type": "code",
   "execution_count": 53,
   "metadata": {
    "collapsed": false
   },
   "outputs": [
    {
     "data": {
      "text/plain": [
       "1.7183295803369698"
      ]
     },
     "execution_count": 53,
     "metadata": {},
     "output_type": "execute_result"
    }
   ],
   "source": [
    "integrate_function(0,math.pi/2,10, functiond)"
   ]
  },
  {
   "cell_type": "code",
   "execution_count": 54,
   "metadata": {
    "collapsed": false
   },
   "outputs": [
    {
     "data": {
      "text/plain": [
       "1.7182824088602076"
      ]
     },
     "execution_count": 54,
     "metadata": {},
     "output_type": "execute_result"
    }
   ],
   "source": [
    "integrate_function(0,math.pi/2, 30, functiond)"
   ]
  },
  {
   "cell_type": "code",
   "execution_count": 55,
   "metadata": {
    "collapsed": false
   },
   "outputs": [
    {
     "data": {
      "text/plain": [
       "1.7182818331521048"
      ]
     },
     "execution_count": 55,
     "metadata": {},
     "output_type": "execute_result"
    }
   ],
   "source": [
    "integrate_function(0,math.pi/2,100, functiond)"
   ]
  },
  {
   "cell_type": "markdown",
   "metadata": {},
   "source": [
    "As before, $\\int_0^{\\pi/2} e^{\\sin{x}}\\cos{x} \\, dx = \\left[ e^{\\sin{x}} \\right]_0^{\\pi/2}$"
   ]
  },
  {
   "cell_type": "code",
   "execution_count": 56,
   "metadata": {
    "collapsed": false
   },
   "outputs": [
    {
     "data": {
      "text/plain": [
       "1.718281828459045"
      ]
     },
     "execution_count": 56,
     "metadata": {},
     "output_type": "execute_result"
    }
   ],
   "source": [
    "a=0\n",
    "b=math.pi/2\n",
    "math.e**math.sin(b)-math.e**math.sin(a)"
   ]
  }
 ],
 "metadata": {
  "anaconda-cloud": {},
  "kernelspec": {
   "display_name": "Python [default]",
   "language": "python",
   "name": "python2"
  },
  "language_info": {
   "codemirror_mode": {
    "name": "ipython",
    "version": 2
   },
   "file_extension": ".py",
   "mimetype": "text/x-python",
   "name": "python",
   "nbconvert_exporter": "python",
   "pygments_lexer": "ipython2",
   "version": "2.7.12"
  }
 },
 "nbformat": 4,
 "nbformat_minor": 1
}
