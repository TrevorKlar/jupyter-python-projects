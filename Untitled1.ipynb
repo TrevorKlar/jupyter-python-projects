{
 "cells": [
  {
   "cell_type": "markdown",
   "metadata": {},
   "source": [
    "continuous:\n",
    "\n",
    "for $x_0 \\in D(f(x))$, $\\quad \\forall \\epsilon \\gt 0, \\quad \\exists \\delta(\\epsilon, x_0) \\gt 0 \\,\\,  s.t. $\n",
    "$\\quad |x-x_0|\\lt \\delta \\implies |f(x)-f(x_0)|\\lt \\epsilon$"
   ]
  },
  {
   "cell_type": "code",
   "execution_count": null,
   "metadata": {
    "collapsed": true
   },
   "outputs": [],
   "source": []
  }
 ],
 "metadata": {
  "kernelspec": {
   "display_name": "Python [default]",
   "language": "python",
   "name": "python2"
  },
  "language_info": {
   "codemirror_mode": {
    "name": "ipython",
    "version": 2
   },
   "file_extension": ".py",
   "mimetype": "text/x-python",
   "name": "python",
   "nbconvert_exporter": "python",
   "pygments_lexer": "ipython2",
   "version": "2.7.12"
  }
 },
 "nbformat": 4,
 "nbformat_minor": 1
}
