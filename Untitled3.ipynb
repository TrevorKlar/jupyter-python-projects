{
 "cells": [
  {
   "cell_type": "code",
   "execution_count": 1,
   "metadata": {
    "collapsed": true
   },
   "outputs": [],
   "source": [
    "def irange(start, stop, step=1):            # This is an inclusive range function, so that I don't have to remember\n",
    "    if step == 1:                           # that range() leaves out the last value. \n",
    "        return range(start, stop+1)         #\n",
    "    elif step < 0:                          #\n",
    "        return range(start, stop-1, step)   #\n",
    "    else:                                   #\n",
    "        return range(start, stop+1, step)   #\n",
    "\n",
    "def indeces(somelist):                   #returns a list of numbers from 0 to len(somelist), so I can easily iterate\n",
    "    return range(len(somelist))          # with reference to the index of each element in the list\n",
    "\n",
    "def linapprox(xlist, ylist, x):\n",
    "    #estimates the value of a function using linear approximation, given a discreet mapping of x-values to y-values.\n",
    "    for x_n in xlist:\n",
    "        if x_n - x < 0:\n",
    "            continue\n",
    "        if x_n - x == 0:\n",
    "            #print 'match:', x, 'is in list.'\n",
    "            return ylist[xlist.index(x_n)]\n",
    "        if x_n - x > 0:\n",
    "            n = xlist.index(x_n)\n",
    "            #print 'approximation:', x, 'is between', xlist[n-1],'and', xlist[n], '.'\n",
    "            break\n",
    "    try:\n",
    "        x1, x2 = xlist[n-1], xlist[n]\n",
    "        y1, y2 = ylist[n-1], ylist[n]\n",
    "        return float((x-x1)*(y2-y1))/(x2-x1) + y1\n",
    "    except:\n",
    "        print 'ERROR: input', x, ' invalid. is it in the range ('+str(min(xlist))+','+str(max(xlist))+')?'\n",
    "\n",
    "import matplotlib.pyplot as plt          # this is the\n",
    "                                         # plot library\n",
    "    \n",
    "import numpy as np                       # not strictly necessary\n",
    "                                         # but useful\n",
    "    \n",
    "import scipy, scipy.special, scipy.stats\n",
    "    \n",
    "%matplotlib inline                       \n",
    "                                         # displays plots in the notebook\n",
    "                                         # instead of popup windows\n",
    "import math\n",
    "\n",
    "import random"
   ]
  },
  {
   "cell_type": "code",
   "execution_count": 32,
   "metadata": {
    "collapsed": false
   },
   "outputs": [],
   "source": [
    "def is_prime(n):\n",
    "    for i in range(2,int(math.floor(math.sqrt(n)))+1):\n",
    "        #print i\n",
    "        if n%i==0: return False\n",
    "    return True"
   ]
  },
  {
   "cell_type": "code",
   "execution_count": 39,
   "metadata": {
    "collapsed": false
   },
   "outputs": [
    {
     "name": "stdout",
     "output_type": "stream",
     "text": [
      "True\n"
     ]
    }
   ],
   "source": [
    "print is_prime(1)"
   ]
  },
  {
   "cell_type": "code",
   "execution_count": 40,
   "metadata": {
    "collapsed": true
   },
   "outputs": [],
   "source": [
    "mylist=[True]*100\n"
   ]
  },
  {
   "cell_type": "code",
   "execution_count": 41,
   "metadata": {
    "collapsed": false
   },
   "outputs": [
    {
     "name": "stdout",
     "output_type": "stream",
     "text": [
      "[True, True, True, True, True, True, True, True, True, True, True, True, True, True, True, True, True, True, True, True, True, True, True, True, True, True, True, True, True, True, True, True, True, True, True, True, True, True, True, True, True, True, True, True, True, True, True, True, True, True, True, True, True, True, True, True, True, True, True, True, True, True, True, True, True, True, True, True, True, True, True, True, True, True, True, True, True, True, True, True, True, True, True, True, True, True, True, True, True, True, True, True, True, True, True, True, True, True, True, True]\n"
     ]
    }
   ],
   "source": [
    "print mylist"
   ]
  },
  {
   "cell_type": "code",
   "execution_count": null,
   "metadata": {
    "collapsed": true
   },
   "outputs": [],
   "source": []
  }
 ],
 "metadata": {
  "anaconda-cloud": {},
  "kernelspec": {
   "display_name": "Python [default]",
   "language": "python",
   "name": "python2"
  },
  "language_info": {
   "codemirror_mode": {
    "name": "ipython",
    "version": 2
   },
   "file_extension": ".py",
   "mimetype": "text/x-python",
   "name": "python",
   "nbconvert_exporter": "python",
   "pygments_lexer": "ipython2",
   "version": "2.7.12"
  }
 },
 "nbformat": 4,
 "nbformat_minor": 1
}
