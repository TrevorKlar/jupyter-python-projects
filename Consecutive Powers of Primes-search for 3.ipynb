{
 "cells": [
  {
   "cell_type": "code",
   "execution_count": 1,
   "metadata": {
    "collapsed": true
   },
   "outputs": [],
   "source": [
    "def irange(start, stop, step=1):            # This is an inclusive range function, so that I don't have to remember\n",
    "    if step == 1:                           # that range() leaves out the last value. \n",
    "        return range(start, stop+1)         #\n",
    "    elif step < 0:                          #\n",
    "        return range(start, stop-1, step)   #\n",
    "    else:                                   #\n",
    "        return range(start, stop+1, step)   #\n",
    "\n",
    "def indeces(somelist):              #returns a list of numbers from 0 to len(somelist), so I can easily iterate with\n",
    "    return range(len(somelist))     #  reference to the index of each element in the list\n",
    "\n",
    "def numlen(somenumber):\n",
    "    return len(str(somenumber))     #returns the number of characters in a number, for formatting purposes\n",
    "\n",
    "def nicestring(stringinput):\n",
    "    stringinput=stringinput.lower() #puts the string in all lowercase\n",
    "    stringinput=stringinput.strip() #removes whitespace from the string\n",
    "    stringinput=stringinput.translate(None, string.punctuation) #removes all punctuation from the string\n",
    "    return stringinput\n",
    "\n",
    "import matplotlib.pyplot as plt          # this is the\n",
    "                                         # plot library\n",
    "    \n",
    "import numpy as np                       # not strictly necessary\n",
    "                                         # but useful\n",
    "    \n",
    "from IPython.display import Latex\n",
    "    \n",
    "import scipy, scipy.special, scipy.stats\n",
    "    \n",
    "%matplotlib inline                       \n",
    "                                         # displays plots in the notebook\n",
    "                                         # instead of popup windows\n",
    "import math\n",
    "\n",
    "import random"
   ]
  },
  {
   "cell_type": "markdown",
   "metadata": {},
   "source": [
    "This is a short script designed to visualize this problem. Feel free to change the values of 'p' and 'q' to see how the data changes. \n",
    "\n",
    "We have two primes, $p$ and $q$. We are interested in the sequence $\\{a_n\\}_{n=1}^{\\infty}$ where $a_n=p^\\alpha q^\\beta$, for various $\\alpha, \\beta \\in \\mathbb{Z}$, and all the terms of the sequence are arranged in increasing order. We are specifically interested in the parts of the sequence where an $a_k=p^\\alpha$ term is immediately followed by an $a_{k+1}=q^\\beta$ term. "
   ]
  },
  {
   "cell_type": "code",
   "execution_count": 2,
   "metadata": {
    "collapsed": false
   },
   "outputs": [],
   "source": [
    "#=============================SETTINGS===========================\n",
    "p=59          #By convention, we choose p to be the smaller prime\n",
    "q=61\n",
    "maxpower=2000\n",
    "#Maximum value of alpha and beta\n",
    "#================================================================\n",
    "\n",
    "a=[]\n",
    "for i in irange(0,maxpower):        #Evaluates the elements of {a_n}\n",
    "    for j in irange(0,maxpower):    #\n",
    "        a.append((i*math.log(p)+j*math.log(q),i,j))   #\n",
    "a.sort(key=lambda tup: tup[0])      #Sorts {a_n} in increasing order\n",
    "\n",
    "#print a        #uncomment to debug"
   ]
  },
  {
   "cell_type": "code",
   "execution_count": 3,
   "metadata": {
    "collapsed": false
   },
   "outputs": [],
   "source": [
    "orderplot_a=[]                         #Strips out only the values of alpha and beta from the above list, in \n",
    "for i in a:                            # preparation for plotting.\n",
    "    orderplot_a.append((i[1],i[2]))    #\n",
    "    if i[1]==maxpower or i[2]==maxpower: break\n",
    "    \n",
    "#print orderplot_a         #uncomment to debug      \n",
    "\n",
    "#A Critical Pair is a pair of terms in {a_n} where one is a power of p, and the other is a power of q.\n",
    "# This part finds all the critical pairs which have been calculated, and adds the to the list 'critical_pairs'.\n",
    "critical_pairs=[]\n",
    "for i in indeces(orderplot_a):\n",
    "    if (orderplot_a[i][0]==0 or orderplot_a[i][1]==0) and not (orderplot_a[i][0]==0 and orderplot_a[i][1]==0):\n",
    "        if i<>len(orderplot_a)-1:\n",
    "            if(orderplot_a[i+1][0]==0 or orderplot_a[i+1][1]==0):\n",
    "                critical_pairs.append((orderplot_a[i],orderplot_a[i+1]))\n",
    "\n",
    "plotting = 'on'\n",
    "\n",
    "if plotting == 'on' and maxpower<=25: #If maxpower > 25, the figure is illegible, so it is disabled.\n",
    "    plt.plot(zip(*orderplot_a)[0],zip(*orderplot_a)[1]);  #\n",
    "    for i in indeces(critical_pairs): plt.plot(zip(*critical_pairs[i])[0],zip(*critical_pairs[i])[1], color='r');\n",
    "    plt.grid(which='both')\n",
    "    plt.xticks(irange(0,maxpower))\n",
    "    plt.yticks(irange(0,7))\n",
    "    fig=plt.gcf()                                         #Plots the figure. The line connects the powers corres-\n",
    "    fig.set_size_inches(5,5)                              #ponding to elements of {a_n} in sequence.   \n",
    "    ax=fig.add_subplot(111)                               # \n",
    "    ax.set_xlabel(str(p)+'^n')                                    #\n",
    "    ax.set_ylabel(str(q)+'^m');                                   #\n",
    "\n",
    "#zip(*orderplot_a)        #uncomment to debug\n",
    "\n",
    "#We would like to highlight the segments representing critical pairs in red. Maybe plot as individual line segments?"
   ]
  },
  {
   "cell_type": "code",
   "execution_count": 4,
   "metadata": {
    "collapsed": false
   },
   "outputs": [
    {
     "name": "stdout",
     "output_type": "stream",
     "text": [
      "((1, 0), (0, 1))\n",
      "((0, 1), (2, 0))\n",
      "((0, 2), (3, 0))\n",
      "((0, 3), (4, 0))\n",
      "((0, 4), (5, 0))\n",
      "((0, 5), (6, 0))\n",
      "((0, 6), (7, 0))\n",
      "((0, 7), (8, 0))\n",
      "((0, 8), (9, 0))\n",
      "((0, 9), (10, 0))\n",
      "((0, 10), (11, 0))\n",
      "((0, 11), (12, 0))\n",
      "((0, 12), (13, 0))\n",
      "((0, 13), (14, 0))\n",
      "((0, 14), (15, 0))\n",
      "((0, 15), (16, 0))\n",
      "((0, 16), (17, 0))\n",
      "((0, 17), (18, 0))\n",
      "((0, 18), (19, 0))\n",
      "((0, 19), (20, 0))\n",
      "((0, 20), (21, 0))\n",
      "((0, 21), (22, 0))\n",
      "((0, 22), (23, 0))\n",
      "((0, 23), (24, 0))\n",
      "((0, 24), (25, 0))\n",
      "((0, 25), (26, 0))\n",
      "((0, 26), (27, 0))\n",
      "((0, 27), (28, 0))\n",
      "((0, 28), (29, 0))\n",
      "((0, 29), (30, 0))\n",
      "((0, 30), (31, 0))\n",
      "((0, 31), (32, 0))\n",
      "((0, 32), (33, 0))\n",
      "((0, 33), (34, 0))\n",
      "((0, 34), (35, 0))\n",
      "((0, 35), (36, 0))\n",
      "((0, 36), (37, 0))\n",
      "((0, 37), (38, 0))\n",
      "((0, 38), (39, 0))\n",
      "((0, 39), (40, 0))\n",
      "((0, 40), (41, 0))\n",
      "((0, 41), (42, 0))\n",
      "((0, 42), (43, 0))\n",
      "((0, 43), (44, 0))\n",
      "((0, 44), (45, 0))\n",
      "((0, 45), (46, 0))\n",
      "((0, 46), (47, 0))\n",
      "((0, 47), (48, 0))\n",
      "((0, 48), (49, 0))\n",
      "((0, 49), (50, 0))\n",
      "((0, 50), (51, 0))\n",
      "((0, 51), (52, 0))\n",
      "((0, 52), (53, 0))\n",
      "((0, 53), (54, 0))\n",
      "((0, 54), (55, 0))\n",
      "((0, 55), (56, 0))\n",
      "((0, 56), (57, 0))\n",
      "((0, 57), (58, 0))\n",
      "((0, 58), (59, 0))\n",
      "((0, 59), (60, 0))\n",
      "((0, 60), (61, 0))\n",
      "((0, 61), (62, 0))\n",
      "((0, 62), (63, 0))\n",
      "((0, 63), (64, 0))\n",
      "((0, 64), (65, 0))\n",
      "((0, 65), (66, 0))\n",
      "((0, 66), (67, 0))\n",
      "((0, 67), (68, 0))\n",
      "((0, 68), (69, 0))\n",
      "((0, 69), (70, 0))\n",
      "((0, 70), (71, 0))\n",
      "((0, 71), (72, 0))\n",
      "((0, 72), (73, 0))\n",
      "((0, 73), (74, 0))\n",
      "((0, 74), (75, 0))\n",
      "((0, 75), (76, 0))\n",
      "((0, 76), (77, 0))\n",
      "((0, 77), (78, 0))\n",
      "((0, 78), (79, 0))\n",
      "((0, 79), (80, 0))\n",
      "((0, 80), (81, 0))\n",
      "((0, 81), (82, 0))\n",
      "((0, 82), (83, 0))\n",
      "((0, 83), (84, 0))\n",
      "((0, 84), (85, 0))\n",
      "((0, 85), (86, 0))\n",
      "((0, 86), (87, 0))\n",
      "((0, 87), (88, 0))\n",
      "((0, 88), (89, 0))\n",
      "((0, 89), (90, 0))\n",
      "((0, 90), (91, 0))\n",
      "((0, 91), (92, 0))\n",
      "((0, 92), (93, 0))\n",
      "((0, 93), (94, 0))\n",
      "((0, 94), (95, 0))\n",
      "((0, 95), (96, 0))\n",
      "((0, 96), (97, 0))\n",
      "((0, 97), (98, 0))\n",
      "((0, 98), (99, 0))\n",
      "((0, 99), (100, 0))\n",
      "((0, 100), (101, 0))\n",
      "((0, 101), (102, 0))\n",
      "((0, 102), (103, 0))\n",
      "((0, 103), (104, 0))\n",
      "((0, 104), (105, 0))\n",
      "((0, 105), (106, 0))\n",
      "((0, 106), (107, 0))\n",
      "((0, 107), (108, 0))\n",
      "((0, 108), (109, 0))\n",
      "((0, 109), (110, 0))\n",
      "((0, 110), (111, 0))\n",
      "((0, 111), (112, 0))\n",
      "((0, 112), (113, 0))\n",
      "((0, 113), (114, 0))\n",
      "((0, 114), (115, 0))\n",
      "((0, 115), (116, 0))\n",
      "((0, 116), (117, 0))\n",
      "((0, 117), (118, 0))\n",
      "((0, 118), (119, 0))\n",
      "((0, 119), (120, 0))\n",
      "((0, 120), (121, 0))\n",
      "((0, 121), (122, 0))\n",
      "((0, 122), (123, 0))\n",
      "((124, 0), (0, 123))\n",
      "((247, 0), (0, 245))\n",
      "((370, 0), (0, 367))\n",
      "((0, 489), (493, 0))\n",
      "((0, 856), (863, 0))\n",
      "((0, 1223), (1233, 0))\n",
      "((0, 1590), (1603, 0))\n",
      "((0, 1957), (1973, 0))\n"
     ]
    }
   ],
   "source": [
    "for i in indeces(critical_pairs):\n",
    "    print critical_pairs[i]"
   ]
  },
  {
   "cell_type": "code",
   "execution_count": null,
   "metadata": {
    "collapsed": true
   },
   "outputs": [],
   "source": [
    "for j in indeces(critical_pairs):\n",
    "    if critical_pairs[j][0][0]==0:\n",
    "        for i in irange(0,critical_pairs[j][0][1]/2):\n",
    "            if critical_pairs[j][0][1]*math.log(q)<(critical_pairs[j][0][1]-2*i)*math.log(q)+i*math.log(r)<critical_pairs[j][1][0]*math.log(p):\n",
    "                critflag=1\n",
    "        \n",
    "            "
   ]
  },
  {
   "cell_type": "code",
   "execution_count": 7,
   "metadata": {
    "collapsed": false
   },
   "outputs": [
    {
     "data": {
      "text/plain": [
       "False"
      ]
     },
     "execution_count": 7,
     "metadata": {},
     "output_type": "execute_result"
    }
   ],
   "source": []
  },
  {
   "cell_type": "code",
   "execution_count": 7,
   "metadata": {
    "collapsed": false
   },
   "outputs": [
    {
     "name": "stdout",
     "output_type": "stream",
     "text": [
      "Critical Pair \t| pq(n) \t\t\t| pq(n+2)/pq(n+1)\n",
      "13^1 47^1 \t| 611                           | 611\n",
      "47^1 13^2 \t| 7943                          | 7943\n",
      "13^3 47^2 \t| 4853173                       | 4853173\n",
      "47^3 13^5 \t| 38548753139                   | 4853173\n",
      "47^5 13^8 \t| 187083767917860047            | 4853173\n",
      "47^7 13^11 \t| 907949891197224597879131      | 4853173\n",
      "47^9 13^14 \t| 44064378973113080933628558326 | 4853173\n",
      "47^11 13^17 \t| 21385205429408013033390091129 | 4853173\n",
      "47^13 13^20 \t| 10378610158945637483729688873 | 4853173\n",
      "47^15 13^23 \t| 50369190600920676303824865341 | 4853173\n",
      "47^17 13^26 \t| 24445039585624200137946263320 | 4853173\n",
      "47^19 13^29 \t| 11863600610088255625607708059 | 4853173\n",
      "47^21 13^32 \t| 57576106163663849819297437347 | 4853173\n",
      "47^23 13^35 \t| 27942680387862697701906920190 | 4853173\n",
      "47^25 13^38 \t| 13561066200600477219405671358 | 4853173\n",
      "47^27 13^41 \t| 65814200335966819828334680282 | 4853173\n",
      "47^29 13^44 \t| 31940770008710509888673850530 | 4853173\n",
      "47^31 13^47 \t| 15501408260548361140794493720 | 4853173\n",
      "47^33 13^50 \t| 75231016032070271482753035471 | 4853173\n",
      "47^35 13^53 \t| 36510913576941057566276699741 | 4853173\n",
      "47^37 13^56 \t| 17719377997694376317209978971 | 4853173\n",
      "47^39 13^59 \t| 85995206875204409394522905275 | 4853173\n",
      "47^41 13^62 \t| 41734961613615640915444491176 | 4853173\n",
      "47^43 13^65 \t| 20254698885923586086853048757 | 4853173\n",
      "47^45 13^68 \t| 98299557756294428059890871198 | 4853173\n",
      "47^47 13^71 \t| 47706475961478869831070475904 | 4853173\n",
      "47^49 13^74 \t| 23152778106139829113466579475 | 4853173\n",
      "47^51 13^77 \t| 11236443757970895287808993991 | 4853173\n",
      "47^53 13^80 \t| 54532405462202883796621838796 | 4853173\n",
      "47^55 13^83 \t| 26465519781421555616390259925 | 4853173\n",
      "47^57 13^86 \t| 12844174603416099533546356693 | 4853173\n",
      "47^59 13^89 \t| 62335001392584722021519772552 | 4853173\n",
      "47^61 13^92 \t| 30252254571345457312734517912 | 4853173\n",
      "47^63 13^95 \t| 14681942507478034710281571849 | 4853173\n",
      "47^65 13^98 \t| 71254006964844696149001346899 | 4853173\n",
      "47^67 13^101 \t| 34580802274359622854353731373 | 4853173\n",
      "47^69 13^104 \t| 16782661591626071392693246155 | 4853173\n",
      "47^71 13^107 \t| 81449160104616675779091259522 | 4853173\n",
      "47^73 13^110 \t| 39528686469240282624083966525 | 4853173\n",
      "47^75 13^113 \t| 19183955389798227014357345607 | 4853173\n",
      "47^77 13^116 \t| 93103054330973230793949682052 | 4853173\n",
      "47^79 13^119 \t| 45184522949661234741196516029 | 4853173\n",
      "47^81 13^122 \t| 21928830679717626359263691928 | 4853173\n",
      "47^83 13^125 \t| 10642440897637723187086684954 | 4853173\n",
      "47^85 13^128 \t| 51649606818511161953043048082 | 4853173\n",
      "47^87 13^131 \t| 25066447727221427138913578879 | 4853173\n",
      "47^89 13^134 \t| 12165180731566239521204263035 | 4853173\n",
      "47^91 13^137 \t| 59039726666557521355841456846 | 4853173\n",
      "47^93 13^140 \t| 28653000738551696559109315064 | 4853173\n",
      "47^95 13^143 \t| 13905796955331915284486223192 | 4853173\n",
      "47^97 13^146 \t| 67487238327099057296955857268 | 4853173\n",
      "47^99 13^149 \t| 32752724289364231319903914868 | 4853173\n",
      "47^101 13^152 \t| 15895463719758667460751204223 | 4853173\n",
      "47^103 13^155 \t| 77143435347212331436496304054 | 4853173\n",
      "47^105 13^158 \t| 37439043755433651219465507743 | 4853173\n",
      "47^107 13^161 \t| 18169815629968919938972707661 | 4853173\n",
      "47^109 13^164 \t| 88181258630343153086983992559 | 4853173\n",
      "47^111 13^167 \t| 42795890349079837129661736411 | 4853173\n",
      "47^113 13^170 \t| 20769585955311484040207183828 | 4853173\n",
      "47^115 13^173 \t| 10079839377949690093386441896 | 4853173\n",
      "47^117 13^176 \t| 48919204313402231319590558377 | 4853173\n",
      "47^119 13^179 \t| 23741336155528724717999126897 | 4853173\n",
      "47^121 13^182 \t| 11522081161393580752582597668 | 4853173\n",
      "47^123 13^185 \t| 55918653196283968481753543272 | 4853173\n",
      "47^125 13^188 \t| 27138289788856905616849728886 | 4853173\n",
      "47^127 13^191 \t| 13170681526945603520324344929 | 4853173\n",
      "47^129 13^194 \t| 63919595978171175473543062052 | 4853173\n",
      "47^131 13^197 \t| 31021285737216893818646140308 |\n",
      "47^133 13^200 \t| 15055166636514612422452034470 |\n"
     ]
    }
   ],
   "source": [
    "for i in indeces(critical_pairs):\n",
    "    if i==0: print \"Critical Pair\", \"\\t|\", \"pq(n)\", \"\\t\"*2, \"\\t|\", \"pq(n+2)/pq(n+1)\"\n",
    "    for j in indeces(critical_pairs[i]):\n",
    "        if critical_pairs[i][j][0] <> 0: print str(p)+\"^\"+str(critical_pairs[i][j][0]),\n",
    "        if critical_pairs[i][j][1] <> 0: print str(q)+\"^\"+str(critical_pairs[i][j][1]),\n",
    "        #print 2**critical_pairs[i][j][0]*3**critical_pairs[i][j][1],\n",
    "    print \"\\t|\",\n",
    "    pqn = str(p**critical_pairs[i][0][0]*q**critical_pairs[i][0][1]*p**critical_pairs[i][1][0]*q**critical_pairs[i][1][1])\n",
    "    print pqn[:29], \" \"*(29-len(pqn))+\"|\",\n",
    "    if i <(len(critical_pairs)-2):\n",
    "        ratio = str((p**critical_pairs[i+2][0][0]*q**critical_pairs[i+2][0][1]*p**critical_pairs[i+2][1][0]*q**critical_pairs[i+2][1][1])/(p**critical_pairs[i+1][0][0]*q**critical_pairs[i+1][0][1]*p**critical_pairs[i+1][1][0]*q**critical_pairs[i+1][1][1]))\n",
    "        print ratio[:29],\n",
    "    print "
   ]
  },
  {
   "cell_type": "code",
   "execution_count": null,
   "metadata": {
    "collapsed": true
   },
   "outputs": [],
   "source": []
  },
  {
   "cell_type": "code",
   "execution_count": 8,
   "metadata": {
    "collapsed": false
   },
   "outputs": [
    {
     "name": "stdout",
     "output_type": "stream",
     "text": [
      "1\n",
      "0\n",
      "1\n",
      "0\n",
      "3\n",
      "0\n",
      "3\n",
      "0\n",
      "5\n",
      "0\n",
      "7\n",
      "0\n",
      "9\n",
      "0\n",
      "11\n",
      "0\n",
      "13\n",
      "0\n",
      "15\n",
      "0\n",
      "17\n",
      "0\n",
      "19\n",
      "0\n",
      "21\n",
      "0\n",
      "23\n",
      "0\n",
      "25\n",
      "0\n",
      "27\n",
      "0\n",
      "29\n",
      "0\n",
      "31\n",
      "0\n",
      "33\n",
      "0\n",
      "35\n",
      "0\n",
      "37\n",
      "0\n",
      "39\n",
      "0\n",
      "41\n",
      "0\n",
      "43\n",
      "0\n",
      "45\n",
      "0\n",
      "47\n",
      "0\n",
      "49\n",
      "0\n",
      "51\n",
      "0\n",
      "53\n",
      "0\n",
      "55\n",
      "0\n",
      "57\n",
      "0\n",
      "59\n",
      "0\n",
      "61\n",
      "0\n",
      "63\n",
      "0\n",
      "65\n",
      "0\n",
      "67\n",
      "0\n",
      "69\n",
      "0\n",
      "71\n",
      "0\n",
      "73\n",
      "0\n",
      "75\n",
      "0\n",
      "77\n",
      "0\n",
      "79\n",
      "0\n",
      "81\n",
      "0\n",
      "83\n",
      "0\n",
      "85\n",
      "0\n",
      "87\n",
      "0\n",
      "89\n",
      "0\n",
      "91\n",
      "0\n",
      "93\n",
      "0\n",
      "95\n",
      "0\n",
      "97\n",
      "0\n",
      "99\n",
      "0\n",
      "101\n",
      "0\n",
      "103\n",
      "0\n",
      "105\n",
      "0\n",
      "107\n",
      "0\n",
      "109\n",
      "0\n",
      "111\n",
      "0\n",
      "113\n",
      "0\n",
      "115\n",
      "0\n",
      "117\n",
      "0\n",
      "119\n",
      "0\n",
      "121\n",
      "0\n",
      "123\n",
      "0\n",
      "125\n",
      "0\n",
      "127\n",
      "0\n",
      "129\n",
      "0\n",
      "131\n",
      "0\n"
     ]
    }
   ],
   "source": [
    "for i in indeces(critical_pairs[:-1]):\n",
    "    print critical_pairs[i][0][0]+critical_pairs[i][0][1] \n",
    "    top=(critical_pairs[i][0][0]+critical_pairs[i][0][1])*(critical_pairs[i][1][0]+critical_pairs[i][1][1])\n",
    "    bottom=(critical_pairs[i+1][0][0]+critical_pairs[i+1][0][1])*(critical_pairs[i+1][1][0]+critical_pairs[i+1][1][1])\n",
    "    print top/bottom"
   ]
  },
  {
   "cell_type": "code",
   "execution_count": 9,
   "metadata": {
    "collapsed": false
   },
   "outputs": [
    {
     "name": "stdout",
     "output_type": "stream",
     "text": [
      "69\n"
     ]
    }
   ],
   "source": [
    "print len(critical_pairs)"
   ]
  },
  {
   "cell_type": "code",
   "execution_count": 10,
   "metadata": {
    "collapsed": false
   },
   "outputs": [
    {
     "data": {
      "text/plain": [
       "1.4649735207179269"
      ]
     },
     "execution_count": 10,
     "metadata": {},
     "output_type": "execute_result"
    }
   ],
   "source": [
    "math.log(5)/math.log(3)"
   ]
  },
  {
   "cell_type": "code",
   "execution_count": 11,
   "metadata": {
    "collapsed": false
   },
   "outputs": [
    {
     "name": "stdout",
     "output_type": "stream",
     "text": [
      "[(0, 0), (1, 0), (0, 1), (2, 0), (1, 1)]\n",
      "5\n"
     ]
    }
   ],
   "source": [
    "print orderplot_a[:5]\n",
    "print len(orderplot_a[:5])"
   ]
  },
  {
   "cell_type": "code",
   "execution_count": 12,
   "metadata": {
    "collapsed": false
   },
   "outputs": [
    {
     "name": "stdout",
     "output_type": "stream",
     "text": [
      "-0.66619507167\n",
      "\n",
      "[-1.0, -0.5, -0.6666666666666666, -0.6, -0.625, -0.6363636363636364, -0.6428571428571429, -0.6470588235294118, -0.65, -0.6521739130434783, -0.6538461538461539, -0.6551724137931034, -0.65625, -0.6571428571428571, -0.6578947368421053, -0.6585365853658537, -0.6590909090909091, -0.6595744680851063, -0.66, -0.660377358490566, -0.6607142857142857, -0.6610169491525424, -0.6612903225806451, -0.6615384615384615, -0.6617647058823529, -0.6619718309859155, -0.6621621621621622, -0.6623376623376623, -0.6625, -0.6626506024096386, -0.6627906976744186, -0.6629213483146067, -0.6630434782608695, -0.6631578947368421, -0.6632653061224489, -0.6633663366336634, -0.6634615384615384, -0.6635514018691588, -0.6636363636363637, -0.6637168141592921, -0.6637931034482759, -0.6638655462184874, -0.6639344262295082, -0.664, -0.6640625, -0.6641221374045801, -0.664179104477612, -0.6642335766423357, -0.6642857142857143, -0.6643356643356644, -0.6643835616438356, -0.6644295302013423, -0.6644736842105263, -0.6645161290322581, -0.6645569620253164, -0.6645962732919255, -0.6646341463414634, -0.6646706586826348, -0.6647058823529411, -0.6647398843930635, -0.6647727272727273, -0.664804469273743, -0.6648351648351648, -0.6648648648648648, -0.6648936170212766, -0.6649214659685864, -0.6649484536082474, -0.6649746192893401, -0.665]\n"
     ]
    }
   ],
   "source": [
    "#Observe how the slopes between the two points of a critical pair seem to approach a limit; namely ln(p)/ln(q).\n",
    "critical_slopes=[]\n",
    "\n",
    "plot_slopes='critical' #options: 'critical' or 'all\n",
    "\n",
    "if plot_slopes=='critical':\n",
    "    for i in critical_pairs:\n",
    "        slope=float(i[0][1]-i[1][1])/(i[0][0]-i[1][0])\n",
    "        critical_slopes.append(slope)\n",
    "\n",
    "if plot_slopes=='all':\n",
    "    for i in indeces(orderplot_a):\n",
    "        slope=float(orderplot_a[i][1]-orderplot_a[i+1][1])/(orderplot_a[i][0]-orderplot_a[i+1][0])\n",
    "        critical_slopes.append(slope)\n",
    "        if i == len(orderplot_a)-2: break\n",
    "\n",
    "limit=-math.log(p)/math.log(q)\n",
    "\n",
    "print limit\n",
    "print    \n",
    "print critical_slopes"
   ]
  },
  {
   "cell_type": "code",
   "execution_count": 24,
   "metadata": {
    "collapsed": false
   },
   "outputs": [
    {
     "data": {
      "image/png": "[encoded data removed]",
      "text/plain": [
       "<matplotlib.figure.Figure at 0x7f96566bc710>"
      ]
     },
     "metadata": {},
     "output_type": "display_data"
    }
   ],
   "source": [
    "first=1    #Default = 0\n",
    "last=None  #Default = None\n",
    "\n",
    "plt.plot(indeces(critical_slopes)[first:last],critical_slopes[first:last], label='slope of critical pairs');\n",
    "plt.plot(indeces(critical_slopes)[first:last],[limit]*len(critical_slopes[first:last]), label='$\\log(p)$/$\\log(q)$');\n",
    "plt.legend(loc=\"upper right\",frameon=False)\n",
    "fig=plt.gcf()\n",
    "fig.set_size_inches(9,3)\n",
    "ax=fig.add_subplot(111)                               # \n",
    "ax.set_xlabel('nth critical pair')\n",
    "ax.set_ylabel('slope');"
   ]
  },
  {
   "cell_type": "code",
   "execution_count": 14,
   "metadata": {
    "collapsed": false
   },
   "outputs": [
    {
     "name": "stdout",
     "output_type": "stream",
     "text": [
      "[-0.33380492832994135, 0.16619507167005865, -0.00047159499660798243, 0.06619507167005867, 0.04119507167005865, 0.029831435306422294, 0.023337928812915743, 0.01913624814064685, 0.016195071670058625, 0.014021158626580377, 0.012348917823904793, 0.011022657876955222, 0.009945071670058647, 0.009052214527201508, 0.008300334827953337, 0.007658486304204959, 0.007104162579149587, 0.0066206035849523115, 0.006195071670058616, 0.005817713179492645, 0.005480785955772949, 0.005178122517516259, 0.004904749089413518, 0.0046566101315971276, 0.004430365787705726, 0.004223240684143148, 0.004032909507896476, 0.003857409332396311, 0.0036950716700586694, 0.003544469260420069, 0.0034043739956400865, 0.003273723355451952, 0.003151593409189135, 0.00303717693321659, 0.0029297655476097084, 0.002828735036395247, 0.0027335332085202113, 0.002643669800899806, 0.0025587080336949564, 0.0024782575107665794, 0.0024019682217827354, 0.0023295254515712793, 0.0022606454405504905, 0.0021950716700586126, 0.0021325716700586472, 0.002072934265478499, 0.002015967192446677, 0.001961495027722915, 0.00190935738434439, 0.0018594073343942696, 0.00181151002622304, 0.0017655414687163251, 0.0017213874595323198, 0.0016789426378005512, 0.0016381096447422028, 0.0015987983781331483, 0.0015609253285951974, 0.0015244129874238954, 0.0014891893171175008, 0.001455187276995118, 0.0014223443973313543, 0.00139060239631561, 0.0013599068348938426, 0.001330206805193801, 0.0013014546487820633, 0.0012736057014722801, 0.0012466180618112555, 0.0012204523807185508, 0.0011950716700586117]\n"
     ]
    }
   ],
   "source": [
    "residuals=[]\n",
    "for i in critical_slopes:\n",
    "    residuals.append(i - limit)\n",
    "print residuals\n",
    "    \n",
    "abs_residuals=[0]*len(residuals)\n",
    "for i in indeces(residuals): abs_residuals[i]=residuals[i]\n",
    "for i in indeces(residuals):\n",
    "    if residuals[i]<=0:\n",
    "        abs_residuals[i]*=-1\n",
    "        \n",
    "#print; print abs_residuals         #Uncomment to debug"
   ]
  },
  {
   "cell_type": "code",
   "execution_count": 20,
   "metadata": {
    "collapsed": false
   },
   "outputs": [
    {
     "data": {
      "image/png": "[encoded data removed]",
      "text/plain": [
       "<matplotlib.figure.Figure at 0x7f9659694250>"
      ]
     },
     "metadata": {},
     "output_type": "display_data"
    }
   ],
   "source": [
    "first=0                 #Default = 0\n",
    "last=None               #Default = None\n",
    "absolute_value='True'   \n",
    "\n",
    "if absolute_value == 'False':\n",
    "    plt.plot(indeces(residuals)[first:last],residuals[first:last]);\n",
    "if absolute_value == 'True':\n",
    "    plt.plot(indeces(abs_residuals)[first:last],abs_residuals[first:last]);\n",
    "\n",
    "plt.plot(indeces(residuals)[first:last],[0]*len(residuals[first:last]));\n",
    "\n",
    "#In this figure, I was hoping that perhaps the slope of each critical pair is always closer to the limit, but \n",
    "# that isn't the case. Here is a plot of the residuals, with an option set to plot in absolute value."
   ]
  },
  {
   "cell_type": "code",
   "execution_count": 16,
   "metadata": {
    "collapsed": false
   },
   "outputs": [
    {
     "data": {
      "image/png": "[encoded data removed]",
      "text/plain": [
       "<matplotlib.figure.Figure at 0x7f9656a87850>"
      ]
     },
     "metadata": {},
     "output_type": "display_data"
    }
   ],
   "source": [
    "#This tool charts the slopes of every pair of points in the sequence. note that there is less structure\n",
    "# here than in the critical slopes figure above, however these slopes also seem to approach the limit. \n",
    "\n",
    "all_slopes=[]\n",
    "for i in indeces(orderplot_a[:500]):\n",
    "    slope=float(orderplot_a[i][1]-orderplot_a[i+1][1])/(orderplot_a[i][0]-orderplot_a[i+1][0])\n",
    "    all_slopes.append(slope)\n",
    "    if i == len(orderplot_a)-2: break\n",
    "\n",
    "#print all_slopes         #uncomment to debug         \n",
    "    \n",
    "plt.plot(indeces(all_slopes),all_slopes);\n",
    "plt.plot(indeces(all_slopes),[limit]*len(all_slopes));"
   ]
  },
  {
   "cell_type": "code",
   "execution_count": null,
   "metadata": {
    "collapsed": true
   },
   "outputs": [],
   "source": []
  },
  {
   "cell_type": "code",
   "execution_count": null,
   "metadata": {
    "collapsed": true
   },
   "outputs": [],
   "source": []
  },
  {
   "cell_type": "code",
   "execution_count": null,
   "metadata": {
    "collapsed": true
   },
   "outputs": [],
   "source": []
  },
  {
   "cell_type": "code",
   "execution_count": null,
   "metadata": {
    "collapsed": true
   },
   "outputs": [],
   "source": []
  }
 ],
 "metadata": {
  "anaconda-cloud": {},
  "kernelspec": {
   "display_name": "Python [default]",
   "language": "python",
   "name": "python2"
  },
  "language_info": {
   "codemirror_mode": {
    "name": "ipython",
    "version": 2
   },
   "file_extension": ".py",
   "mimetype": "text/x-python",
   "name": "python",
   "nbconvert_exporter": "python",
   "pygments_lexer": "ipython2",
   "version": "2.7.12"
  }
 },
 "nbformat": 4,
 "nbformat_minor": 1
}
