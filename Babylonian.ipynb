{
 "cells": [
  {
   "cell_type": "code",
   "execution_count": 50,
   "metadata": {
    "collapsed": false
   },
   "outputs": [],
   "source": [
    "def my_square_root(a, epsilon=1e-8):\n",
    "    x1=float(a/2)\n",
    "    \n",
    "    error = float(\"inf\")\n",
    "    timeout = 1\n",
    "        \n",
    "    while error > epsilon:\n",
    "        xnext = 0.5*(x1+float(a)/x1)\n",
    "        error=abs(x1-xnext)\n",
    "        x1=xnext\n",
    "        timeout +=1\n",
    "        #print str(xnext)\n",
    "        \n",
    "        if timeout > 100:\n",
    "            print \"Error: timeout. possible infinite loop.\"\n",
    "            return\n",
    "        elif a < 0:\n",
    "            print \"Error: \"+str(a)+\" does not have a square root.\"\n",
    "            return\n",
    "        \n",
    "    return xnext"
   ]
  },
  {
   "cell_type": "code",
   "execution_count": 51,
   "metadata": {
    "collapsed": false
   },
   "outputs": [
    {
     "name": "stdout",
     "output_type": "stream",
     "text": [
      "Error: -6 does not have a square root.\n"
     ]
    }
   ],
   "source": [
    "my_square_root(-6)"
   ]
  },
  {
   "cell_type": "code",
   "execution_count": 52,
   "metadata": {
    "collapsed": true
   },
   "outputs": [],
   "source": [
    "from math import sqrt"
   ]
  },
  {
   "cell_type": "code",
   "execution_count": 53,
   "metadata": {
    "collapsed": false
   },
   "outputs": [
    {
     "name": "stdout",
     "output_type": "stream",
     "text": [
      "1 \t0.0\n",
      "2 \t-2.22044604925e-16\n",
      "3 \t0.0\n",
      "4 \t0.0\n",
      "5 \t0.0\n",
      "6 \t0.0\n",
      "7 \t0.0\n",
      "8 \t-4.4408920985e-16\n",
      "9 \t0.0\n",
      "10 \t-4.4408920985e-16\n",
      "11 \t0.0\n",
      "12 \t0.0\n",
      "13 \t4.4408920985e-16\n",
      "14 \t0.0\n",
      "15 \t0.0\n",
      "16 \t0.0\n",
      "17 \t0.0\n",
      "18 \t8.881784197e-16\n",
      "19 \t-8.881784197e-16\n",
      "20 \t0.0\n",
      "21 \t0.0\n",
      "22 \t0.0\n",
      "23 \t0.0\n",
      "24 \t0.0\n",
      "25 \t0.0\n"
     ]
    }
   ],
   "source": [
    "for j in range(1,26):\n",
    "    x = float(j)\n",
    "    print j, \"\\t\", my_square_root(x)-sqrt(x)"
   ]
  },
  {
   "cell_type": "code",
   "execution_count": null,
   "metadata": {
    "collapsed": true
   },
   "outputs": [],
   "source": []
  }
 ],
 "metadata": {
  "anaconda-cloud": {},
  "kernelspec": {
   "display_name": "Python 2",
   "language": "python",
   "name": "python2"
  },
  "language_info": {
   "codemirror_mode": {
    "name": "ipython",
    "version": 2
   },
   "file_extension": ".py",
   "mimetype": "text/x-python",
   "name": "python",
   "nbconvert_exporter": "python",
   "pygments_lexer": "ipython2",
   "version": "2.7.12"
  }
 },
 "nbformat": 4,
 "nbformat_minor": 1
}
