{
 "cells": [
  {
   "cell_type": "code",
   "execution_count": 3,
   "metadata": {
    "collapsed": true
   },
   "outputs": [],
   "source": [
    "def irange(start, stop, step=1):            # This is an inclusive range function, so that I don't have to remember\n",
    "    if step == 1:                           # that range() leaves out the last value. \n",
    "        return range(start, stop+1)         #\n",
    "    elif step < 0:                          #\n",
    "        return range(start, stop-1, step)   #\n",
    "    else:                                   #\n",
    "        return range(start, stop+1, step)   #\n",
    "\n",
    "def indeces(somelist):              #returns a list of numbers from 0 to len(somelist), so I can easily iterate with\n",
    "    return range(len(somelist))     #  reference to the index of each element in the list\n",
    "\n",
    "def numlen(somenumber):\n",
    "    return len(str(somenumber))     #returns the number of characters in a number, for formatting purposes\n",
    "\n",
    "def nicestring(stringinput):\n",
    "    stringinput=stringinput.lower() #puts the string in all lowercase\n",
    "    stringinput=stringinput.strip() #removes whitespace from the string\n",
    "    stringinput=stringinput.translate(None, string.punctuation) #removes all punctuation from the string\n",
    "    return stringinput\n",
    "\n",
    "import matplotlib.pyplot as plt          # this is the\n",
    "                                         # plot library\n",
    "    \n",
    "import numpy as np                       # not strictly necessary\n",
    "                                         # but useful\n",
    "    \n",
    "from IPython.display import Latex\n",
    "    \n",
    "import scipy, scipy.special, scipy.stats\n",
    "    \n",
    "%matplotlib inline                       \n",
    "                                         # displays plots in the notebook\n",
    "                                         # instead of popup windows\n",
    "import math\n",
    "\n",
    "import random"
   ]
  },
  {
   "cell_type": "code",
   "execution_count": 14,
   "metadata": {
    "collapsed": false
   },
   "outputs": [],
   "source": [
    "def coinflips(n):\n",
    "    heads=0\n",
    "    for i in range(8):\n",
    "        flip = random.randint(0,1)\n",
    "        if flip == 0: print \"T\",\n",
    "        if flip == 1: print \"H\",; heads = heads+1\n",
    "    print\n",
    "    return heads"
   ]
  },
  {
   "cell_type": "code",
   "execution_count": 18,
   "metadata": {
    "collapsed": false
   },
   "outputs": [
    {
     "name": "stdout",
     "output_type": "stream",
     "text": [
      "H H H H H T T T\n"
     ]
    },
    {
     "data": {
      "text/plain": [
       "5"
      ]
     },
     "execution_count": 18,
     "metadata": {},
     "output_type": "execute_result"
    }
   ],
   "source": [
    "coinflips(8)"
   ]
  },
  {
   "cell_type": "code",
   "execution_count": 20,
   "metadata": {
    "collapsed": false
   },
   "outputs": [
    {
     "name": "stdout",
     "output_type": "stream",
     "text": [
      "T T H H H T H H\n",
      "T H H T T H H T\n",
      "H T T H H H H H\n",
      "H H H H T T T H\n",
      "T H H T H T H T\n",
      "H H T T T H T T\n",
      "T T H T T H H T\n",
      "H T T T H T T T\n",
      "H H T H T H H T\n",
      "T H T H T H H H\n"
     ]
    }
   ],
   "source": [
    "for i in range(10): coinflips(8)"
   ]
  },
  {
   "cell_type": "code",
   "execution_count": null,
   "metadata": {
    "collapsed": true
   },
   "outputs": [],
   "source": []
  }
 ],
 "metadata": {
  "anaconda-cloud": {},
  "kernelspec": {
   "display_name": "Python [default]",
   "language": "python",
   "name": "python2"
  },
  "language_info": {
   "codemirror_mode": {
    "name": "ipython",
    "version": 2
   },
   "file_extension": ".py",
   "mimetype": "text/x-python",
   "name": "python",
   "nbconvert_exporter": "python",
   "pygments_lexer": "ipython2",
   "version": "2.7.12"
  }
 },
 "nbformat": 4,
 "nbformat_minor": 1
}
