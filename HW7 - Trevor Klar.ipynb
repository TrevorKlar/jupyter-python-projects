{
 "cells": [
  {
   "cell_type": "markdown",
   "metadata": {},
   "source": [
    "# Math 382\n",
    "\n",
    "## Homework 7\n",
    "### Trevor Klar\n",
    "### April 18th, 2017"
   ]
  },
  {
   "cell_type": "code",
   "execution_count": 1,
   "metadata": {
    "collapsed": true
   },
   "outputs": [],
   "source": [
    "def irange(start, stop, step=1):            # This is an inclusive range function, so that I don't have to remember\n",
    "    if step == 1:                           # that range() leaves out the last value. \n",
    "        return range(start, stop+1)         #\n",
    "    elif step < 0:                          #\n",
    "        return range(start, stop-1, step)   #\n",
    "    else:                                   #\n",
    "        return range(start, stop+1, step)   #\n",
    "\n",
    "def indeces(somelist):                   #returns a list of numbers from 0 to len(somelist), so I can easily iterate\n",
    "    return range(len(somelist))          # with reference to the index of each element in the list\n",
    "\n",
    "def linapprox(xlist, ylist, x):\n",
    "    #estimates the value of a function using linear approximation, given a discreet mapping of x-values to y-values.\n",
    "    for x_n in xlist:\n",
    "        if x_n - x < 0:\n",
    "            continue\n",
    "        if x_n - x == 0:\n",
    "            #print 'match:', x, 'is in list.'\n",
    "            return ylist[xlist.index(x_n)]\n",
    "        if x_n - x > 0:\n",
    "            n = xlist.index(x_n)\n",
    "            #print 'approximation:', x, 'is between', xlist[n-1],'and', xlist[n], '.'\n",
    "            break\n",
    "    try:\n",
    "        x1, x2 = xlist[n-1], xlist[n]\n",
    "        y1, y2 = ylist[n-1], ylist[n]\n",
    "        return float((x-x1)*(y2-y1))/(x2-x1) + y1\n",
    "    except:\n",
    "        print 'ERROR: input', x, ' invalid. is it in the range ('+str(min(xlist))+','+str(max(xlist))+')?'\n",
    "\n",
    "import matplotlib.pyplot as plt          # this is the\n",
    "                                         # plot library\n",
    "    \n",
    "import numpy as np                       # not strictly necessary\n",
    "                                         # but useful\n",
    "    \n",
    "import scipy, scipy.special, scipy.stats\n",
    "    \n",
    "%matplotlib inline                       \n",
    "                                         # displays plots in the notebook\n",
    "                                         # instead of popup windows\n",
    "import math\n",
    "\n",
    "import random"
   ]
  },
  {
   "cell_type": "markdown",
   "metadata": {},
   "source": [
    "## 1) "
   ]
  },
  {
   "cell_type": "code",
   "execution_count": 2,
   "metadata": {
    "collapsed": false,
    "scrolled": false
   },
   "outputs": [
    {
     "name": "stdout",
     "output_type": "stream",
     "text": [
      "=====================================================T-TABLE=====================================================\n",
      "     C | 0.5    0.6    0.7    0.8    0.9    0.95   0.96   0.97   0.98   0.99   0.995  0.998  0.999  0.9995 0.9999\n",
      "1-tail | 0.5    0.4    0.3    0.2    0.1    0.05   0.04   0.03   0.02   0.01   0.005  0.002  0.001  0.0005 0.0001\n",
      "2-tail | 1.0    0.8    0.6    0.4    0.2    0.1    0.08   0.06   0.04   0.02   0.01   0.004  0.002  0.001  0.0002\n",
      "-----------------------------------------------------------------------------------------------------------------\n",
      "    df |\n",
      "     1 | 0.000  0.325  0.727  1.376  3.078  6.314  7.916  10.57  15.89  31.82  63.65  159.1  318.3  636.6  3183. \n",
      "     2 | 0.000  0.289  0.617  1.061  1.886  2.920  3.320  3.896  4.849  6.965  9.925  15.76  22.32  31.59  70.70 \n",
      "     3 | 0.000  0.277  0.584  0.978  1.638  2.353  2.605  2.951  3.482  4.541  5.841  8.053  10.21  12.92  22.20 \n",
      "     4 | 0.000  0.271  0.569  0.941  1.533  2.132  2.333  2.601  2.999  3.747  4.604  5.951  7.173  8.610  13.03 \n",
      "     5 | 0.000  0.267  0.559  0.920  1.476  2.015  2.191  2.422  2.757  3.365  4.032  5.030  5.893  6.869  9.678 \n",
      "     6 | 0.000  0.265  0.553  0.906  1.440  1.943  2.104  2.313  2.612  3.143  3.707  4.524  5.208  5.959  8.025 \n",
      "     7 | 0.000  0.263  0.549  0.896  1.415  1.895  2.046  2.241  2.517  2.998  3.499  4.207  4.785  5.408  7.063 \n",
      "     8 | 0.000  0.262  0.546  0.889  1.397  1.860  2.004  2.189  2.449  2.896  3.355  3.991  4.501  5.041  6.442 \n",
      "     9 | 0.000  0.261  0.543  0.883  1.383  1.833  1.973  2.150  2.398  2.821  3.250  3.835  4.297  4.781  6.010 \n",
      "    10 | 0.000  0.260  0.542  0.879  1.372  1.812  1.948  2.120  2.359  2.764  3.169  3.716  4.144  4.587  5.694 \n",
      "    11 | 0.000  0.260  0.540  0.876  1.363  1.796  1.928  2.096  2.328  2.718  3.106  3.624  4.025  4.437  5.453 \n",
      "    12 | 0.000  0.259  0.539  0.873  1.356  1.782  1.912  2.076  2.303  2.681  3.055  3.550  3.930  4.318  5.263 \n",
      "    13 | 0.000  0.259  0.538  0.870  1.350  1.771  1.899  2.060  2.282  2.650  3.012  3.489  3.852  4.221  5.111 \n",
      "    14 | 0.000  0.258  0.537  0.868  1.345  1.761  1.887  2.046  2.264  2.624  2.977  3.438  3.787  4.140  4.985 \n",
      "    15 | 0.000  0.258  0.536  0.866  1.341  1.753  1.878  2.034  2.249  2.602  2.947  3.395  3.733  4.073  4.880 \n",
      "    16 | 0.000  0.258  0.535  0.865  1.337  1.746  1.869  2.024  2.235  2.583  2.921  3.358  3.686  4.015  4.791 \n",
      "    17 | 0.000  0.257  0.534  0.863  1.333  1.740  1.862  2.015  2.224  2.567  2.898  3.326  3.646  3.965  4.714 \n",
      "    18 | 0.000  0.257  0.534  0.862  1.330  1.734  1.855  2.007  2.214  2.552  2.878  3.298  3.610  3.922  4.648 \n",
      "    19 | 0.000  0.257  0.533  0.861  1.328  1.729  1.850  2.000  2.205  2.539  2.861  3.273  3.579  3.883  4.590 \n",
      "    20 | 0.000  0.257  0.533  0.860  1.325  1.725  1.844  1.994  2.197  2.528  2.845  3.251  3.552  3.850  4.539 \n",
      "    21 | 0.000  0.257  0.532  0.859  1.323  1.721  1.840  1.988  2.189  2.518  2.831  3.231  3.527  3.819  4.493 \n",
      "    22 | 0.000  0.256  0.532  0.858  1.321  1.717  1.835  1.983  2.183  2.508  2.819  3.214  3.505  3.792  4.452 \n",
      "    23 | 0.000  0.256  0.532  0.858  1.319  1.714  1.832  1.978  2.177  2.500  2.807  3.198  3.485  3.768  4.415 \n",
      "    24 | 0.000  0.256  0.531  0.857  1.318  1.711  1.828  1.974  2.172  2.492  2.797  3.183  3.467  3.745  4.382 \n",
      "    25 | 0.000  0.256  0.531  0.856  1.316  1.708  1.825  1.970  2.167  2.485  2.787  3.170  3.450  3.725  4.352 \n",
      "    26 | 0.000  0.256  0.531  0.856  1.315  1.706  1.822  1.967  2.162  2.479  2.779  3.158  3.435  3.707  4.324 \n",
      "    27 | 0.000  0.256  0.531  0.855  1.314  1.703  1.819  1.963  2.158  2.473  2.771  3.147  3.421  3.690  4.299 \n",
      "    28 | 0.000  0.256  0.530  0.855  1.313  1.701  1.817  1.960  2.154  2.467  2.763  3.136  3.408  3.674  4.275 \n",
      "    29 | 0.000  0.256  0.530  0.854  1.311  1.699  1.814  1.957  2.150  2.462  2.756  3.127  3.396  3.659  4.254 \n",
      "    30 | 0.000  0.256  0.530  0.854  1.310  1.697  1.812  1.955  2.147  2.457  2.750  3.118  3.385  3.646  4.234 \n",
      "    31 | 0.000  0.256  0.530  0.853  1.309  1.696  1.810  1.952  2.144  2.453  2.744  3.109  3.375  3.633  4.216 \n",
      "    32 | 0.000  0.255  0.530  0.853  1.309  1.694  1.808  1.950  2.141  2.449  2.738  3.102  3.365  3.622  4.198 \n",
      "    33 | 0.000  0.255  0.530  0.853  1.308  1.692  1.806  1.948  2.138  2.445  2.733  3.094  3.356  3.611  4.182 \n",
      "    34 | 0.000  0.255  0.529  0.852  1.307  1.691  1.805  1.946  2.136  2.441  2.728  3.088  3.348  3.601  4.167 \n",
      "    35 | 0.000  0.255  0.529  0.852  1.306  1.690  1.803  1.944  2.133  2.438  2.724  3.081  3.340  3.591  4.153 \n",
      "    36 | 0.000  0.255  0.529  0.852  1.306  1.688  1.802  1.942  2.131  2.434  2.719  3.075  3.333  3.582  4.140 \n",
      "    37 | 0.000  0.255  0.529  0.851  1.305  1.687  1.800  1.940  2.129  2.431  2.715  3.070  3.326  3.574  4.127 \n",
      "    38 | 0.000  0.255  0.529  0.851  1.304  1.686  1.799  1.939  2.127  2.429  2.712  3.064  3.319  3.566  4.116 \n",
      "    39 | 0.000  0.255  0.529  0.851  1.304  1.685  1.798  1.937  2.125  2.426  2.708  3.059  3.313  3.558  4.105 \n",
      "    40 | 0.000  0.255  0.529  0.851  1.303  1.684  1.796  1.936  2.123  2.423  2.704  3.055  3.307  3.551  4.094 \n",
      "    41 | 0.000  0.255  0.529  0.850  1.303  1.683  1.795  1.934  2.121  2.421  2.701  3.050  3.301  3.544  4.084 \n",
      "    42 | 0.000  0.255  0.528  0.850  1.302  1.682  1.794  1.933  2.120  2.418  2.698  3.046  3.296  3.538  4.075 \n",
      "    43 | 0.000  0.255  0.528  0.850  1.302  1.681  1.793  1.932  2.118  2.416  2.695  3.042  3.291  3.532  4.066 \n",
      "    44 | 0.000  0.255  0.528  0.850  1.301  1.680  1.792  1.931  2.116  2.414  2.692  3.038  3.286  3.526  4.057 \n",
      "    45 | 0.000  0.255  0.528  0.850  1.301  1.679  1.791  1.929  2.115  2.412  2.690  3.034  3.281  3.520  4.049 \n",
      "    46 | 0.000  0.255  0.528  0.850  1.300  1.679  1.790  1.928  2.114  2.410  2.687  3.030  3.277  3.515  4.042 \n",
      "    47 | 0.000  0.255  0.528  0.849  1.300  1.678  1.789  1.927  2.112  2.408  2.685  3.027  3.273  3.510  4.034 \n",
      "    48 | 0.000  0.255  0.528  0.849  1.299  1.677  1.789  1.926  2.111  2.407  2.682  3.024  3.269  3.505  4.027 \n",
      "    49 | 0.000  0.255  0.528  0.849  1.299  1.677  1.788  1.925  2.110  2.405  2.680  3.021  3.265  3.500  4.020 \n",
      "    50 | 0.000  0.255  0.528  0.849  1.299  1.676  1.787  1.924  2.109  2.403  2.678  3.018  3.261  3.496  4.014 \n",
      "    51 | 0.000  0.255  0.528  0.849  1.298  1.675  1.786  1.924  2.108  2.402  2.676  3.015  3.258  3.492  4.008 \n",
      "    52 | 0.000  0.255  0.528  0.849  1.298  1.675  1.786  1.923  2.107  2.400  2.674  3.012  3.255  3.488  4.002 \n",
      "    53 | 0.000  0.255  0.528  0.848  1.298  1.674  1.785  1.922  2.106  2.399  2.672  3.009  3.251  3.484  3.996 \n",
      "    54 | 0.000  0.255  0.528  0.848  1.297  1.674  1.784  1.921  2.105  2.397  2.670  3.007  3.248  3.480  3.991 \n",
      "    55 | 0.000  0.255  0.527  0.848  1.297  1.673  1.784  1.920  2.104  2.396  2.668  3.005  3.245  3.476  3.986 \n",
      "    56 | 0.000  0.255  0.527  0.848  1.297  1.673  1.783  1.920  2.103  2.395  2.667  3.002  3.242  3.473  3.981 \n",
      "    57 | 0.000  0.255  0.527  0.848  1.297  1.672  1.782  1.919  2.102  2.394  2.665  3.000  3.239  3.470  3.976 \n",
      "    58 | 0.000  0.255  0.527  0.848  1.296  1.672  1.782  1.918  2.101  2.392  2.663  2.998  3.237  3.466  3.971 \n",
      "    59 | 0.000  0.254  0.527  0.848  1.296  1.671  1.781  1.918  2.100  2.391  2.662  2.996  3.234  3.463  3.966 \n",
      "    60 | 0.000  0.254  0.527  0.848  1.296  1.671  1.781  1.917  2.099  2.390  2.660  2.994  3.232  3.460  3.962 \n",
      "    61 | 0.000  0.254  0.527  0.848  1.296  1.670  1.780  1.916  2.099  2.389  2.659  2.992  3.229  3.457  3.958 \n",
      "    62 | 0.000  0.254  0.527  0.847  1.295  1.670  1.780  1.916  2.098  2.388  2.657  2.990  3.227  3.454  3.954 \n",
      "    63 | 0.000  0.254  0.527  0.847  1.295  1.669  1.779  1.915  2.097  2.387  2.656  2.988  3.225  3.452  3.950 \n",
      "    64 | 0.000  0.254  0.527  0.847  1.295  1.669  1.779  1.915  2.096  2.386  2.655  2.986  3.223  3.449  3.946 \n",
      "    65 | 0.000  0.254  0.527  0.847  1.295  1.669  1.778  1.914  2.096  2.385  2.654  2.984  3.220  3.447  3.942 \n",
      "    66 | 0.000  0.254  0.527  0.847  1.295  1.668  1.778  1.914  2.095  2.384  2.652  2.983  3.218  3.444  3.939 \n",
      "    67 | 0.000  0.254  0.527  0.847  1.294  1.668  1.778  1.913  2.095  2.383  2.651  2.981  3.216  3.442  3.935 \n",
      "    68 | 0.000  0.254  0.527  0.847  1.294  1.668  1.777  1.913  2.094  2.382  2.650  2.980  3.214  3.439  3.932 \n",
      "    69 | 0.000  0.254  0.527  0.847  1.294  1.667  1.777  1.912  2.093  2.382  2.649  2.978  3.213  3.437  3.929 \n",
      "    70 | 0.000  0.254  0.527  0.847  1.294  1.667  1.776  1.912  2.093  2.381  2.648  2.977  3.211  3.435  3.926 \n",
      "    71 | 0.000  0.254  0.527  0.847  1.294  1.667  1.776  1.911  2.092  2.380  2.647  2.975  3.209  3.433  3.923 \n",
      "    72 | 0.000  0.254  0.527  0.847  1.293  1.666  1.776  1.911  2.092  2.379  2.646  2.974  3.207  3.431  3.920 \n",
      "    73 | 0.000  0.254  0.527  0.847  1.293  1.666  1.775  1.910  2.091  2.379  2.645  2.972  3.206  3.429  3.917 \n",
      "    74 | 0.000  0.254  0.527  0.847  1.293  1.666  1.775  1.910  2.091  2.378  2.644  2.971  3.204  3.427  3.914 \n",
      "    75 | 0.000  0.254  0.527  0.846  1.293  1.665  1.775  1.910  2.090  2.377  2.643  2.970  3.202  3.425  3.911 \n",
      "    76 | 0.000  0.254  0.527  0.846  1.293  1.665  1.774  1.909  2.090  2.376  2.642  2.969  3.201  3.423  3.909 \n",
      "    77 | 0.000  0.254  0.527  0.846  1.293  1.665  1.774  1.909  2.089  2.376  2.641  2.967  3.199  3.421  3.906 \n",
      "    78 | 0.000  0.254  0.527  0.846  1.292  1.665  1.774  1.909  2.089  2.375  2.640  2.966  3.198  3.420  3.904 \n",
      "    79 | 0.000  0.254  0.527  0.846  1.292  1.664  1.773  1.908  2.088  2.374  2.640  2.965  3.197  3.418  3.901 \n",
      "    80 | 0.000  0.254  0.526  0.846  1.292  1.664  1.773  1.908  2.088  2.374  2.639  2.964  3.195  3.416  3.899 \n",
      "    81 | 0.000  0.254  0.526  0.846  1.292  1.664  1.773  1.908  2.087  2.373  2.638  2.963  3.194  3.415  3.896 \n",
      "    82 | 0.000  0.254  0.526  0.846  1.292  1.664  1.773  1.907  2.087  2.373  2.637  2.962  3.193  3.413  3.894 \n",
      "    83 | 0.000  0.254  0.526  0.846  1.292  1.663  1.772  1.907  2.087  2.372  2.636  2.961  3.191  3.412  3.892 \n",
      "    84 | 0.000  0.254  0.526  0.846  1.292  1.663  1.772  1.907  2.086  2.372  2.636  2.960  3.190  3.410  3.890 \n",
      "    85 | 0.000  0.254  0.526  0.846  1.292  1.663  1.772  1.906  2.086  2.371  2.635  2.959  3.189  3.409  3.888 \n",
      "    86 | 0.000  0.254  0.526  0.846  1.291  1.663  1.772  1.906  2.085  2.370  2.634  2.958  3.188  3.407  3.886 \n",
      "    87 | 0.000  0.254  0.526  0.846  1.291  1.663  1.771  1.906  2.085  2.370  2.634  2.957  3.187  3.406  3.884 \n",
      "    88 | 0.000  0.254  0.526  0.846  1.291  1.662  1.771  1.905  2.085  2.369  2.633  2.956  3.185  3.405  3.882 \n",
      "    89 | 0.000  0.254  0.526  0.846  1.291  1.662  1.771  1.905  2.084  2.369  2.632  2.955  3.184  3.403  3.880 \n",
      "    90 | 0.000  0.254  0.526  0.846  1.291  1.662  1.771  1.905  2.084  2.368  2.632  2.954  3.183  3.402  3.878 \n",
      "    91 | 0.000  0.254  0.526  0.846  1.291  1.662  1.770  1.905  2.084  2.368  2.631  2.953  3.182  3.401  3.876 \n",
      "    92 | 0.000  0.254  0.526  0.846  1.291  1.662  1.770  1.904  2.083  2.368  2.630  2.952  3.181  3.399  3.874 \n",
      "    93 | 0.000  0.254  0.526  0.846  1.291  1.661  1.770  1.904  2.083  2.367  2.630  2.952  3.180  3.398  3.873 \n",
      "    94 | 0.000  0.254  0.526  0.845  1.291  1.661  1.770  1.904  2.083  2.367  2.629  2.951  3.179  3.397  3.871 \n",
      "    95 | 0.000  0.254  0.526  0.845  1.291  1.661  1.770  1.904  2.082  2.366  2.629  2.950  3.178  3.396  3.869 \n",
      "    96 | 0.000  0.254  0.526  0.845  1.290  1.661  1.769  1.903  2.082  2.366  2.628  2.949  3.177  3.395  3.868 \n",
      "    97 | 0.000  0.254  0.526  0.845  1.290  1.661  1.769  1.903  2.082  2.365  2.627  2.949  3.176  3.394  3.866 \n",
      "    98 | 0.000  0.254  0.526  0.845  1.290  1.661  1.769  1.903  2.081  2.365  2.627  2.948  3.175  3.393  3.865 \n",
      "    99 | 0.000  0.254  0.526  0.845  1.290  1.660  1.769  1.903  2.081  2.365  2.626  2.947  3.175  3.392  3.863 \n",
      "   100 | 0.000  0.254  0.526  0.845  1.290  1.660  1.769  1.902  2.081  2.364  2.626  2.946  3.174  3.390  3.862 \n"
     ]
    }
   ],
   "source": [
    "#list of row and column labels, with degrees of freedom and confidence levels, respectively.\n",
    "C = [0.5, 0.6, 0.7, 0.8, 0.9, 0.95, 0.96, 0.97, 0.98, 0.99, 0.995, 0.998, 0.999, 0.9995, 0.9999]\n",
    "df = irange(1,100)\n",
    "width = 113\n",
    "\n",
    "#table title\n",
    "print '='*((width-7)/2)+\"T-TABLE\"+'='*((width-7)/2)\n",
    "\n",
    "#1st row of column headers\n",
    "print \"     C \"+'|',\n",
    "for col in C:\n",
    "    value = str(col)\n",
    "    print value+\" \"*(6-len(value)),\n",
    "print\n",
    "\n",
    "#2nd row of column headers\n",
    "print \"1-tail \"+'|',\n",
    "for col in C:\n",
    "    value = str(1-col)\n",
    "    print value+\" \"*(6-len(value)),\n",
    "print\n",
    "\n",
    "#3rd row of column headers\n",
    "print \"2-tail \"+'|',\n",
    "for col in C:\n",
    "    value = str(2*(1-col))\n",
    "    print value+\" \"*(6-len(value)),\n",
    "print\n",
    "\n",
    "#column header separator\n",
    "print \"-\"*width\n",
    "\n",
    "#row containing 'df' label\n",
    "print \" \"*(6-len(str('df')))+'df '+'|'\n",
    "\n",
    "#the actual body of the table\n",
    "for row in df:\n",
    "    for col in C:\n",
    "        if col == .5: #inserts the appropriate df row label before the start of the first row\n",
    "            print \" \"*(6-len(str(row)))+str(row)+' |',\n",
    "        value = str(round(-scipy.stats.t.isf(col,row),3)) #determines and formats the entry\n",
    "        if len(value) > 5: value=value[:5]\n",
    "        if len(value) < 5: value=value+'0'*(5-len(value))\n",
    "        print value+\" \"*(6-len(value)), #prints the entry\n",
    "    print"
   ]
  },
  {
   "cell_type": "markdown",
   "metadata": {},
   "source": [
    "## 2)"
   ]
  },
  {
   "cell_type": "code",
   "execution_count": 3,
   "metadata": {
    "collapsed": true
   },
   "outputs": [],
   "source": [
    "#This is my made-up probability density function, modeling the probability of one of my geometry students earning \n",
    "# a grade of 'x' on an arbitrary test. \n",
    "#\n",
    "#See the figures below for an illustion of this PDF and its correspoding CDF and PPF functions, as well as a\n",
    "# histogram of 10,000 random values (to show that the PDF works as intended).\n",
    "#\n",
    "#PDF\n",
    "def testspdf(x):\n",
    "    return (scipy.stats.norm(.35,.09).pdf(x)+scipy.stats.norm(.80,.06).pdf(x))/2\n",
    "#CDF\n",
    "def testscdf(x):\n",
    "    return scipy.integrate.quad(testspdf, -float('inf'), x)[0]"
   ]
  },
  {
   "cell_type": "code",
   "execution_count": 4,
   "metadata": {
    "collapsed": true
   },
   "outputs": [],
   "source": [
    "#takes 20-30 seconds to compute on my machine.\n",
    "#these are the lists of values representing the mapping for my testsppf() function. \n",
    "testsppf_y=np.linspace(0,1.0,100)\n",
    "testsppf_x=[testscdf(i) for i in testsppf_y]"
   ]
  },
  {
   "cell_type": "code",
   "execution_count": 5,
   "metadata": {
    "collapsed": false
   },
   "outputs": [],
   "source": [
    "# uses my linear approximation function, at the top of this worksheet.\n",
    "#PPF\n",
    "def testsppf(x):\n",
    "    return linapprox(testsppf_x,testsppf_y,x)"
   ]
  },
  {
   "cell_type": "code",
   "execution_count": 6,
   "metadata": {
    "collapsed": true
   },
   "outputs": [],
   "source": [
    "#takes a random sample of size 'n' from the distibution testspdf().\n",
    "def sample_test_scores(n):\n",
    "    a = testsppf_x[0]     #technically, testscdf() is defined for all real numbers, so testscdf(0)!=0, and\n",
    "    b = testsppf_x[-1]    # testscdf(1)!=1. In order to generate random numbers that very nearly follow \n",
    "    random_test_scores=[] # the distribution and make sense, i'm only generating random numbers on the interval\n",
    "    for i in range(n):    # (testscdf(0), testscdf(1)).\n",
    "        random_test_scores.append(testsppf(random.uniform(a,b)))\n",
    "    return random_test_scores"
   ]
  },
  {
   "cell_type": "code",
   "execution_count": 7,
   "metadata": {
    "collapsed": false
   },
   "outputs": [
    {
     "data": {
      "image/png": "[encoded data removed]",
      "text/plain": [
       "<matplotlib.figure.Figure at 0x7f23760ee110>"
      ]
     },
     "metadata": {},
     "output_type": "display_data"
    }
   ],
   "source": [
    "#Plots of the functions defined above\n",
    "\n",
    "fig,((ax1,ax2),(ax3,ax4))=plt.subplots(nrows=2,ncols=2)\n",
    "x=np.linspace(0,1,200)\n",
    "ax1.plot(x,testspdf(x))\n",
    "#plt.xticks(np.linspace(0,1,11))\n",
    "plt.xlim(0,1)\n",
    "ax1.annotate(s='PDF', xy=(0.4,3));\n",
    "\n",
    "ax2.plot(testsppf_y,testsppf_x)\n",
    "#plt.xticks(np.linspace(0,1,11))\n",
    "plt.xlim(0,1)\n",
    "ax2.annotate(s='CDF', xy=(0.4,.85));\n",
    "\n",
    "ax3.plot(testsppf_x,testsppf_y)\n",
    "#plt.xticks(np.linspace(0,1,11))\n",
    "plt.xlim(0,1)\n",
    "ax3.annotate(s='PPF', xy=(0.4,.85));\n",
    "\n",
    "large_sample = sample_test_scores(10000)\n",
    "binwidth=.02\n",
    "ax4.hist(large_sample, bins=np.arange(0, 1 + binwidth, binwidth));"
   ]
  },
  {
   "cell_type": "code",
   "execution_count": 10,
   "metadata": {
    "collapsed": false
   },
   "outputs": [
    {
     "name": "stdout",
     "output_type": "stream",
     "text": [
      "mean=\t\t0.574782630693\n",
      "variance=\t0.0564243590063\n",
      "stdev=\t\t0.237538121164\n"
     ]
    }
   ],
   "source": [
    "# Simulates an 'experiment' consisting of 'number_of_samples' samples of size 'sample_size'.\n",
    "# Return a list of lists, containing the data from those samples. \n",
    "def experiment_test_scores(sample_size, number_of_samples=1000):\n",
    "    experiment=[]\n",
    "    for i in range(number_of_samples):\n",
    "        experiment.append(sample_test_scores(sample_size))\n",
    "    return experiment\n",
    "\n",
    "# Calculates the standard error of the mean of the above set of samples. \n",
    "def experimental_standard_error(n):\n",
    "    means = np.mean(experiment_test_scores(n), axis=1)\n",
    "    return np.std(means)\n",
    "\n",
    "# the list of sample sizes that we will plot against their standard errors. \n",
    "samplesize_x=irange(5,25,5)+[50,100]\n",
    "# a list of standard errors which correspond to the sample sizes above.\n",
    "samplesize_y=[experimental_standard_error(n) for n in samplesize_x]\n",
    "\n",
    "#to plot the smooth curve, i needed the population standard deviation, so i calculate it here:\n",
    "#mean\n",
    "def function(x): return x*testspdf(x)\n",
    "mean=scipy.integrate.quad(function,0,1)[0]\n",
    "print 'mean=\\t\\t',mean\n",
    "#variance\n",
    "def function(x): return (x-mean)**2*testspdf(x)\n",
    "variance=scipy.integrate.quad(function,0,1)[0]\n",
    "print 'variance=\\t',variance\n",
    "#standard deviation\n",
    "pdf_std=np.sqrt(variance)\n",
    "print 'stdev=\\t\\t',pdf_std"
   ]
  },
  {
   "cell_type": "code",
   "execution_count": 9,
   "metadata": {
    "collapsed": false
   },
   "outputs": [
    {
     "data": {
      "image/png": "[encoded data removed]",
      "text/plain": [
       "<matplotlib.figure.Figure at 0x7f2376146a90>"
      ]
     },
     "metadata": {},
     "output_type": "display_data"
    }
   ],
   "source": [
    "#pdf_std = np.std([testspdf(i) for i in np.linspace(0,1.0,100)])\n",
    "#plots everything on the same figure.\n",
    "\n",
    "#smooth curve\n",
    "x=np.linspace(3,120,100)\n",
    "y=[pdf_std/np.sqrt(i) for i in x]\n",
    "plt.plot(x,y)\n",
    "#dots from experimental standard errors\n",
    "plt.scatter(samplesize_x,samplesize_y)\n",
    "plt.xlim(0,120);\n",
    "plt.ylim(0,.14);"
   ]
  }
 ],
 "metadata": {
  "anaconda-cloud": {},
  "kernelspec": {
   "display_name": "Python [default]",
   "language": "python",
   "name": "python2"
  },
  "language_info": {
   "codemirror_mode": {
    "name": "ipython",
    "version": 2
   },
   "file_extension": ".py",
   "mimetype": "text/x-python",
   "name": "python",
   "nbconvert_exporter": "python",
   "pygments_lexer": "ipython2",
   "version": "2.7.12"
  }
 },
 "nbformat": 4,
 "nbformat_minor": 1
}
