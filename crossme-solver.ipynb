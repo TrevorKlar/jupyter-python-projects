{
 "cells": [
  {
   "cell_type": "code",
   "execution_count": 20,
   "metadata": {
    "collapsed": true
   },
   "outputs": [],
   "source": [
    "def irange(start, stop, step=1):            # This is an inclusive range function, so that I don't have to remember\n",
    "    if step == 1:                           # that range() leaves out the last value. \n",
    "        return range(start, stop+1)         #\n",
    "    elif step < 0:                          #\n",
    "        return range(start, stop-1, step)   #\n",
    "    else:                                   #\n",
    "        return range(start, stop+1, step)   #\n",
    "\n",
    "def indeces(somelist):              #returns a list of numbers from 0 to len(somelist), so I can easily iterate with\n",
    "    return range(len(somelist))     #  reference to the index of each element in the list\n",
    "\n",
    "def numlen(somenumber):\n",
    "    return len(str(somenumber))     #returns the number of characters in a number, for formatting purposes\n",
    "\n",
    "def nicestring(stringinput):\n",
    "    stringinput=stringinput.lower() #puts the string in all lowercase\n",
    "    stringinput=stringinput.strip() #removes whitespace from the string\n",
    "    stringinput=stringinput.translate(None, string.punctuation) #removes all punctuation from the string\n",
    "    return stringinput\n",
    "\n",
    "import matplotlib.pyplot as plt          # this is the\n",
    "                                         # plot library\n",
    "    \n",
    "import numpy as np                       # not strictly necessary\n",
    "                                         # but useful\n",
    "    \n",
    "from IPython.display import Latex\n",
    "    \n",
    "#import scipy, scipy.special, scipy.stats\n",
    "    \n",
    "#%matplotlib inline                       \n",
    "                                         # displays plots in the notebook\n",
    "                                         # instead of popup windows\n",
    "import math"
   ]
  },
  {
   "cell_type": "code",
   "execution_count": 21,
   "metadata": {
    "collapsed": true
   },
   "outputs": [],
   "source": [
    "#Program-specific function definitions\n",
    "\n",
    "def count_row_fills(current): #takes in a row and returns the lengths of filled in sections.\n",
    "    count=[0]\n",
    "    for i in range(width):\n",
    "        if grid[current][i] == 1: count[-1]+=1\n",
    "        elif count[-1]==0: continue\n",
    "        else: count.append(0)\n",
    "    if count[-1]==0: del count[-1]\n",
    "    return count\n",
    "\n",
    "def count_col_fills(current): #takes in a column and returns the lengths of filled in sections.\n",
    "    count=[0]\n",
    "    for i in range(height):\n",
    "        if grid[i][current] == 1: count[-1]+=1\n",
    "        elif count[-1]==0: continue\n",
    "        else: count.append(0)\n",
    "    if count[-1]==0: del count[-1]\n",
    "    return count\n",
    "\n",
    "def render(a): #takes in an array and renders it in easy to read way\n",
    "    result=np.empty_like(a, dtype=\"string\")\n",
    "    for i in indeces(a):\n",
    "        for j in indeces(a[i]):\n",
    "            if a[i][j]==1: print(chr(219)),\n",
    "            elif a[i][j]==-1: print(\"X\"),\n",
    "            else: print(\"_\"),\n",
    "        print"
   ]
  },
  {
   "cell_type": "code",
   "execution_count": 62,
   "metadata": {
    "collapsed": false
   },
   "outputs": [
    {
     "name": "stdout",
     "output_type": "stream",
     "text": [
      "Enter width: 5\n",
      "Enter height: 5\n",
      "5 x 5\n"
     ]
    }
   ],
   "source": [
    "#enter width x height\n",
    "width = int(raw_input(\"Enter width: \"))\n",
    "height = int(raw_input(\"Enter height: \"))\n",
    "\n",
    "print str(width)+\" x \"+str(height)"
   ]
  },
  {
   "cell_type": "code",
   "execution_count": 70,
   "metadata": {
    "collapsed": false
   },
   "outputs": [
    {
     "name": "stdout",
     "output_type": "stream",
     "text": [
      "row 0: 5\n",
      "row 1: 2,2\n",
      "row 2: 0\n",
      "row 3: 0\n",
      "row 4: 0\n",
      "\n",
      "col 0: 2\n",
      "col 1: 2\n",
      "col 2: 1\n",
      "col 3: 2\n",
      "col 4: 2\n"
     ]
    }
   ],
   "source": [
    "#enter rows, cols\n",
    "row=[] \n",
    "col=[]\n",
    "\n",
    "for i in range(height):\n",
    "    response=raw_input(\"row \"+str(i)+\": \")\n",
    "    if True: #\",\" in response:\n",
    "        buildlist=[]\n",
    "        for char in response:\n",
    "            if char <> \",\" and char <> \" \": buildlist.append(int(char))\n",
    "        response=buildlist\n",
    "    #else final_response=int(response)\n",
    "    row.append(response)\n",
    "#print row\n",
    "print \n",
    "\n",
    "for i in range(width):\n",
    "    response=raw_input(\"col \"+str(i)+\": \")\n",
    "    if True: #\",\" in response:\n",
    "        buildlist=[]\n",
    "        for char in response:\n",
    "            if char <> \",\" and char <> \" \": buildlist.append(int(char))\n",
    "        response=buildlist\n",
    "    #else final_response=int(response)\n",
    "    col.append(response)\n",
    "#print \"\\t\", col\n",
    "#for i in row: print row[i]\n"
   ]
  },
  {
   "cell_type": "code",
   "execution_count": 71,
   "metadata": {
    "collapsed": true
   },
   "outputs": [],
   "source": [
    "#Initialize grid\n",
    "grid=np.zeros((height,width,), dtype=int)"
   ]
  },
  {
   "cell_type": "code",
   "execution_count": 72,
   "metadata": {
    "collapsed": false
   },
   "outputs": [],
   "source": [
    "#Fill all 50% rows/cols\n",
    "#Rows\n",
    "for current in range(height):\n",
    "    if width/2 < max(row[current]):\n",
    "        gap=(width-max(row[current]))\n",
    "        length=(width)-2*gap\n",
    "        for i in range(gap,gap+length):\n",
    "            if grid[current][i] == 0: grid[current][i]+=1\n",
    "            #print current, i\n",
    "#Cols\n",
    "for current in range(width):\n",
    "    if height/2 < max(col[current]):\n",
    "        gap=(height-max(col[current]))\n",
    "        length=(height)-2*gap\n",
    "        for i in range(gap,gap+length):\n",
    "            if grid[i][current] == 0: grid[i][current]+=1\n",
    "            #print current, i\n",
    "            \n",
    "#render(grid)"
   ]
  },
  {
   "cell_type": "code",
   "execution_count": 73,
   "metadata": {
    "collapsed": false
   },
   "outputs": [
    {
     "name": "stdout",
     "output_type": "stream",
     "text": [
      "� � � � �\n",
      "_ _ X _ _\n",
      "_ _ X _ _\n",
      "_ _ X _ _\n",
      "_ _ X _ _\n"
     ]
    }
   ],
   "source": [
    "#Check all satisfied rows/cols, X remaining\n",
    "for i in range(height):\n",
    "    if row[i] == count_row_fills(i):\n",
    "        for j in range(width):\n",
    "            if grid[i][j]==0: grid[i][j]-=1\n",
    "    \n",
    "for j in range(width):\n",
    "    if col[j] == count_col_fills(j):\n",
    "        for i in range(height):\n",
    "            if grid[i][j]==0: grid[i][j]-=1\n",
    "                \n",
    "render(grid)"
   ]
  },
  {
   "cell_type": "code",
   "execution_count": 79,
   "metadata": {
    "collapsed": false
   },
   "outputs": [
    {
     "name": "stdout",
     "output_type": "stream",
     "text": [
      "� � � � �\n",
      "� � X X �\n",
      "_ _ X _ _\n",
      "_ _ X _ _\n",
      "_ _ X _ _\n"
     ]
    }
   ],
   "source": [
    "grid[1][4]+=0\n",
    "render(grid)"
   ]
  },
  {
   "cell_type": "code",
   "execution_count": 78,
   "metadata": {
    "collapsed": false
   },
   "outputs": [
    {
     "ename": "IndexError",
     "evalue": "index 5 is out of bounds for axis 0 with size 5",
     "output_type": "error",
     "traceback": [
      "\u001b[0;31m---------------------------------------------------------------------------\u001b[0m",
      "\u001b[0;31mIndexError\u001b[0m                                Traceback (most recent call last)",
      "\u001b[0;32m<ipython-input-78-69da84169b91>\u001b[0m in \u001b[0;36m<module>\u001b[0;34m()\u001b[0m\n\u001b[1;32m      8\u001b[0m         \u001b[0;32mif\u001b[0m \u001b[0mgrid\u001b[0m\u001b[0;34m[\u001b[0m\u001b[0mi\u001b[0m\u001b[0;34m]\u001b[0m\u001b[0;34m[\u001b[0m\u001b[0mj\u001b[0m\u001b[0;34m]\u001b[0m\u001b[0;34m==\u001b[0m\u001b[0;36m1\u001b[0m \u001b[0;32mand\u001b[0m \u001b[0;34m(\u001b[0m\u001b[0mgrid\u001b[0m\u001b[0;34m[\u001b[0m\u001b[0mi\u001b[0m\u001b[0;34m]\u001b[0m\u001b[0;34m[\u001b[0m\u001b[0mj\u001b[0m\u001b[0;34m-\u001b[0m\u001b[0;36m1\u001b[0m\u001b[0;34m]\u001b[0m\u001b[0;34m==\u001b[0m\u001b[0;34m-\u001b[0m\u001b[0;36m1\u001b[0m \u001b[0;32mor\u001b[0m \u001b[0mj\u001b[0m\u001b[0;34m==\u001b[0m\u001b[0;36m0\u001b[0m\u001b[0;34m)\u001b[0m\u001b[0;34m:\u001b[0m \u001b[0;31m#check for lower bound\u001b[0m\u001b[0;34m\u001b[0m\u001b[0m\n\u001b[1;32m      9\u001b[0m             \u001b[0;32mfor\u001b[0m \u001b[0mfill\u001b[0m \u001b[0;32min\u001b[0m \u001b[0mrange\u001b[0m\u001b[0;34m(\u001b[0m\u001b[0mj\u001b[0m\u001b[0;34m,\u001b[0m\u001b[0mj\u001b[0m\u001b[0;34m+\u001b[0m\u001b[0mrow\u001b[0m\u001b[0;34m[\u001b[0m\u001b[0mi\u001b[0m\u001b[0;34m]\u001b[0m\u001b[0;34m[\u001b[0m\u001b[0;36m0\u001b[0m\u001b[0;34m]\u001b[0m\u001b[0;34m)\u001b[0m\u001b[0;34m:\u001b[0m \u001b[0;31m#fill in\u001b[0m\u001b[0;34m\u001b[0m\u001b[0m\n\u001b[0;32m---> 10\u001b[0;31m                 \u001b[0;32mif\u001b[0m \u001b[0mgrid\u001b[0m\u001b[0;34m[\u001b[0m\u001b[0mi\u001b[0m\u001b[0;34m]\u001b[0m\u001b[0;34m[\u001b[0m\u001b[0mfill\u001b[0m\u001b[0;34m]\u001b[0m\u001b[0;34m==\u001b[0m\u001b[0;36m0\u001b[0m\u001b[0;34m:\u001b[0m \u001b[0mgrid\u001b[0m\u001b[0;34m[\u001b[0m\u001b[0mi\u001b[0m\u001b[0;34m]\u001b[0m\u001b[0;34m[\u001b[0m\u001b[0mfill\u001b[0m\u001b[0;34m]\u001b[0m\u001b[0;34m+=\u001b[0m\u001b[0;36m1\u001b[0m\u001b[0;34m\u001b[0m\u001b[0m\n\u001b[0m\u001b[1;32m     11\u001b[0m                 \u001b[0;32melif\u001b[0m \u001b[0mgrid\u001b[0m\u001b[0;34m[\u001b[0m\u001b[0mi\u001b[0m\u001b[0;34m]\u001b[0m\u001b[0;34m[\u001b[0m\u001b[0mfill\u001b[0m\u001b[0;34m]\u001b[0m\u001b[0;34m==\u001b[0m\u001b[0;34m-\u001b[0m\u001b[0;36m1\u001b[0m\u001b[0;34m:\u001b[0m \u001b[0;32mprint\u001b[0m \u001b[0;34m\"ERROR: Cannot fill row \"\u001b[0m\u001b[0;34m+\u001b[0m\u001b[0mstr\u001b[0m\u001b[0;34m(\u001b[0m\u001b[0mi\u001b[0m\u001b[0;34m)\u001b[0m\u001b[0;34m+\u001b[0m\u001b[0;34m\", col \"\u001b[0m\u001b[0;34m+\u001b[0m\u001b[0mstr\u001b[0m\u001b[0;34m(\u001b[0m\u001b[0mfill\u001b[0m\u001b[0;34m)\u001b[0m\u001b[0;34m;\u001b[0m \u001b[0;32mbreak\u001b[0m\u001b[0;34m\u001b[0m\u001b[0m\n\u001b[1;32m     12\u001b[0m             \u001b[0;32mif\u001b[0m \u001b[0;34m(\u001b[0m\u001b[0mj\u001b[0m\u001b[0;34m+\u001b[0m\u001b[0mrow\u001b[0m\u001b[0;34m[\u001b[0m\u001b[0mi\u001b[0m\u001b[0;34m]\u001b[0m\u001b[0;34m[\u001b[0m\u001b[0;36m0\u001b[0m\u001b[0;34m]\u001b[0m\u001b[0;34m+\u001b[0m\u001b[0;36m1\u001b[0m\u001b[0;34m)\u001b[0m\u001b[0;34m<=\u001b[0m\u001b[0;34m(\u001b[0m\u001b[0mwidth\u001b[0m\u001b[0;34m-\u001b[0m\u001b[0;36m1\u001b[0m\u001b[0;34m)\u001b[0m\u001b[0;34m:\u001b[0m \u001b[0;31m# X upper bound\u001b[0m\u001b[0;34m\u001b[0m\u001b[0m\n",
      "\u001b[0;31mIndexError\u001b[0m: index 5 is out of bounds for axis 0 with size 5"
     ]
    }
   ],
   "source": [
    "#Check all half-closed intervals, complete and X surrounding\n",
    "\n",
    "#Rows\n",
    "for i in range(height):\n",
    "    if row[i] == count_row_fills(i): #skip satisfied rows\n",
    "        continue\n",
    "    for j in range(width): #iterate over each row\n",
    "        if grid[i][j]==1 and (grid[i][j-1]==-1 or j==0): #check for lower bound\n",
    "            for fill in range(j,j+row[i][0]): #fill in \n",
    "                if grid[i][fill]==0: grid[i][fill]+=1\n",
    "                elif grid[i][fill]==-1: print \"ERROR: Cannot fill row \"+str(i)+\", col \"+str(fill); break\n",
    "            if (j+row[i][0]+1)<=(width-1): # X upper bound\n",
    "                if grid[i][j+row[i][0]+1]==0: grid[i][j+row[i][0]+1]-=1\n",
    "                elif grid[i][j+row[i][0]+1]==1: print \"ERROR: row \"+str(i)+\", col \"+str(j+row[i][0]+1)+\" is already filled\";break\n",
    "        if grid[i][j]==1 and (j+1==width or grid[i][j+1]==-1): #check for upper bound\n",
    "            for fill in range(j,j-row[i][0],-1): #fill in \n",
    "                if grid[i][fill]==0: grid[i][fill]+=1\n",
    "                elif grid[i][fill]==-1: print \"ERROR: Cannot fill row \"+str(i)+\", col \"+str(fill); break\n",
    "            if (j-row[i][0])>=0: # X lower bound\n",
    "                if grid[i][j-row[i][0]]==0: grid[i][j-row[i][0]]-=1\n",
    "                elif grid[i][j-row[i][0]]==1: print \"ERROR: row \"+str(i)+\", col \"+str(j-row[i][0])+\" is already filled\",; print \"DEBUG: \", j, row[i][0]; break\n",
    "render(grid)            "
   ]
  },
  {
   "cell_type": "code",
   "execution_count": 18,
   "metadata": {
    "collapsed": false
   },
   "outputs": [
    {
     "name": "stdout",
     "output_type": "stream",
     "text": [
      "5\n"
     ]
    }
   ],
   "source": [
    "print row[1][0]"
   ]
  },
  {
   "cell_type": "code",
   "execution_count": null,
   "metadata": {
    "collapsed": true
   },
   "outputs": [],
   "source": []
  }
 ],
 "metadata": {
  "anaconda-cloud": {},
  "kernelspec": {
   "display_name": "Python [default]",
   "language": "python",
   "name": "python2"
  },
  "language_info": {
   "codemirror_mode": {
    "name": "ipython",
    "version": 2
   },
   "file_extension": ".py",
   "mimetype": "text/x-python",
   "name": "python",
   "nbconvert_exporter": "python",
   "pygments_lexer": "ipython2",
   "version": "2.7.12"
  }
 },
 "nbformat": 4,
 "nbformat_minor": 1
}
