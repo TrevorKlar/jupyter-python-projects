{
 "cells": [
  {
   "cell_type": "code",
   "execution_count": null,
   "metadata": {
    "collapsed": false
   },
   "outputs": [],
   "source": [
    "ones = ['one', 'two', 'three', 'four', 'five', 'six', 'seven', 'eight', 'nine']\n",
    "teens = ['eleven', 'twelve', 'thirteen', 'fourteen', 'fifteen', 'sixteen', 'seventeen', 'eighteen', 'nineteen']\n",
    "tens = ['', 'twenty', 'thirty']\n",
    "\n",
    "def lettercount(n):\n",
    "    n/1000\n",
    "    \n",
    "    #print number of thousands\n",
    "    \n",
    "    n/100\n",
    "    \n",
    "    #print number ofg hundreds \n",
    "    \n",
    "    n/20 \n",
    "    \n",
    "    #print teens\n",
    "    \n",
    "    #print ones"
   ]
  },
  {
   "cell_type": "code",
   "execution_count": 6,
   "metadata": {
    "collapsed": true
   },
   "outputs": [],
   "source": [
    "def irange(start, stop, step=1):            # This is an inclusive range function, so that I don't have to remember\n",
    "    if step == 1:                           # that range() leaves out the last value. \n",
    "        return range(start, stop+1)         #\n",
    "    elif step < 0:                          #\n",
    "        return range(start, stop-1, step)   #\n",
    "    else:                                   #\n",
    "        return range(start, stop+1, step)   #\n",
    "\n",
    "def numword(n):\n",
    "    if n>=10000: return \"error: n > 9999\"\n",
    "    elif n>=1000: return numword(n/1000)+'thousand'+numword(n%1000)\n",
    "    elif n>=100: \n",
    "        if n%100 == 0: return numword(n/100)+'hundred'+numword(n%100)\n",
    "        else: return numword(n/100)+'hundred'+'and'+numword(n%100)\n",
    "    elif n>=20: \n",
    "        tens=['', '', 'twenty', 'thirty', 'forty', 'fifty', 'sixty', 'seventy', 'eighty', 'ninety']\n",
    "        return tens[n/10]+numword(n%10)\n",
    "    elif 1<=n<=19: \n",
    "        ones=['', 'one', 'two', 'three', 'four', 'five', 'six', 'seven', 'eight', 'nine', 'ten', 'eleven', 'twelve', 'thirteen', 'fourteen', 'fifteen', 'sixteen', 'seventeen', 'eighteen', 'nineteen']\n",
    "        return ones[n]\n",
    "    elif n==0:\n",
    "        return \"\"\n",
    "    else: return \"error: unknown\"\n",
    "    \n",
    "def countword(n):\n",
    "    if n>=10000: return \"error: n > 9999\"\n",
    "    elif n>=1000: return countword(n/1000)+8+countword(n%1000)\n",
    "    elif n>=100: \n",
    "        if n%100 == 0: return countword(n/100)+7+countword(n%100)\n",
    "        else: return countword(n/100)+7+3+countword(n%100)\n",
    "    elif n>=20: \n",
    "        tens=[0, 0, 6, 6, 5, 5, 5, 7, 6, 6]\n",
    "        return tens[n/10]+countword(n%10)\n",
    "    elif 1<=n<=19: \n",
    "        ones=[0, 3, 3, 5, 4, 4, 3, 5, 5, 4, 3, 6, 6, 8, 8, 7, 7, 9, 8, 8]\n",
    "        return ones[n]\n",
    "    elif n==0:\n",
    "        return 0\n",
    "    else: return \"error: unknown\"\n",
    "\n",
    "    "
   ]
  },
  {
   "cell_type": "code",
   "execution_count": 7,
   "metadata": {
    "collapsed": false
   },
   "outputs": [
    {
     "name": "stdout",
     "output_type": "stream",
     "text": [
      "21124\n"
     ]
    }
   ],
   "source": [
    "answer = 0\n",
    "for i in irange(1, 1000): answer += countword(i)\n",
    "print answer"
   ]
  },
  {
   "cell_type": "code",
   "execution_count": null,
   "metadata": {
    "collapsed": true
   },
   "outputs": [],
   "source": []
  }
 ],
 "metadata": {
  "anaconda-cloud": {},
  "kernelspec": {
   "display_name": "Python [default]",
   "language": "python",
   "name": "python2"
  },
  "language_info": {
   "codemirror_mode": {
    "name": "ipython",
    "version": 2
   },
   "file_extension": ".py",
   "mimetype": "text/x-python",
   "name": "python",
   "nbconvert_exporter": "python",
   "pygments_lexer": "ipython2",
   "version": "2.7.12"
  }
 },
 "nbformat": 4,
 "nbformat_minor": 1
}
