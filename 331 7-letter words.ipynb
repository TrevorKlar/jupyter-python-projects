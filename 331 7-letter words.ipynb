{
 "cells": [
  {
   "cell_type": "code",
   "execution_count": 2,
   "metadata": {
    "collapsed": true
   },
   "outputs": [],
   "source": [
    "def irange(start, stop, step=1):            # This is an inclusive range function, so that I don't have to remember\n",
    "    if step == 1:                           # that range() leaves out the last value. \n",
    "        return range(start, stop+1)         #\n",
    "    elif step < 0:                          #\n",
    "        return range(start, stop-1, step)   #\n",
    "    else:                                   #\n",
    "        return range(start, stop+1, step)   #\n",
    "\n",
    "def indeces(somelist):              #returns a list of numbers from 0 to len(somelist), so I can easily iterate with\n",
    "    return range(len(somelist))     #  reference to the index of each element in the list\n",
    "\n",
    "def numlen(somenumber):\n",
    "    return len(str(somenumber))     #returns the number of characters in a number, for formatting purposes\n",
    "\n",
    "def nicestring(stringinput):\n",
    "    stringinput=stringinput.lower() #puts the string in all lowercase\n",
    "    stringinput=stringinput.strip() #removes whitespace from the string\n",
    "    stringinput=stringinput.translate(None, string.punctuation) #removes all punctuation from the string\n",
    "    return stringinput\n",
    "\n",
    "import matplotlib.pyplot as plt          # this is the\n",
    "                                         # plot library\n",
    "    \n",
    "import numpy as np                       # not strictly necessary\n",
    "                                         # but useful\n",
    "    \n",
    "from IPython.display import Latex\n",
    "    \n",
    "import scipy, scipy.special, scipy.stats\n",
    "    \n",
    "%matplotlib inline                       \n",
    "                                         # displays plots in the notebook\n",
    "                                         # instead of popup windows\n",
    "import math\n",
    "\n",
    "import random"
   ]
  },
  {
   "cell_type": "code",
   "execution_count": 59,
   "metadata": {
    "collapsed": false
   },
   "outputs": [],
   "source": [
    "def word(n):\n",
    "    word=str(bin(n))[2:]\n",
    "    if len(word) <= 7: word=(7-len(word))*'0'+word\n",
    "    #print word\n",
    "    for i in indeces(word):\n",
    "        #print 'STEP '+str(i)\n",
    "        #print indeces(word)\n",
    "        if i == 6: end=\"\"\n",
    "        if i < 6: end=word[min(6,i+1):]\n",
    "        if word[i] == '0': word=word[0:max(i,0)]+\"a\"+end\n",
    "        if word[i] == '1': word=word[0:max(i,0)]+\"b\"+end\n",
    "        #print word\n",
    "    #print word\n",
    "    return word"
   ]
  },
  {
   "cell_type": "code",
   "execution_count": 61,
   "metadata": {
    "collapsed": false
   },
   "outputs": [
    {
     "data": {
      "text/plain": [
       "'aababab'"
      ]
     },
     "execution_count": 61,
     "metadata": {},
     "output_type": "execute_result"
    }
   ],
   "source": [
    "word(21)"
   ]
  },
  {
   "cell_type": "code",
   "execution_count": 66,
   "metadata": {
    "collapsed": false
   },
   "outputs": [
    {
     "name": "stdout",
     "output_type": "stream",
     "text": [
      "aaaaaaa abaaaaa baaaaaa bbaaaaa\n",
      "aaaaaab abaaaab baaaaab bbaaaab\n",
      "aaaaaba abaaaba baaaaba bbaaaba\n",
      "aaaaabb abaaabb baaaabb bbaaabb\n",
      "aaaabaa abaabaa baaabaa bbaabaa\n",
      "aaaabab abaabab baaabab bbaabab\n",
      "aaaabba abaabba baaabba bbaabba\n",
      "aaaabbb abaabbb baaabbb bbaabbb\n",
      "aaabaaa ababaaa baabaaa bbabaaa\n",
      "aaabaab ababaab baabaab bbabaab\n",
      "aaababa abababa baababa bbababa\n",
      "aaababb abababb baababb bbababb\n",
      "aaabbaa ababbaa baabbaa bbabbaa\n",
      "aaabbab ababbab baabbab bbabbab\n",
      "aaabbba ababbba baabbba bbabbba\n",
      "aaabbbb ababbbb baabbbb bbabbbb\n",
      "aabaaaa abbaaaa babaaaa bbbaaaa\n",
      "aabaaab abbaaab babaaab bbbaaab\n",
      "aabaaba abbaaba babaaba bbbaaba\n",
      "aabaabb abbaabb babaabb bbbaabb\n",
      "aababaa abbabaa bababaa bbbabaa\n",
      "aababab abbabab bababab bbbabab\n",
      "aababba abbabba bababba bbbabba\n",
      "aababbb abbabbb bababbb bbbabbb\n",
      "aabbaaa abbbaaa babbaaa bbbbaaa\n",
      "aabbaab abbbaab babbaab bbbbaab\n",
      "aabbaba abbbaba babbaba bbbbaba\n",
      "aabbabb abbbabb babbabb bbbbabb\n",
      "aabbbaa abbbbaa babbbaa bbbbbaa\n",
      "aabbbab abbbbab babbbab bbbbbab\n",
      "aabbbba abbbbba babbbba bbbbbba\n",
      "aabbbbb abbbbbb babbbbb bbbbbbb\n"
     ]
    }
   ],
   "source": [
    "for i in range(0, 32): print word(i), word(i+32), word(i+64), word(i+96)"
   ]
  },
  {
   "cell_type": "code",
   "execution_count": 68,
   "metadata": {
    "collapsed": false
   },
   "outputs": [
    {
     "name": "stdout",
     "output_type": "stream",
     "text": [
      "4 16 64 256 1024 4096 16384\n"
     ]
    }
   ],
   "source": [
    "for i in irange(1,7):\n",
    "    print 4**i, "
   ]
  },
  {
   "cell_type": "code",
   "execution_count": null,
   "metadata": {
    "collapsed": true
   },
   "outputs": [],
   "source": []
  }
 ],
 "metadata": {
  "anaconda-cloud": {},
  "kernelspec": {
   "display_name": "Python [default]",
   "language": "python",
   "name": "python2"
  },
  "language_info": {
   "codemirror_mode": {
    "name": "ipython",
    "version": 2
   },
   "file_extension": ".py",
   "mimetype": "text/x-python",
   "name": "python",
   "nbconvert_exporter": "python",
   "pygments_lexer": "ipython2",
   "version": "2.7.12"
  }
 },
 "nbformat": 4,
 "nbformat_minor": 1
}
