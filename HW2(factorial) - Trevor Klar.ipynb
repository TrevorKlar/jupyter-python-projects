{
 "cells": [
  {
   "cell_type": "markdown",
   "metadata": {},
   "source": [
    "# Math 382\n",
    "\n",
    "## Homework 2\n",
    "\n",
    "### Feb 2, 2017\n",
    "\n",
    "### Trevor Klar"
   ]
  },
  {
   "cell_type": "code",
   "execution_count": 1,
   "metadata": {
    "collapsed": false
   },
   "outputs": [],
   "source": [
    "def factorial(n):\n",
    "    #intializes the varible 'product'\n",
    "    product = 1\n",
    "    #checks to make sure that the input is an integer\n",
    "    if isinstance(n, int) and n>=0:\n",
    "        #multiplies the integers from 1 to n together\n",
    "        for i in range(1,n+1):\n",
    "            product *= i\n",
    "            #print product\n",
    "        return product\n",
    "    elif isinstance(n, str):\n",
    "        #prints a sarcastic error if input is a string\n",
    "        print 'Error: \"'+str(n)+'\"? Really?'+\" I feel like you're messing with me.\"\n",
    "        return None\n",
    "    elif not isinstance(n, int):\n",
    "        #prints an error if input is not an integer\n",
    "        print 'Error: \"'+str(n)+'\" is not an integer'\n",
    "        return None\n",
    "    elif n<0:\n",
    "        #prints an error if input is negative\n",
    "        print 'Error: \"'+str(n)+'\" is not positive or zero'\n",
    "        return None"
   ]
  },
  {
   "cell_type": "code",
   "execution_count": 2,
   "metadata": {
    "collapsed": false
   },
   "outputs": [
    {
     "name": "stdout",
     "output_type": "stream",
     "text": [
      "120\n"
     ]
    }
   ],
   "source": [
    "print factorial(5)"
   ]
  },
  {
   "cell_type": "code",
   "execution_count": 3,
   "metadata": {
    "collapsed": false
   },
   "outputs": [
    {
     "name": "stdout",
     "output_type": "stream",
     "text": [
      "3628800\n"
     ]
    }
   ],
   "source": [
    "print factorial(10)"
   ]
  },
  {
   "cell_type": "code",
   "execution_count": 4,
   "metadata": {
    "collapsed": false
   },
   "outputs": [
    {
     "name": "stdout",
     "output_type": "stream",
     "text": [
      "1\n"
     ]
    }
   ],
   "source": [
    "print factorial(0)"
   ]
  },
  {
   "cell_type": "code",
   "execution_count": 5,
   "metadata": {
    "collapsed": false
   },
   "outputs": [
    {
     "name": "stdout",
     "output_type": "stream",
     "text": [
      "Error: \"-3\" is not positive or zero\n",
      "None\n"
     ]
    }
   ],
   "source": [
    "print factorial(-3)"
   ]
  },
  {
   "cell_type": "code",
   "execution_count": 6,
   "metadata": {
    "collapsed": false
   },
   "outputs": [
    {
     "name": "stdout",
     "output_type": "stream",
     "text": [
      "Error: \"7.5\" is not an integer\n",
      "None\n"
     ]
    }
   ],
   "source": [
    "print factorial(7.5)"
   ]
  },
  {
   "cell_type": "code",
   "execution_count": 7,
   "metadata": {
    "collapsed": false
   },
   "outputs": [
    {
     "name": "stdout",
     "output_type": "stream",
     "text": [
      "Error: \"duh\"? Really? I feel like you're messing with me.\n",
      "None\n"
     ]
    }
   ],
   "source": [
    "print factorial(\"duh\")"
   ]
  },
  {
   "cell_type": "code",
   "execution_count": 8,
   "metadata": {
    "collapsed": false
   },
   "outputs": [
    {
     "name": "stdout",
     "output_type": "stream",
     "text": [
      "\n",
      "x\tfactorial(x)\n",
      "\n",
      "0\t1\n",
      "1\t1\n",
      "2\t2\n",
      "3\t6\n",
      "4\t24\n",
      "5\t120\n",
      "6\t720\n",
      "7\t5040\n",
      "8\t40320\n",
      "9\t362880\n",
      "10\t3628800\n",
      "11\t39916800\n",
      "12\t479001600\n",
      "13\t6227020800\n",
      "14\t87178291200\n",
      "15\t1307674368000\n",
      "16\t20922789888000\n",
      "17\t355687428096000\n",
      "18\t6402373705728000\n",
      "19\t121645100408832000\n",
      "20\t2432902008176640000\n",
      "21\t51090942171709440000\n",
      "22\t1124000727777607680000\n",
      "23\t25852016738884976640000\n",
      "24\t620448401733239439360000\n",
      "25\t15511210043330985984000000\n",
      "26\t403291461126605635584000000\n",
      "27\t10888869450418352160768000000\n",
      "28\t304888344611713860501504000000\n",
      "29\t8841761993739701954543616000000\n",
      "30\t265252859812191058636308480000000\n",
      "31\t8222838654177922817725562880000000\n",
      "32\t263130836933693530167218012160000000\n",
      "33\t8683317618811886495518194401280000000\n",
      "34\t295232799039604140847618609643520000000\n",
      "35\t10333147966386144929666651337523200000000\n",
      "36\t371993326789901217467999448150835200000000\n",
      "37\t13763753091226345046315979581580902400000000\n",
      "38\t523022617466601111760007224100074291200000000\n",
      "39\t20397882081197443358640281739902897356800000000\n",
      "40\t815915283247897734345611269596115894272000000000\n",
      "41\t33452526613163807108170062053440751665152000000000\n",
      "42\t1405006117752879898543142606244511569936384000000000\n",
      "43\t60415263063373835637355132068513997507264512000000000\n",
      "44\t2658271574788448768043625811014615890319638528000000000\n",
      "45\t119622220865480194561963161495657715064383733760000000000\n",
      "46\t5502622159812088949850305428800254892961651752960000000000\n",
      "47\t258623241511168180642964355153611979969197632389120000000000\n",
      "48\t12413915592536072670862289047373375038521486354677760000000000\n",
      "49\t608281864034267560872252163321295376887552831379210240000000000\n",
      "50\t30414093201713378043612608166064768844377641568960512000000000000\n"
     ]
    }
   ],
   "source": [
    "print\n",
    "print \"x\"+\"\\t\"+\"factorial(x)\" #column headings for the table\n",
    "print\n",
    "for i in range(51): #prints the factorial for the integers, one at a time, from 0 to 51\n",
    "    print str(i)+\"\\t\"+str(factorial(i))"
   ]
  },
  {
   "cell_type": "code",
   "execution_count": 9,
   "metadata": {
    "collapsed": false
   },
   "outputs": [
    {
     "data": {
      "text/plain": [
       "93326215443944152681699238856266700490715968264381621468592963895217599993229915608941463976156518286253697920827223758251185210916864000000000000000000000000L"
      ]
     },
     "execution_count": 9,
     "metadata": {},
     "output_type": "execute_result"
    }
   ],
   "source": [
    "factorial(100)"
   ]
  },
  {
   "cell_type": "code",
   "execution_count": 10,
   "metadata": {
    "collapsed": false
   },
   "outputs": [
    {
     "data": {
      "text/plain": [
       "['93326215443944152681699238856266700490715968264381621468592963895217599993229915608941463976156518286253697920827223758251185210916864000000000000000000000000']"
      ]
     },
     "execution_count": 10,
     "metadata": {},
     "output_type": "execute_result"
    }
   ],
   "source": [
    "str(factorial(100)).split()"
   ]
  },
  {
   "cell_type": "code",
   "execution_count": null,
   "metadata": {
    "collapsed": true
   },
   "outputs": [],
   "source": []
  }
 ],
 "metadata": {
  "anaconda-cloud": {},
  "kernelspec": {
   "display_name": "Python [default]",
   "language": "python",
   "name": "python2"
  },
  "language_info": {
   "codemirror_mode": {
    "name": "ipython",
    "version": 2
   },
   "file_extension": ".py",
   "mimetype": "text/x-python",
   "name": "python",
   "nbconvert_exporter": "python",
   "pygments_lexer": "ipython2",
   "version": "2.7.12"
  }
 },
 "nbformat": 4,
 "nbformat_minor": 1
}
