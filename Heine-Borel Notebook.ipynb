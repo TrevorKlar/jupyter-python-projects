{
 "cells": [
  {
   "cell_type": "code",
   "execution_count": 12,
   "metadata": {
    "collapsed": true
   },
   "outputs": [],
   "source": [
    "def irange(start, stop, step=1):            # This is an inclusive range function, so that I don't have to remember\n",
    "    if step == 1:                           # that range() leaves out the last value. \n",
    "        return range(start, stop+1)         #\n",
    "    elif step < 0:                          #\n",
    "        return range(start, stop-1, step)   #\n",
    "    else:                                   #\n",
    "        return range(start, stop+1, step)   #\n",
    "\n",
    "def indeces(somelist):                   #returns a list of numbers from 0 to len(somelist), so I can easily iterate\n",
    "    return range(len(somelist))          # with reference to the index of each element in the list\n",
    "\n",
    "import random"
   ]
  },
  {
   "cell_type": "code",
   "execution_count": 33,
   "metadata": {
    "collapsed": false
   },
   "outputs": [],
   "source": [
    "lists=['']*5\n",
    "lists[1] = ['l']*10\n",
    "lists[2] = ['r']*10\n",
    "lists[3] = ['r']+['l']\n",
    "lists[4] = []\n",
    "for n in irange(1,10):\n",
    "    lists[4].append(random.choice(lists[3]))\n",
    "lists[3] = lists[3]*5\n",
    "\n",
    "def makeintervals (listn):\n",
    "    \n",
    "    alpha = [0]*len(listn)\n",
    "    beta = [0]*len(listn)\n",
    "\n",
    "    alpha[0] = (-1)\n",
    "    beta[0] = (1)\n",
    "\n",
    "    for n in indeces(listn[:-1]):\n",
    "        mid = .5*(alpha[n] + beta[n])\n",
    "        if listn[n] == 'l':\n",
    "            alpha[n+1] = alpha[n]\n",
    "            beta[n+1] = mid\n",
    "        if listn[n] == 'r':\n",
    "            alpha[n+1] = mid\n",
    "            beta[n+1] = beta[n]\n",
    "    \n",
    "    #print [alpha, beta]\n",
    "    return [alpha, beta]"
   ]
  },
  {
   "cell_type": "code",
   "execution_count": 36,
   "metadata": {
    "collapsed": false
   },
   "outputs": [
    {
     "name": "stdout",
     "output_type": "stream",
     "text": [
      "[[-1, -1, -1, -1, -1, -1, -1, -1, -1, -1], [1, 0.0, -0.5, -0.75, -0.875, -0.9375, -0.96875, -0.984375, -0.9921875, -0.99609375]]\n",
      "[[-1, 0.0, 0.5, 0.75, 0.875, 0.9375, 0.96875, 0.984375, 0.9921875, 0.99609375], [1, 1, 1, 1, 1, 1, 1, 1, 1, 1]]\n",
      "[[-1, 0.0, 0.0, 0.25, 0.25, 0.3125, 0.3125, 0.328125, 0.328125, 0.33203125], [1, 1, 0.5, 0.5, 0.375, 0.375, 0.34375, 0.34375, 0.3359375, 0.3359375]]\n",
      "[[-1, 0.0, 0.5, 0.5, 0.5, 0.5625, 0.59375, 0.59375, 0.59375, 0.59375], [1, 1, 1, 0.75, 0.625, 0.625, 0.625, 0.609375, 0.6015625, 0.59765625]]\n"
     ]
    }
   ],
   "source": [
    "fig = ['']*5\n",
    "for n in irange(1,4):\n",
    "    fig[n] = makeintervals(lists[n])\n",
    "    print fig[n]"
   ]
  },
  {
   "cell_type": "code",
   "execution_count": 46,
   "metadata": {
    "collapsed": false
   },
   "outputs": [
    {
     "name": "stdout",
     "output_type": "stream",
     "text": [
      "\\draw (-1,0) -- (1,0);\n",
      "\\draw (-1+.025,-.05) -- (-1,-.05) -- (-1,.05) -- (-1+.025,.05);\n",
      "\\draw (0.0+.025,-.05) -- (0.0,-.05) -- (0.0,.05) -- (0.0+.025,.05);\n",
      "\\draw (0.5+.025,-.05) -- (0.5,-.05) -- (0.5,.05) -- (0.5+.025,.05);\n",
      "\\draw (0.5+.025,-.05) -- (0.5,-.05) -- (0.5,.05) -- (0.5+.025,.05);\n",
      "\\draw (0.5+.025,-.05) -- (0.5,-.05) -- (0.5,.05) -- (0.5+.025,.05);\n",
      "\\draw (0.5625+.025,-.05) -- (0.5625,-.05) -- (0.5625,.05) -- (0.5625+.025,.05);\n",
      "\\draw (0.59375+.025,-.05) -- (0.59375,-.05) -- (0.59375,.05) -- (0.59375+.025,.05);\n",
      "\\draw (0.59375+.025,-.05) -- (0.59375,-.05) -- (0.59375,.05) -- (0.59375+.025,.05);\n",
      "\\draw (0.59375+.025,-.05) -- (0.59375,-.05) -- (0.59375,.05) -- (0.59375+.025,.05);\n",
      "\\draw (0.59375+.025,-.05) -- (0.59375,-.05) -- (0.59375,.05) -- (0.59375+.025,.05);\n",
      "\\draw (1-.025,-.05) -- (1,-.05) -- (1,.05) -- (1-.025,.05);\n",
      "\\draw (1-.025,-.05) -- (1,-.05) -- (1,.05) -- (1-.025,.05);\n",
      "\\draw (1-.025,-.05) -- (1,-.05) -- (1,.05) -- (1-.025,.05);\n",
      "\\draw (0.75-.025,-.05) -- (0.75,-.05) -- (0.75,.05) -- (0.75-.025,.05);\n",
      "\\draw (0.625-.025,-.05) -- (0.625,-.05) -- (0.625,.05) -- (0.625-.025,.05);\n",
      "\\draw (0.625-.025,-.05) -- (0.625,-.05) -- (0.625,.05) -- (0.625-.025,.05);\n",
      "\\draw (0.625-.025,-.05) -- (0.625,-.05) -- (0.625,.05) -- (0.625-.025,.05);\n",
      "\\draw (0.609375-.025,-.05) -- (0.609375,-.05) -- (0.609375,.05) -- (0.609375-.025,.05);\n",
      "\\draw (0.6015625-.025,-.05) -- (0.6015625,-.05) -- (0.6015625,.05) -- (0.6015625-.025,.05);\n",
      "\\draw (0.59765625-.025,-.05) -- (0.59765625,-.05) -- (0.59765625,.05) -- (0.59765625-.025,.05);\n"
     ]
    }
   ],
   "source": [
    "print \"\\draw (-1,0) -- (1,0);\"\n",
    "for x in fig[4][0]:\n",
    "    print \"\\draw (\"+str(x)+\"+.025,-.05) -- (\"+str(x)+\",-.05) -- (\"+str(x)+\",.05) -- (\"+str(x)+\"+.025,.05);\"\n",
    "for x in fig[4][1]:\n",
    "    print \"\\draw (\"+str(x)+\"-.025,-.05) -- (\"+str(x)+\",-.05) -- (\"+str(x)+\",.05) -- (\"+str(x)+\"-.025,.05);\""
   ]
  },
  {
   "cell_type": "code",
   "execution_count": null,
   "metadata": {
    "collapsed": true
   },
   "outputs": [],
   "source": []
  }
 ],
 "metadata": {
  "anaconda-cloud": {},
  "kernelspec": {
   "display_name": "Python [default]",
   "language": "python",
   "name": "python2"
  },
  "language_info": {
   "codemirror_mode": {
    "name": "ipython",
    "version": 2
   },
   "file_extension": ".py",
   "mimetype": "text/x-python",
   "name": "python",
   "nbconvert_exporter": "python",
   "pygments_lexer": "ipython2",
   "version": "2.7.12"
  }
 },
 "nbformat": 4,
 "nbformat_minor": 1
}
