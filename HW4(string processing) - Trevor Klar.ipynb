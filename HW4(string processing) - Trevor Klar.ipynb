{
 "cells": [
  {
   "cell_type": "markdown",
   "metadata": {},
   "source": [
    "# Math 382\n",
    "\n",
    "## Homework 4\n",
    "### Trevor Klar\n",
    "### February 23, 2017"
   ]
  },
  {
   "cell_type": "markdown",
   "metadata": {},
   "source": [
    "## Part 1:"
   ]
  },
  {
   "cell_type": "code",
   "execution_count": 10,
   "metadata": {
    "collapsed": true
   },
   "outputs": [],
   "source": [
    "import string                       #we need this library for the nicestring() function\n",
    "\n",
    "import numpy as np\n",
    "\n",
    "def indeces(somelist):              #returns a list of numbers from 0 to len(somelist), so I can easily iterate with\n",
    "    return range(len(somelist))     #  reference to the index of each element in the list\n",
    "\n",
    "def numlen(somenumber):\n",
    "    return len(str(somenumber))     #returns the number of characters in a number, for formatting purposes\n",
    "\n",
    "def nicestring(stringinput):\n",
    "    stringinput=stringinput.lower() #puts the string in all lowercase\n",
    "    stringinput=stringinput.strip() #removes whitespace from the string\n",
    "    stringinput=stringinput.translate(None, string.punctuation) #removes all punctuation from the string\n",
    "    return stringinput\n",
    "\n",
    "#note, we haven't actually called this function yet. That's fine, we'll do it later. "
   ]
  },
  {
   "cell_type": "code",
   "execution_count": 11,
   "metadata": {
    "collapsed": false
   },
   "outputs": [
    {
     "name": "stdout",
     "output_type": "stream",
     "text": [
      "['Dig if you will the picture\\n', 'Of you and I engaged in a kiss\\n', 'The sweat of your body covers me\\n', 'Can you my darling, can you picture this?\\n', '\\n', 'Dream if you can a courtyard\\n', 'An ocean of violets in bloom\\n', 'Animals strike curious poses\\n', 'They feel the heat the heat between me and you\\n', '\\n', 'How can you just leave me standing?\\n', \"Alone in a world that's so cold?\\n\", '(So cold)\\n', \"Maybe I'm just too demanding\\n\", \"Maybe I'm just like my father too bold\\n\", '\\n', \"Maybe you're just like my mother\\n\", \"She's never satisfied\\n\", \"(She's never satisfied)\\n\", 'Why do we scream at each other\\n', 'This is what it sounds like when doves cry\\n', '\\n', 'Touch if you will my stomach\\n', 'Feel how it trembles inside\\n', \"You've got the butterflies all tied up\\n\", \"Don't make me chase you even doves have pride\\n\", '\\n', 'How can you just leave me standing?\\n', 'Alone in a world so cold?\\n', '(World so cold)\\n', \"Maybe I'm just too demanding\\n\", \"Maybe I'm just like my father too bold\\n\", '\\n', \"Maybe you're just like my mother\\n\", \"She's never satisfied\\n\", \"(She's never satisfied)\\n\", 'Why do we scream at each other\\n', '\\n', 'This is what it sounds like when doves cry\\n', '\\n', 'How can you just leave me standing?\\n', \"Alone in a world that's so cold?\\n\", \"(A world that's so cold)\\n\", \"Maybe I'm just too demanding\\n\", \"(Maybe, maybe I'm like my father)\\n\", \"Maybe I'm just like my father too bold\\n\", \"(Ya know he's too bold)\\n\", '\\n', \"Maybe you're just like my mother\\n\", \"(Maybe you're just like my mother)\\n\", \"She's never satisfied\\n\", \"(She's never, never satisfied)\\n\", 'Why do we scream at each other\\n', '(Why do we scream, why)\\n', 'This is what it sounds like\\n', 'When doves cry\\n', '\\n', 'When doves cry\\n', '(Doves cry, doves cry)\\n', 'When doves cry\\n', '(Doves cry, doves cry)\\n', \"Don't Cry\\n\", \"(Don't Cry)\\n\", '\\n', 'When doves cry\\n', 'When doves cry\\n', 'When doves cry\\n', 'When Doves cry\\n', '(Doves cry, doves cry, doves cry)\\n', '\\n', \"Don't cry, darling don't cry\\n\", \"Don't cry, don't cry\\n\"]\n"
     ]
    }
   ],
   "source": [
    "with open(\"prince.txt\") as f: #opens the source file (must be in the local directory), and automatically closes it when done\n",
    "    lyricdata = f.readlines() #puts each line into the list lyricdata\n",
    "\n",
    "\n",
    "\n",
    "\n",
    "print lyricdata"
   ]
  },
  {
   "cell_type": "code",
   "execution_count": 12,
   "metadata": {
    "collapsed": false
   },
   "outputs": [
    {
     "name": "stdout",
     "output_type": "stream",
     "text": [
      " dig if you will the picture of you and i engaged in a kiss the sweat of your body covers me can you my darling can you picture this  dream if you can a courtyard an ocean of violets in bloom animals strike curious poses they feel the heat the heat between me and you  how can you just leave me standing alone in a world thats so cold so cold maybe im just too demanding maybe im just like my father too bold  maybe youre just like my mother shes never satisfied shes never satisfied why do we scream at each other this is what it sounds like when doves cry  touch if you will my stomach feel how it trembles inside youve got the butterflies all tied up dont make me chase you even doves have pride  how can you just leave me standing alone in a world so cold world so cold maybe im just too demanding maybe im just like my father too bold  maybe youre just like my mother shes never satisfied shes never satisfied why do we scream at each other  this is what it sounds like when doves cry  how can you just leave me standing alone in a world thats so cold a world thats so cold maybe im just too demanding maybe maybe im like my father maybe im just like my father too bold ya know hes too bold  maybe youre just like my mother maybe youre just like my mother shes never satisfied shes never never satisfied why do we scream at each other why do we scream why this is what it sounds like when doves cry  when doves cry doves cry doves cry when doves cry doves cry doves cry dont cry dont cry  when doves cry when doves cry when doves cry when doves cry doves cry doves cry doves cry  dont cry darling dont cry dont cry dont cry\n"
     ]
    }
   ],
   "source": [
    "#goes through the list, lyricdata, and concatenates it all together into on giant string, leaving out blank lines. \n",
    "i=0\n",
    "prince_lyrics=\"\"\n",
    "for line_i in lyricdata:\n",
    "    if line_i == \"/n\":\n",
    "        continue\n",
    "    prince_lyrics=prince_lyrics + \" \" + nicestring(line_i) #uses nicestring() to clean out the junk\n",
    "    i+=1\n",
    "print prince_lyrics\n",
    "#here's all our lyrics, in one big string, without punctuation. "
   ]
  },
  {
   "cell_type": "code",
   "execution_count": 13,
   "metadata": {
    "collapsed": false
   },
   "outputs": [
    {
     "name": "stdout",
     "output_type": "stream",
     "text": [
      "all           1 \tdream         1 \tmaybe         12 \ttied          1 \t\n",
      "alone         3 \teach          3 \tme            6 \ttoo           7 \t\n",
      "an            1 \tengaged       1 \tmother        4 \ttouch         1 \t\n",
      "and           2 \teven          1 \tmy            10 \ttrembles      1 \t\n",
      "animals       1 \tfather        4 \tnever         7 \tup            1 \t\n",
      "at            3 \tfeel          2 \tocean         1 \tviolets       1 \t\n",
      "between       1 \tgot           1 \tof            3 \twe            4 \t\n",
      "bloom         1 \thave          1 \tother         3 \twhat          3 \t\n",
      "body          1 \theat          2 \tpicture       2 \twhen          9 \t\n",
      "bold          4 \thes           1 \tposes         1 \twhy           5 \t\n",
      "butterflies   1 \thow           4 \tpride         1 \twill          2 \t\n",
      "can           6 \ti             1 \tsatisfied     6 \tworld         5 \t\n"
     ]
    }
   ],
   "source": [
    "#splits our giant string up into a list of all the words, and then sorts them alphabetically.\n",
    "word_list = prince_lyrics.split()\n",
    "word_list.sort()\n",
    "\n",
    "#makes a dictionary of the words, by considering each word and adding it to word_dictionary if it wasn't \n",
    "# there already. \n",
    "word_dictionary=[]\n",
    "for i in indeces(word_list):\n",
    "    if word_list[i] in word_dictionary:\n",
    "        continue\n",
    "    else: \n",
    "        word_dictionary.append(word_list[i])\n",
    "\n",
    "#prints out the dictionary, along with a nice table of how many times the word appears in word_list.\n",
    "for row in range(1,13):\n",
    "    for word_i in word_dictionary:\n",
    "        if word_dictionary.index(word_i) % 24 == row:\n",
    "            print word_i, ' ' * (12-len(word_i)), word_list.count(word_i), '\\t',\n",
    "    print\n"
   ]
  },
  {
   "cell_type": "markdown",
   "metadata": {},
   "source": [
    "## Part 2:"
   ]
  },
  {
   "cell_type": "code",
   "execution_count": 14,
   "metadata": {
    "collapsed": false
   },
   "outputs": [],
   "source": [
    "with open(\"wine.data\") as f:          #opens wine.data, closing it when done\n",
    "    winelist = f.readlines()          #reads everything into winelist"
   ]
  },
  {
   "cell_type": "code",
   "execution_count": 15,
   "metadata": {
    "collapsed": false
   },
   "outputs": [],
   "source": [
    "#print wlist\n",
    "for i in indeces(winelist):                      #takes winelist, and uses the commas to make it into a list of lists.\n",
    "    winelist[i]=winelist[i].strip()\n",
    "    winelist[i]=winelist[i].split(',')\n",
    "    for j in indeces(winelist[i]):               #converts each entry to a float\n",
    "        winelist[i][j] = float(winelist[i][j])\n",
    "#print wlist"
   ]
  },
  {
   "cell_type": "code",
   "execution_count": 16,
   "metadata": {
    "collapsed": false
   },
   "outputs": [],
   "source": [
    "wlist = np.array(winelist) #converts our list of lists into a numpy array\n",
    "\n",
    "#this is a list of variable names, to improve readability\n",
    "wlabel=['Class #','Alcohol','Malic acid','Ash     ','Alcalinity of ash','Magnesium','Total phenols','Flavanoids',\\\n",
    "        'Nonflavanoid phenols','Proanthocyanins','Color intensity','Hue     ','OD280/OD315 of diluted wines','Proline']"
   ]
  },
  {
   "cell_type": "code",
   "execution_count": 17,
   "metadata": {
    "collapsed": false
   },
   "outputs": [
    {
     "name": "stdout",
     "output_type": "stream",
     "text": [
      "| Attribute                         | Mean              | Standard Deviation |\n",
      "------------------------------------------------------------------------------\n",
      "| Class #                           | 1.93820224719     | 0.772854859112     |\n",
      "| Alcohol                           | 13.0006179775     | 0.809542914529     |\n",
      "| Malic acid                        | 2.33634831461     | 1.11400362698      |\n",
      "| Ash                               | 2.36651685393     | 0.273572294426     |\n",
      "| Alcalinity of ash                 | 19.4949438202     | 3.33016975766      |\n",
      "| Magnesium                         | 99.7415730337     | 14.2423076734      |\n",
      "| Total phenols                     | 2.29511235955     | 0.624090564197     |\n",
      "| Flavanoids                        | 2.02926966292     | 0.996048950379     |\n",
      "| Nonflavanoid phenols              | 0.361853932584    | 0.124103259884     |\n",
      "| Proanthocyanins                   | 1.5908988764      | 0.57074884862      |\n",
      "| Color intensity                   | 5.05808988202     | 2.31176466095      |\n",
      "| Hue                               | 0.957449438202    | 0.227928606565     |\n",
      "| OD280/OD315 of diluted wines      | 2.61168539326     | 0.707993264672     |\n",
      "| Proline                           | 746.893258427     | 314.021656842      |\n"
     ]
    }
   ],
   "source": [
    "mean=np.mean(wlist, axis=0)           #returns a list of means for each variable\n",
    "stdev=np.std(wlist, axis=0)           #returns a list of standard deviations for each variable\n",
    "\n",
    "#prints the column labels at the top of the chart\n",
    "print '| '+'Attribute', ' ' * (32-len('Attribute')), \n",
    "print '| '+'Mean', ' ' * (16-len('Mean')), \n",
    "print '| '+'Standard Deviation'+' |'\n",
    "print '-' * 78\n",
    "#prints the rows of the chart itself\n",
    "for i in indeces(wlabel):\n",
    "    print '| '+str(wlabel[i]), ' ' * (32-len(wlabel[i])), \n",
    "    print '| '+str(mean[i]), ' ' * (16-numlen(mean[i])),\n",
    "    print '| '+str(stdev[i]), ' ' * (17-numlen(stdev[i])), \"|\""
   ]
  },
  {
   "cell_type": "code",
   "execution_count": 27,
   "metadata": {
    "collapsed": false
   },
   "outputs": [
    {
     "name": "stdout",
     "output_type": "stream",
     "text": [
      "\tClass # Alcohol Malic a Ash     Alcalin Magnesi Total p Flavano Nonflav Proanth Color i Hue     OD280/O Prolin\n",
      "\t(0) \t(1) \t(2) \t(3) \t(4) \t(5) \t(6) \t(7) \t(8) \t(9) \t(10) \t(11) \t(12) \t(13)\n",
      "Class(0)      \t-0.3 \t0.43 \t-0.0 \t0.51 \t-0.2 \t-0.7 \t-0.8 \t0.48 \t-0.4 \t0.26 \t-0.6 \t-0.7 \t-0.6\n",
      "Alcoh(1)      \t     \t0.09 \t0.21 \t-0.3 \t0.27 \t0.28 \t0.23 \t-0.1 \t0.13 \t0.54 \t-0.0 \t0.07 \t0.64\n",
      "Malic(2)      \t     \t     \t0.16 \t0.28 \t-0.0 \t-0.3 \t-0.4 \t0.29 \t-0.2 \t0.24 \t-0.5 \t-0.3 \t-0.1\n",
      "Ash  (3)      \t     \t     \t     \t0.44 \t0.28 \t0.12 \t0.11 \t0.18 \t0.00 \t0.25 \t-0.0 \t0.00 \t0.22\n",
      "Alcal(4)      \t     \t     \t     \t     \t-0.0 \t-0.3 \t-0.3 \t0.36 \t-0.1 \t0.01 \t-0.2 \t-0.2 \t-0.4\n",
      "Magne(5)      \t     \t     \t     \t     \t     \t0.21 \t0.19 \t-0.2 \t0.23 \t0.19 \t0.05 \t0.06 \t0.39\n",
      "Total(6)      \t     \t     \t     \t     \t     \t     \t0.86 \t-0.4 \t0.61 \t-0.0 \t0.43 \t0.69 \t0.49\n",
      "Flava(7)      \t     \t     \t     \t     \t     \t     \t     \t-0.5 \t0.65 \t-0.1 \t0.54 \t0.78 \t0.49\n",
      "Nonfl(8)      \t     \t     \t     \t     \t     \t     \t     \t     \t-0.3 \t0.13 \t-0.2 \t-0.5 \t-0.3\n",
      "Proan(9)      \t     \t     \t     \t     \t     \t     \t     \t     \t     \t-0.0 \t0.29 \t0.51 \t0.33\n",
      "Color(10)      \t     \t     \t     \t     \t     \t     \t     \t     \t     \t     \t-0.5 \t-0.4 \t0.31\n",
      "Hue  (11)      \t     \t     \t     \t     \t     \t     \t     \t     \t     \t     \t     \t0.56 \t0.23\n",
      "OD280(12)      \t     \t     \t     \t     \t     \t     \t     \t     \t     \t     \t     \t     \t0.31\n",
      "Proli(13)      \t     \t     \t     \t     \t     \t     \t     \t     \t     \t     \t     \t     \t    \n"
     ]
    }
   ],
   "source": [
    "winecorr=np.corrcoef(wlist, rowvar=0)  #creates the matrix of correlation coefficients. \n",
    "\n",
    "#prints the columns labels\n",
    "print '\\t',\n",
    "for i in indeces(wlabel):\n",
    "    if i == len(wlabel)-1:\n",
    "        print wlabel[i][:6], #this just cuts off the last character of the last label, so the chart will fit onscreen\n",
    "        continue\n",
    "    print wlabel[i][:7],\n",
    "print\n",
    "\n",
    "'\\t'\n",
    "\n",
    "#prints the column numbers\n",
    "for i in indeces(wlabel):\n",
    "    print '\\t','('+str(i)+')',\n",
    "print\n",
    "\n",
    "#prints the values of our matrix, winecorr.\n",
    "for i in indeces(winecorr):\n",
    "    print wlabel[i][:5]+'('+str(i)+')',\n",
    "    for j in indeces(winecorr[i]):\n",
    "        if i>=j:             #omits the repeated and '1' values, so it's in upper-traingular form.\n",
    "            print \"    \",\n",
    "        else: \n",
    "            print str(winecorr[i][j])[:4],\n",
    "        if j < len(winecorr[i])-1:\n",
    "            print '\\t',      #tabs in-between rows, except the last row\n",
    "    print\n",
    "#====================================================================================================================#\n",
    "#                       IF THE TABLE IS UGLY, MAKE SURE YOU HAVE THE WINDOW ON FULLSCREEN.                           #\n",
    "#====================================================================================================================#"
   ]
  }
 ],
 "metadata": {
  "anaconda-cloud": {},
  "kernelspec": {
   "display_name": "Python [default]",
   "language": "python",
   "name": "python2"
  },
  "language_info": {
   "codemirror_mode": {
    "name": "ipython",
    "version": 2
   },
   "file_extension": ".py",
   "mimetype": "text/x-python",
   "name": "python",
   "nbconvert_exporter": "python",
   "pygments_lexer": "ipython2",
   "version": "2.7.12"
  }
 },
 "nbformat": 4,
 "nbformat_minor": 1
}
