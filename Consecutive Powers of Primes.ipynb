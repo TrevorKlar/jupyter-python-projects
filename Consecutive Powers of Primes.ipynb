{
 "cells": [
  {
   "cell_type": "code",
   "execution_count": 3,
   "metadata": {
    "collapsed": true
   },
   "outputs": [],
   "source": [
    "def irange(start, stop, step=1):            # This is an inclusive range function, so that I don't have to remember\n",
    "    if step == 1:                           # that range() leaves out the last value. \n",
    "        return range(start, stop+1)         #\n",
    "    elif step < 0:                          #\n",
    "        return range(start, stop-1, step)   #\n",
    "    else:                                   #\n",
    "        return range(start, stop+1, step)   #\n",
    "\n",
    "def indeces(somelist):              #returns a list of numbers from 0 to len(somelist), so I can easily iterate with\n",
    "    return range(len(somelist))     #  reference to the index of each element in the list\n",
    "\n",
    "def numlen(somenumber):\n",
    "    return len(str(somenumber))     #returns the number of characters in a number, for formatting purposes\n",
    "\n",
    "def nicestring(stringinput):\n",
    "    stringinput=stringinput.lower() #puts the string in all lowercase\n",
    "    stringinput=stringinput.strip() #removes whitespace from the string\n",
    "    stringinput=stringinput.translate(None, string.punctuation) #removes all punctuation from the string\n",
    "    return stringinput\n",
    "\n",
    "import matplotlib.pyplot as plt          # this is the\n",
    "                                         # plot library\n",
    "    \n",
    "import numpy as np                       # not strictly necessary\n",
    "                                         # but useful\n",
    "    \n",
    "from IPython.display import Latex\n",
    "    \n",
    "import scipy, scipy.special, scipy.stats\n",
    "    \n",
    "%matplotlib inline                       \n",
    "                                         # displays plots in the notebook\n",
    "                                         # instead of popup windows\n",
    "import math\n",
    "\n",
    "import random"
   ]
  },
  {
   "cell_type": "markdown",
   "metadata": {},
   "source": [
    "This is a short script designed to visualize this problem. Feel free to change the values of 'p' and 'q' to see how the data changes. \n",
    "\n",
    "We have two primes, $p$ and $q$. We are interested in the sequence $\\{a_n\\}_{n=1}^{\\infty}$ where $a_n=p^\\alpha q^\\beta$, for various $\\alpha, \\beta \\in \\mathbb{Z}$, and all the terms of the sequence are arranged in increasing order. We are specifically interested in the parts of the sequence where an $a_k=p^\\alpha$ term is immediately followed by an $a_{k+1}=q^\\beta$ term. "
   ]
  },
  {
   "cell_type": "code",
   "execution_count": 4,
   "metadata": {
    "collapsed": false
   },
   "outputs": [],
   "source": [
    "#=============================SETTINGS===========================\n",
    "p=2          #By convention, we choose p to be the smaller prime\n",
    "q=3\n",
    "maxpower=2000\n",
    "#Maximum value of alpha and beta\n",
    "#================================================================\n",
    "\n",
    "a=[]\n",
    "for i in irange(0,maxpower):        #Evaluates the elements of {a_n}\n",
    "    for j in irange(0,maxpower):    #\n",
    "        a.append((i*math.log(p)+j*math.log(q),i,j))   #\n",
    "a.sort(key=lambda tup: tup[0])      #Sorts {a_n} in increasing order\n",
    "\n",
    "#print a        #uncomment to debug"
   ]
  },
  {
   "cell_type": "code",
   "execution_count": 5,
   "metadata": {
    "collapsed": false
   },
   "outputs": [],
   "source": [
    "orderplot_a=[]                         #Strips out only the values of alpha and beta from the above list, in \n",
    "for i in a:                            # preparation for plotting.\n",
    "    orderplot_a.append((i[1],i[2]))    #\n",
    "    if i[1]==maxpower or i[2]==maxpower: break\n",
    "    \n",
    "#print orderplot_a         #uncomment to debug      \n",
    "\n",
    "#A Critical Pair is a pair of terms in {a_n} where one is a power of p, and the other is a power of q.\n",
    "# This part finds all the critical pairs which have been calculated, and adds the to the list 'critical_pairs'.\n",
    "critical_pairs=[]\n",
    "for i in indeces(orderplot_a):\n",
    "    if (orderplot_a[i][0]==0 or orderplot_a[i][1]==0) and not (orderplot_a[i][0]==0 and orderplot_a[i][1]==0):\n",
    "        if i<>len(orderplot_a)-1:\n",
    "            if(orderplot_a[i+1][0]==0 or orderplot_a[i+1][1]==0):\n",
    "                critical_pairs.append((orderplot_a[i],orderplot_a[i+1]))\n",
    "\n",
    "plotting = 'on'\n",
    "\n",
    "if plotting == 'on' and maxpower<=25: #If maxpower > 25, the figure is illegible, so it is disabled.\n",
    "    plt.plot(zip(*orderplot_a)[0],zip(*orderplot_a)[1]);  #\n",
    "    for i in indeces(critical_pairs): plt.plot(zip(*critical_pairs[i])[0],zip(*critical_pairs[i])[1], color='r');\n",
    "    plt.grid(which='both')\n",
    "    plt.xticks(irange(0,maxpower))\n",
    "    plt.yticks(irange(0,7))\n",
    "    plt.axis('equal')\n",
    "    fig=plt.gcf()                                         #Plots the figure. The line connects the powers corres-\n",
    "    #fig.set_size_inches(5,5)                              #ponding to elements of {a_n} in sequence.   \n",
    "    ax=fig.add_subplot(111)                               # \n",
    "    ax.set_xlabel(str(p)+'^m')                                    #\n",
    "    ax.set_ylabel(str(q)+'^n');                                   #\n",
    "\n",
    "#zip(*orderplot_a)        #uncomment to debug"
   ]
  },
  {
   "cell_type": "code",
   "execution_count": null,
   "metadata": {
    "collapsed": false
   },
   "outputs": [],
   "source": [
    "for i in indeces(critical_pairs):\n",
    "    print critical_pairs[i]"
   ]
  },
  {
   "cell_type": "code",
   "execution_count": null,
   "metadata": {
    "collapsed": false
   },
   "outputs": [],
   "source": [
    "for i in indeces(critical_pairs):\n",
    "    if i==0: print \"Critical Pair\", \"\\t|\", \"pq(n)\", \"\\t\"*2, \"\\t|\", \"pq(n+2)/pq(n+1)\"\n",
    "    for j in indeces(critical_pairs[i]):\n",
    "        if critical_pairs[i][j][0] <> 0: print str(p)+\"^\"+str(critical_pairs[i][j][0]),\n",
    "        if critical_pairs[i][j][1] <> 0: print str(q)+\"^\"+str(critical_pairs[i][j][1]),\n",
    "        #print 2**critical_pairs[i][j][0]*3**critical_pairs[i][j][1],\n",
    "    print \"\\t|\",\n",
    "    pqn = str(p**critical_pairs[i][0][0]*q**critical_pairs[i][0][1]*p**critical_pairs[i][1][0]*q**critical_pairs[i][1][1])\n",
    "    print pqn[:29], \" \"*(29-len(pqn))+\"|\",\n",
    "    if i <(len(critical_pairs)-2):\n",
    "        ratio = str((p**critical_pairs[i+2][0][0]*q**critical_pairs[i+2][0][1]*p**critical_pairs[i+2][1][0]*q**critical_pairs[i+2][1][1])/(p**critical_pairs[i+1][0][0]*q**critical_pairs[i+1][0][1]*p**critical_pairs[i+1][1][0]*q**critical_pairs[i+1][1][1]))\n",
    "        print ratio[:29],\n",
    "    print "
   ]
  },
  {
   "cell_type": "code",
   "execution_count": null,
   "metadata": {
    "collapsed": true
   },
   "outputs": [],
   "source": []
  },
  {
   "cell_type": "code",
   "execution_count": 8,
   "metadata": {
    "collapsed": false
   },
   "outputs": [
    {
     "name": "stdout",
     "output_type": "stream",
     "text": [
      "1\n",
      "0\n",
      "1\n",
      "0\n",
      "3\n",
      "0\n",
      "3\n",
      "0\n",
      "5\n",
      "0\n",
      "7\n",
      "0\n",
      "9\n",
      "0\n",
      "11\n",
      "0\n",
      "13\n",
      "0\n",
      "15\n",
      "0\n",
      "17\n",
      "0\n",
      "19\n",
      "0\n",
      "21\n",
      "0\n",
      "23\n",
      "0\n",
      "25\n",
      "0\n",
      "27\n",
      "0\n",
      "29\n",
      "0\n",
      "31\n",
      "0\n",
      "33\n",
      "0\n",
      "35\n",
      "0\n",
      "37\n",
      "0\n",
      "39\n",
      "0\n",
      "41\n",
      "0\n",
      "43\n",
      "0\n",
      "45\n",
      "0\n",
      "47\n",
      "0\n",
      "49\n",
      "0\n",
      "51\n",
      "0\n",
      "53\n",
      "0\n",
      "55\n",
      "0\n",
      "57\n",
      "0\n",
      "59\n",
      "0\n",
      "61\n",
      "0\n",
      "63\n",
      "0\n",
      "65\n",
      "0\n",
      "67\n",
      "0\n",
      "69\n",
      "0\n",
      "71\n",
      "0\n",
      "73\n",
      "0\n",
      "75\n",
      "0\n",
      "77\n",
      "0\n",
      "79\n",
      "0\n",
      "81\n",
      "0\n",
      "83\n",
      "0\n",
      "85\n",
      "0\n",
      "87\n",
      "0\n",
      "89\n",
      "0\n",
      "91\n",
      "0\n",
      "93\n",
      "0\n",
      "95\n",
      "0\n",
      "97\n",
      "0\n",
      "99\n",
      "0\n",
      "101\n",
      "0\n",
      "103\n",
      "0\n",
      "105\n",
      "0\n",
      "107\n",
      "0\n",
      "109\n",
      "0\n",
      "111\n",
      "0\n",
      "113\n",
      "0\n",
      "115\n",
      "0\n",
      "117\n",
      "0\n",
      "119\n",
      "0\n",
      "121\n",
      "0\n",
      "123\n",
      "0\n",
      "125\n",
      "0\n",
      "127\n",
      "0\n",
      "129\n",
      "0\n",
      "131\n",
      "0\n"
     ]
    }
   ],
   "source": [
    "for i in indeces(critical_pairs[:-1]):\n",
    "    print critical_pairs[i][0][0]+critical_pairs[i][0][1] \n",
    "    top=(critical_pairs[i][0][0]+critical_pairs[i][0][1])*(critical_pairs[i][1][0]+critical_pairs[i][1][1])\n",
    "    bottom=(critical_pairs[i+1][0][0]+critical_pairs[i+1][0][1])*(critical_pairs[i+1][1][0]+critical_pairs[i+1][1][1])\n",
    "    print top/bottom"
   ]
  },
  {
   "cell_type": "code",
   "execution_count": 9,
   "metadata": {
    "collapsed": false
   },
   "outputs": [
    {
     "name": "stdout",
     "output_type": "stream",
     "text": [
      "69\n"
     ]
    }
   ],
   "source": [
    "print len(critical_pairs)"
   ]
  },
  {
   "cell_type": "code",
   "execution_count": 10,
   "metadata": {
    "collapsed": false
   },
   "outputs": [
    {
     "data": {
      "text/plain": [
       "1.4649735207179269"
      ]
     },
     "execution_count": 10,
     "metadata": {},
     "output_type": "execute_result"
    }
   ],
   "source": [
    "math.log(5)/math.log(3)"
   ]
  },
  {
   "cell_type": "code",
   "execution_count": 11,
   "metadata": {
    "collapsed": false
   },
   "outputs": [
    {
     "name": "stdout",
     "output_type": "stream",
     "text": [
      "[(0, 0), (1, 0), (0, 1), (2, 0), (1, 1)]\n",
      "5\n"
     ]
    }
   ],
   "source": [
    "print orderplot_a[:5]\n",
    "print len(orderplot_a[:5])"
   ]
  },
  {
   "cell_type": "code",
   "execution_count": 7,
   "metadata": {
    "collapsed": false
   },
   "outputs": [
    {
     "name": "stdout",
     "output_type": "stream",
     "text": [
      "-0.630929753571\n",
      "\n",
      "[-1.0, -0.5, -0.6666666666666666, -0.6, -0.625, -0.6363636363636364, -0.631578947368421, -0.6296296296296297, -0.6304347826086957, -0.6307692307692307, -0.6309523809523809, -0.6308724832214765, -0.630901287553648, -0.6309148264984227, -0.6309226932668329, -0.6309278350515464, -0.6309314586994728, -0.6309297912713473, -0.6309291747888239]\n"
     ]
    }
   ],
   "source": [
    "#Observe how the slopes between the two points of a critical pair seem to approach a limit; namely ln(p)/ln(q).\n",
    "critical_slopes=[]\n",
    "\n",
    "plot_slopes='critical' #options: 'critical' or 'all\n",
    "\n",
    "if plot_slopes=='critical':\n",
    "    for i in critical_pairs:\n",
    "        slope=float(i[0][1]-i[1][1])/(i[0][0]-i[1][0])\n",
    "        critical_slopes.append(slope)\n",
    "\n",
    "if plot_slopes=='all':\n",
    "    for i in indeces(orderplot_a):\n",
    "        slope=float(orderplot_a[i][1]-orderplot_a[i+1][1])/(orderplot_a[i][0]-orderplot_a[i+1][0])\n",
    "        critical_slopes.append(slope)\n",
    "        if i == len(orderplot_a)-2: break\n",
    "\n",
    "limit=-math.log(p)/math.log(q)\n",
    "\n",
    "print limit\n",
    "print    \n",
    "print critical_slopes"
   ]
  },
  {
   "cell_type": "code",
   "execution_count": 8,
   "metadata": {
    "collapsed": false
   },
   "outputs": [
    {
     "data": {
      "image/png": "[encoded data removed]",
      "text/plain": [
       "<matplotlib.figure.Figure at 0x7ff74ce60b10>"
      ]
     },
     "metadata": {},
     "output_type": "display_data"
    }
   ],
   "source": [
    "first=1    #Default = 0\n",
    "last=None  #Default = None\n",
    "\n",
    "plt.plot(indeces(critical_slopes)[first:last],critical_slopes[first:last], label='slope of critical pairs');\n",
    "plt.plot(indeces(critical_slopes)[first:last],[limit]*len(critical_slopes[first:last]), label='$-\\log(p)$/$\\log(q)$');\n",
    "plt.legend(loc=\"upper right\",frameon=False)\n",
    "fig=plt.gcf()\n",
    "fig.set_size_inches(9,3)\n",
    "ax=fig.add_subplot(111)                               # \n",
    "ax.set_xlabel('kth critical pair')\n",
    "ax.set_ylabel('slope');"
   ]
  },
  {
   "cell_type": "code",
   "execution_count": 14,
   "metadata": {
    "collapsed": false
   },
   "outputs": [
    {
     "name": "stdout",
     "output_type": "stream",
     "text": [
      "[-0.33380492832994135, 0.16619507167005865, -0.00047159499660798243, 0.06619507167005867, 0.04119507167005865, 0.029831435306422294, 0.023337928812915743, 0.01913624814064685, 0.016195071670058625, 0.014021158626580377, 0.012348917823904793, 0.011022657876955222, 0.009945071670058647, 0.009052214527201508, 0.008300334827953337, 0.007658486304204959, 0.007104162579149587, 0.0066206035849523115, 0.006195071670058616, 0.005817713179492645, 0.005480785955772949, 0.005178122517516259, 0.004904749089413518, 0.0046566101315971276, 0.004430365787705726, 0.004223240684143148, 0.004032909507896476, 0.003857409332396311, 0.0036950716700586694, 0.003544469260420069, 0.0034043739956400865, 0.003273723355451952, 0.003151593409189135, 0.00303717693321659, 0.0029297655476097084, 0.002828735036395247, 0.0027335332085202113, 0.002643669800899806, 0.0025587080336949564, 0.0024782575107665794, 0.0024019682217827354, 0.0023295254515712793, 0.0022606454405504905, 0.0021950716700586126, 0.0021325716700586472, 0.002072934265478499, 0.002015967192446677, 0.001961495027722915, 0.00190935738434439, 0.0018594073343942696, 0.00181151002622304, 0.0017655414687163251, 0.0017213874595323198, 0.0016789426378005512, 0.0016381096447422028, 0.0015987983781331483, 0.0015609253285951974, 0.0015244129874238954, 0.0014891893171175008, 0.001455187276995118, 0.0014223443973313543, 0.00139060239631561, 0.0013599068348938426, 0.001330206805193801, 0.0013014546487820633, 0.0012736057014722801, 0.0012466180618112555, 0.0012204523807185508, 0.0011950716700586117]\n"
     ]
    }
   ],
   "source": [
    "residuals=[]\n",
    "for i in critical_slopes:\n",
    "    residuals.append(i - limit)\n",
    "print residuals\n",
    "    \n",
    "abs_residuals=[0]*len(residuals)\n",
    "for i in indeces(residuals): abs_residuals[i]=residuals[i]\n",
    "for i in indeces(residuals):\n",
    "    if residuals[i]<=0:\n",
    "        abs_residuals[i]*=-1\n",
    "        \n",
    "#print; print abs_residuals         #Uncomment to debug"
   ]
  },
  {
   "cell_type": "code",
   "execution_count": 20,
   "metadata": {
    "collapsed": false
   },
   "outputs": [
    {
     "data": {
      "image/png": "[encoded data removed]",
      "text/plain": [
       "<matplotlib.figure.Figure at 0x7f9659694250>"
      ]
     },
     "metadata": {},
     "output_type": "display_data"
    }
   ],
   "source": [
    "first=0                 #Default = 0\n",
    "last=None               #Default = None\n",
    "absolute_value='True'   \n",
    "\n",
    "if absolute_value == 'False':\n",
    "    plt.plot(indeces(residuals)[first:last],residuals[first:last]);\n",
    "if absolute_value == 'True':\n",
    "    plt.plot(indeces(abs_residuals)[first:last],abs_residuals[first:last]);\n",
    "\n",
    "plt.plot(indeces(residuals)[first:last],[0]*len(residuals[first:last]));\n",
    "\n",
    "#In this figure, I was hoping that perhaps the slope of each critical pair is always closer to the limit, but \n",
    "# that isn't the case. Here is a plot of the residuals, with an option set to plot in absolute value."
   ]
  },
  {
   "cell_type": "code",
   "execution_count": 16,
   "metadata": {
    "collapsed": false
   },
   "outputs": [
    {
     "data": {
      "image/png": "[encoded data removed]",
      "text/plain": [
       "<matplotlib.figure.Figure at 0x7f9656a87850>"
      ]
     },
     "metadata": {},
     "output_type": "display_data"
    }
   ],
   "source": [
    "#This tool charts the slopes of every pair of points in the sequence. note that there is less structure\n",
    "# here than in the critical slopes figure above, however these slopes also seem to approach the limit. \n",
    "\n",
    "all_slopes=[]\n",
    "for i in indeces(orderplot_a[:500]):\n",
    "    slope=float(orderplot_a[i][1]-orderplot_a[i+1][1])/(orderplot_a[i][0]-orderplot_a[i+1][0])\n",
    "    all_slopes.append(slope)\n",
    "    if i == len(orderplot_a)-2: break\n",
    "\n",
    "#print all_slopes         #uncomment to debug         \n",
    "    \n",
    "plt.plot(indeces(all_slopes),all_slopes);\n",
    "plt.plot(indeces(all_slopes),[limit]*len(all_slopes));"
   ]
  },
  {
   "cell_type": "code",
   "execution_count": null,
   "metadata": {
    "collapsed": true
   },
   "outputs": [],
   "source": []
  },
  {
   "cell_type": "code",
   "execution_count": null,
   "metadata": {
    "collapsed": true
   },
   "outputs": [],
   "source": []
  },
  {
   "cell_type": "code",
   "execution_count": null,
   "metadata": {
    "collapsed": true
   },
   "outputs": [],
   "source": []
  },
  {
   "cell_type": "code",
   "execution_count": null,
   "metadata": {
    "collapsed": true
   },
   "outputs": [],
   "source": []
  }
 ],
 "metadata": {
  "anaconda-cloud": {},
  "kernelspec": {
   "display_name": "Python [default]",
   "language": "python",
   "name": "python2"
  },
  "language_info": {
   "codemirror_mode": {
    "name": "ipython",
    "version": 2
   },
   "file_extension": ".py",
   "mimetype": "text/x-python",
   "name": "python",
   "nbconvert_exporter": "python",
   "pygments_lexer": "ipython2",
   "version": "2.7.12"
  }
 },
 "nbformat": 4,
 "nbformat_minor": 1
}
